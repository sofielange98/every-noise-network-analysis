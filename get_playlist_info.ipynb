{
 "cells": [
  {
   "cell_type": "code",
   "execution_count": null,
   "metadata": {},
   "outputs": [],
   "source": [
    "import spotipy\n",
    "import spotipy.oauth2 as oauth2\n",
    "import pandas as pd\n",
    "\n",
    "credentials = oauth2.SpotifyClientCredentials(\n",
    "        client_id='bc98f63798b24333bfe620e8b18f99e2',\n",
    "        client_secret='77491b6e4d4d47cfa4fc70d3686d5ee4')\n",
    "\n",
    "token = credentials.get_access_token()\n",
    "spotify = spotipy.Spotify(auth=token)"
   ]
  },
  {
   "cell_type": "code",
   "execution_count": 7,
   "metadata": {},
   "outputs": [
    {
     "data": {
      "text/html": [
       "<div>\n",
       "<style scoped>\n",
       "    .dataframe tbody tr th:only-of-type {\n",
       "        vertical-align: middle;\n",
       "    }\n",
       "\n",
       "    .dataframe tbody tr th {\n",
       "        vertical-align: top;\n",
       "    }\n",
       "\n",
       "    .dataframe thead th {\n",
       "        text-align: right;\n",
       "    }\n",
       "</style>\n",
       "<table border=\"1\" class=\"dataframe\">\n",
       "  <thead>\n",
       "    <tr style=\"text-align: right;\">\n",
       "      <th></th>\n",
       "      <th>Unnamed: 0</th>\n",
       "      <th>GENRE</th>\n",
       "      <th>SIM_GENRES</th>\n",
       "      <th>SIM_WEIGHTS</th>\n",
       "      <th>OPP_GENRES</th>\n",
       "      <th>OPP_WEIGHTS</th>\n",
       "      <th>REL_ARTISTS</th>\n",
       "      <th>ARTIST_WEIGHTS</th>\n",
       "      <th>SPOTIFY_URL</th>\n",
       "    </tr>\n",
       "  </thead>\n",
       "  <tbody>\n",
       "    <tr>\n",
       "      <th>0</th>\n",
       "      <td>0</td>\n",
       "      <td>backgroundmusic</td>\n",
       "      <td>['reiki', 'calminginstrumental', 'yoga', 'back...</td>\n",
       "      <td>['103', '120', '101', '240', '102', '125', '11...</td>\n",
       "      <td>['mahraganat', 'divahouse', 'oldschoolukhiphop...</td>\n",
       "      <td>['160', '100', '121', '110', '135', '136', '12...</td>\n",
       "      <td>['NoemiNucci', 'JuditheAbelsen', 'FabienneWill...</td>\n",
       "      <td>['113', '117', '106', '131', '109', '115', '11...</td>\n",
       "      <td>https://open.spotify.com/user/thesoundsofspoti...</td>\n",
       "    </tr>\n",
       "    <tr>\n",
       "      <th>1</th>\n",
       "      <td>1</td>\n",
       "      <td>classicmoroccanpop</td>\n",
       "      <td>['bluesrock', 'andalusianclassical', 'chaabima...</td>\n",
       "      <td>['103', '107', '109', '100', '102', '103', '10...</td>\n",
       "      <td>['shiverpop', 'gravewave', 'tassieindie', 'est...</td>\n",
       "      <td>['112', '112', '105', '102', '124', '100', '16...</td>\n",
       "      <td>['HajHusseinToulali', 'AbdelhadiBelkheyat', 'H...</td>\n",
       "      <td>['102', '103', '103', '108', '108', '102', '10...</td>\n",
       "      <td>https://open.spotify.com/user/thesoundsofspoti...</td>\n",
       "    </tr>\n",
       "    <tr>\n",
       "      <th>2</th>\n",
       "      <td>2</td>\n",
       "      <td>orthodoxchant</td>\n",
       "      <td>['universitychoir', 'polishchoir', 'ukrainianc...</td>\n",
       "      <td>['102', '105', '107', '104', '106', '240', '10...</td>\n",
       "      <td>['sambass', 'funkybreaks', 'hardbass', 'hardco...</td>\n",
       "      <td>['107', '110', '158', '100', '119', '111', '10...</td>\n",
       "      <td>['LegeArtis', 'PeterMichaelides', 'CapellaGreg...</td>\n",
       "      <td>['114', '100', '160', '127', '115', '115', '10...</td>\n",
       "      <td>https://open.spotify.com/user/thesoundsofspoti...</td>\n",
       "    </tr>\n",
       "    <tr>\n",
       "      <th>3</th>\n",
       "      <td>3</td>\n",
       "      <td>tar</td>\n",
       "      <td>['oud', 'persiantraditional', 'bansuri', 'tar'...</td>\n",
       "      <td>['106', '120', '101', '240', '103', '113', '10...</td>\n",
       "      <td>['happyhardcore', 'aggrotech', 'nightcore', 'b...</td>\n",
       "      <td>['109', '107', '127', '114', '115', '120', '12...</td>\n",
       "      <td>['KiyarashSaket', 'YusefForutan', 'HamidMoteba...</td>\n",
       "      <td>['100', '100', '111', '100', '100', '100', '10...</td>\n",
       "      <td>https://open.spotify.com/user/thesoundsofspoti...</td>\n",
       "    </tr>\n",
       "    <tr>\n",
       "      <th>4</th>\n",
       "      <td>4</td>\n",
       "      <td>reggae</td>\n",
       "      <td>['dancehall', 'brazilianreggae', 'skarevival',...</td>\n",
       "      <td>['109', '105', '114', '101', '100', '127', '11...</td>\n",
       "      <td>['brazilianlo-firock', 'martialindustrial', 'p...</td>\n",
       "      <td>['106', '107', '155', '121', '160', '108', '14...</td>\n",
       "      <td>['TheItals', 'MykalRose', 'JohnnieClark', 'Asw...</td>\n",
       "      <td>['101', '102', '100', '105', '101', '105', '10...</td>\n",
       "      <td>https://open.spotify.com/user/thesoundsofspoti...</td>\n",
       "    </tr>\n",
       "  </tbody>\n",
       "</table>\n",
       "</div>"
      ],
      "text/plain": [
       "   Unnamed: 0               GENRE  \\\n",
       "0           0     backgroundmusic   \n",
       "1           1  classicmoroccanpop   \n",
       "2           2       orthodoxchant   \n",
       "3           3                 tar   \n",
       "4           4              reggae   \n",
       "\n",
       "                                          SIM_GENRES  \\\n",
       "0  ['reiki', 'calminginstrumental', 'yoga', 'back...   \n",
       "1  ['bluesrock', 'andalusianclassical', 'chaabima...   \n",
       "2  ['universitychoir', 'polishchoir', 'ukrainianc...   \n",
       "3  ['oud', 'persiantraditional', 'bansuri', 'tar'...   \n",
       "4  ['dancehall', 'brazilianreggae', 'skarevival',...   \n",
       "\n",
       "                                         SIM_WEIGHTS  \\\n",
       "0  ['103', '120', '101', '240', '102', '125', '11...   \n",
       "1  ['103', '107', '109', '100', '102', '103', '10...   \n",
       "2  ['102', '105', '107', '104', '106', '240', '10...   \n",
       "3  ['106', '120', '101', '240', '103', '113', '10...   \n",
       "4  ['109', '105', '114', '101', '100', '127', '11...   \n",
       "\n",
       "                                          OPP_GENRES  \\\n",
       "0  ['mahraganat', 'divahouse', 'oldschoolukhiphop...   \n",
       "1  ['shiverpop', 'gravewave', 'tassieindie', 'est...   \n",
       "2  ['sambass', 'funkybreaks', 'hardbass', 'hardco...   \n",
       "3  ['happyhardcore', 'aggrotech', 'nightcore', 'b...   \n",
       "4  ['brazilianlo-firock', 'martialindustrial', 'p...   \n",
       "\n",
       "                                         OPP_WEIGHTS  \\\n",
       "0  ['160', '100', '121', '110', '135', '136', '12...   \n",
       "1  ['112', '112', '105', '102', '124', '100', '16...   \n",
       "2  ['107', '110', '158', '100', '119', '111', '10...   \n",
       "3  ['109', '107', '127', '114', '115', '120', '12...   \n",
       "4  ['106', '107', '155', '121', '160', '108', '14...   \n",
       "\n",
       "                                         REL_ARTISTS  \\\n",
       "0  ['NoemiNucci', 'JuditheAbelsen', 'FabienneWill...   \n",
       "1  ['HajHusseinToulali', 'AbdelhadiBelkheyat', 'H...   \n",
       "2  ['LegeArtis', 'PeterMichaelides', 'CapellaGreg...   \n",
       "3  ['KiyarashSaket', 'YusefForutan', 'HamidMoteba...   \n",
       "4  ['TheItals', 'MykalRose', 'JohnnieClark', 'Asw...   \n",
       "\n",
       "                                      ARTIST_WEIGHTS  \\\n",
       "0  ['113', '117', '106', '131', '109', '115', '11...   \n",
       "1  ['102', '103', '103', '108', '108', '102', '10...   \n",
       "2  ['114', '100', '160', '127', '115', '115', '10...   \n",
       "3  ['100', '100', '111', '100', '100', '100', '10...   \n",
       "4  ['101', '102', '100', '105', '101', '105', '10...   \n",
       "\n",
       "                                         SPOTIFY_URL  \n",
       "0  https://open.spotify.com/user/thesoundsofspoti...  \n",
       "1  https://open.spotify.com/user/thesoundsofspoti...  \n",
       "2  https://open.spotify.com/user/thesoundsofspoti...  \n",
       "3  https://open.spotify.com/user/thesoundsofspoti...  \n",
       "4  https://open.spotify.com/user/thesoundsofspoti...  "
      ]
     },
     "execution_count": 7,
     "metadata": {},
     "output_type": "execute_result"
    }
   ],
   "source": [
    "measure_features = ['danceability', 'energy', 'key', 'loudness', \n",
    "                    'mode', 'speechiness', 'acousticness', 'instrumentalness', \n",
    "                    'liveness', 'valence', 'tempo', 'time_signature']\n",
    "\n",
    "genres = pd.read_csv('all_genres.csv')\n",
    "genres.head()"
   ]
  },
  {
   "cell_type": "code",
   "execution_count": 8,
   "metadata": {},
   "outputs": [],
   "source": [
    "genres['PLAY_ID'] = genres['SPOTIFY_URL'].map(lambda s: s.split('playlist')[1][1:])"
   ]
  },
  {
   "cell_type": "code",
   "execution_count": 9,
   "metadata": {},
   "outputs": [],
   "source": [
    "base = 'https://api.spotify.com/v1/'"
   ]
  },
  {
   "cell_type": "code",
   "execution_count": 4,
   "metadata": {},
   "outputs": [],
   "source": [
    "def get_tids(play_id):\n",
    "    url = base+'playlists/'+play_id+'/tracks'\n",
    "    playlist_tracks = spotify._get(url = url)\n",
    "    tids = []\n",
    "    for track in playlist_tracks['items']:\n",
    "        try:\n",
    "            tids.append(track['track']['id'])\n",
    "        except:\n",
    "            pass\n",
    "    return tids\n"
   ]
  },
  {
   "cell_type": "code",
   "execution_count": 5,
   "metadata": {},
   "outputs": [],
   "source": [
    "def get_avg_features(df):\n",
    "    rows = []\n",
    "    dicts = []\n",
    "    for playlist in df['PLAY_ID'].values:\n",
    "        print(playlist, len(rows))\n",
    "        tids = get_tids(playlist)\n",
    "        url = base+'audio-features/?ids=' + ','.join(tids)\n",
    "        audio = spotify._get(url = url)\n",
    "        try:\n",
    "            df = pd.DataFrame(audio['audio_features'])\n",
    "            df = df[measure_features]\n",
    "            feature_means = df.describe().loc['mean']\n",
    "        except:\n",
    "            audio_feature_list = [i for i in audio['audio_features'] if i]\n",
    "            df = pd.DataFrame(audio_feature_list)\n",
    "            df = df[measure_features]\n",
    "            feature_means = df.describe().loc['mean']\n",
    "            feature_means = pd.Series({k:-1 for k in measure_features})\n",
    "        dicts.append(feature_means.to_dict()) \n",
    "        feature_means.name = playlist\n",
    "        rows.append(feature_means)\n",
    "        if len(rows)%100 == 0:\n",
    "            print('Covered {} rows'.format(len(rows)))\n",
    "    return rows,dicts"
   ]
  },
  {
   "cell_type": "code",
   "execution_count": null,
   "metadata": {},
   "outputs": [],
   "source": [
    "test = genres.head(20)\n",
    "rows, dicts = get_avg_features(test)\n",
    "test['PLAYLIST_FEATURES'] = dicts\n",
    "avg_features = pd.DataFrame(rows)\n",
    "avg_features"
   ]
  },
  {
   "cell_type": "code",
   "execution_count": null,
   "metadata": {},
   "outputs": [],
   "source": [
    "len(genres)"
   ]
  },
  {
   "cell_type": "code",
   "execution_count": null,
   "metadata": {},
   "outputs": [],
   "source": [
    "chunk1 = genres.head(1000)\n",
    "chunk2 = genres.head(2000).tail(1000)\n",
    "chunk3 = genres.head(3000).tail(1000)\n",
    "chunk4 = genres.tail(652)"
   ]
  },
  {
   "cell_type": "code",
   "execution_count": null,
   "metadata": {},
   "outputs": [],
   "source": [
    "rows, dicts = get_avg_features(chunk1)"
   ]
  },
  {
   "cell_type": "code",
   "execution_count": null,
   "metadata": {},
   "outputs": [],
   "source": [
    "rows2, dicts2 = get_avg_features(chunk2)"
   ]
  },
  {
   "cell_type": "code",
   "execution_count": null,
   "metadata": {},
   "outputs": [],
   "source": [
    "rows3, dicts3 = get_avg_features(chunk3)"
   ]
  },
  {
   "cell_type": "code",
   "execution_count": null,
   "metadata": {},
   "outputs": [],
   "source": [
    "rows4, dicts4 = get_avg_features(chunk4)"
   ]
  },
  {
   "cell_type": "code",
   "execution_count": null,
   "metadata": {},
   "outputs": [],
   "source": [
    "all_dicts = dicts + dicts2 + dicts3 + dicts4"
   ]
  },
  {
   "cell_type": "code",
   "execution_count": null,
   "metadata": {},
   "outputs": [],
   "source": [
    "all_rows = rows + rows2 + rows3 + rows4\n",
    "df = pd.DataFrame(all_rows)\n",
    "df"
   ]
  },
  {
   "cell_type": "code",
   "execution_count": null,
   "metadata": {},
   "outputs": [],
   "source": [
    "df.to_csv('play_id_to_features.csv')"
   ]
  }
 ],
 "metadata": {
  "kernelspec": {
   "display_name": "Python 3",
   "language": "python",
   "name": "python3"
  },
  "language_info": {
   "codemirror_mode": {
    "name": "ipython",
    "version": 3
   },
   "file_extension": ".py",
   "mimetype": "text/x-python",
   "name": "python",
   "nbconvert_exporter": "python",
   "pygments_lexer": "ipython3",
   "version": "3.7.5"
  }
 },
 "nbformat": 4,
 "nbformat_minor": 2
}
