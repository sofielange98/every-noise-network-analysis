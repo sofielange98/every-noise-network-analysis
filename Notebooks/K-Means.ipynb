{
 "cells": [
  {
   "cell_type": "markdown",
   "metadata": {},
   "source": [
    "# K-Means with limited number of features and only 50 top genres"
   ]
  },
  {
   "cell_type": "code",
   "execution_count": 1,
   "metadata": {},
   "outputs": [
    {
     "data": {
      "text/html": [
       "<div>\n",
       "<style scoped>\n",
       "    .dataframe tbody tr th:only-of-type {\n",
       "        vertical-align: middle;\n",
       "    }\n",
       "\n",
       "    .dataframe tbody tr th {\n",
       "        vertical-align: top;\n",
       "    }\n",
       "\n",
       "    .dataframe thead th {\n",
       "        text-align: right;\n",
       "    }\n",
       "</style>\n",
       "<table border=\"1\" class=\"dataframe\">\n",
       "  <thead>\n",
       "    <tr style=\"text-align: right;\">\n",
       "      <th></th>\n",
       "      <th>0</th>\n",
       "      <th>1</th>\n",
       "    </tr>\n",
       "  </thead>\n",
       "  <tbody>\n",
       "    <tr>\n",
       "      <th>0</th>\n",
       "      <td>pop</td>\n",
       "      <td>1885.0</td>\n",
       "    </tr>\n",
       "    <tr>\n",
       "      <th>1</th>\n",
       "      <td>poprap</td>\n",
       "      <td>1864.0</td>\n",
       "    </tr>\n",
       "    <tr>\n",
       "      <th>2</th>\n",
       "      <td>hiphop</td>\n",
       "      <td>1557.0</td>\n",
       "    </tr>\n",
       "    <tr>\n",
       "      <th>3</th>\n",
       "      <td>rap</td>\n",
       "      <td>1511.0</td>\n",
       "    </tr>\n",
       "    <tr>\n",
       "      <th>4</th>\n",
       "      <td>southernhiphop</td>\n",
       "      <td>1196.0</td>\n",
       "    </tr>\n",
       "  </tbody>\n",
       "</table>\n",
       "</div>"
      ],
      "text/plain": [
       "                0       1\n",
       "0             pop  1885.0\n",
       "1          poprap  1864.0\n",
       "2          hiphop  1557.0\n",
       "3             rap  1511.0\n",
       "4  southernhiphop  1196.0"
      ]
     },
     "execution_count": 1,
     "metadata": {},
     "output_type": "execute_result"
    }
   ],
   "source": [
    "import pandas as pd\n",
    "import numpy as np\n",
    "from sklearn.cluster import KMeans\n",
    "import matplotlib.pyplot as plt\n",
    "from scipy.spatial.distance import cdist\n",
    "\n",
    "top_genres = pd.read_csv('top_genres_scored.csv', header = None)\n",
    "\n",
    "top_genres.head()"
   ]
  },
  {
   "cell_type": "code",
   "execution_count": 2,
   "metadata": {},
   "outputs": [
    {
     "data": {
      "text/html": [
       "<div>\n",
       "<style scoped>\n",
       "    .dataframe tbody tr th:only-of-type {\n",
       "        vertical-align: middle;\n",
       "    }\n",
       "\n",
       "    .dataframe tbody tr th {\n",
       "        vertical-align: top;\n",
       "    }\n",
       "\n",
       "    .dataframe thead th {\n",
       "        text-align: right;\n",
       "    }\n",
       "</style>\n",
       "<table border=\"1\" class=\"dataframe\">\n",
       "  <thead>\n",
       "    <tr style=\"text-align: right;\">\n",
       "      <th></th>\n",
       "      <th>0</th>\n",
       "      <th>1</th>\n",
       "    </tr>\n",
       "  </thead>\n",
       "  <tbody>\n",
       "    <tr>\n",
       "      <th>70</th>\n",
       "      <td>alternativeemo</td>\n",
       "      <td>97.0</td>\n",
       "    </tr>\n",
       "    <tr>\n",
       "      <th>71</th>\n",
       "      <td>traplatino</td>\n",
       "      <td>94.0</td>\n",
       "    </tr>\n",
       "    <tr>\n",
       "      <th>72</th>\n",
       "      <td>tropical</td>\n",
       "      <td>93.0</td>\n",
       "    </tr>\n",
       "    <tr>\n",
       "      <th>73</th>\n",
       "      <td>indiepoprap</td>\n",
       "      <td>93.0</td>\n",
       "    </tr>\n",
       "    <tr>\n",
       "      <th>74</th>\n",
       "      <td>reggaerock</td>\n",
       "      <td>87.0</td>\n",
       "    </tr>\n",
       "  </tbody>\n",
       "</table>\n",
       "</div>"
      ],
      "text/plain": [
       "                 0     1\n",
       "70  alternativeemo  97.0\n",
       "71      traplatino  94.0\n",
       "72        tropical  93.0\n",
       "73     indiepoprap  93.0\n",
       "74      reggaerock  87.0"
      ]
     },
     "execution_count": 2,
     "metadata": {},
     "output_type": "execute_result"
    }
   ],
   "source": [
    "top_genres.tail()"
   ]
  },
  {
   "cell_type": "code",
   "execution_count": 3,
   "metadata": {},
   "outputs": [],
   "source": [
    "play_features = pd.read_csv('play_id_to_features.csv')\n",
    "genre_names = pd.read_csv('all_genres.csv')\n",
    "\n",
    "genre_names['PLAY_ID'] = genre_names['SPOTIFY_URL'].map(lambda s: s.split('playlist')[1][1:])"
   ]
  },
  {
   "cell_type": "code",
   "execution_count": 4,
   "metadata": {},
   "outputs": [],
   "source": [
    "sub = genre_names[['GENRE','PLAY_ID']]"
   ]
  },
  {
   "cell_type": "code",
   "execution_count": 5,
   "metadata": {},
   "outputs": [],
   "source": [
    "sub = sub.set_index('PLAY_ID')"
   ]
  },
  {
   "cell_type": "code",
   "execution_count": 6,
   "metadata": {},
   "outputs": [],
   "source": [
    "play_features = play_features.set_index('Unnamed: 0')"
   ]
  },
  {
   "cell_type": "code",
   "execution_count": 7,
   "metadata": {},
   "outputs": [
    {
     "data": {
      "text/html": [
       "<div>\n",
       "<style scoped>\n",
       "    .dataframe tbody tr th:only-of-type {\n",
       "        vertical-align: middle;\n",
       "    }\n",
       "\n",
       "    .dataframe tbody tr th {\n",
       "        vertical-align: top;\n",
       "    }\n",
       "\n",
       "    .dataframe thead th {\n",
       "        text-align: right;\n",
       "    }\n",
       "</style>\n",
       "<table border=\"1\" class=\"dataframe\">\n",
       "  <thead>\n",
       "    <tr style=\"text-align: right;\">\n",
       "      <th></th>\n",
       "      <th>danceability</th>\n",
       "      <th>energy</th>\n",
       "      <th>key</th>\n",
       "      <th>loudness</th>\n",
       "      <th>mode</th>\n",
       "      <th>speechiness</th>\n",
       "      <th>acousticness</th>\n",
       "      <th>instrumentalness</th>\n",
       "      <th>liveness</th>\n",
       "      <th>valence</th>\n",
       "      <th>tempo</th>\n",
       "      <th>time_signature</th>\n",
       "      <th>genre</th>\n",
       "    </tr>\n",
       "    <tr>\n",
       "      <th>Unnamed: 0</th>\n",
       "      <th></th>\n",
       "      <th></th>\n",
       "      <th></th>\n",
       "      <th></th>\n",
       "      <th></th>\n",
       "      <th></th>\n",
       "      <th></th>\n",
       "      <th></th>\n",
       "      <th></th>\n",
       "      <th></th>\n",
       "      <th></th>\n",
       "      <th></th>\n",
       "      <th></th>\n",
       "    </tr>\n",
       "  </thead>\n",
       "  <tbody>\n",
       "    <tr>\n",
       "      <th>2JsqQdMbBC2hh7GjsEjKFg</th>\n",
       "      <td>0.222149</td>\n",
       "      <td>0.073075</td>\n",
       "      <td>4.38</td>\n",
       "      <td>-25.78303</td>\n",
       "      <td>0.66</td>\n",
       "      <td>0.041801</td>\n",
       "      <td>0.922340</td>\n",
       "      <td>0.899800</td>\n",
       "      <td>0.118957</td>\n",
       "      <td>0.095634</td>\n",
       "      <td>92.38971</td>\n",
       "      <td>3.60</td>\n",
       "      <td>backgroundmusic</td>\n",
       "    </tr>\n",
       "    <tr>\n",
       "      <th>2SoQc6bippmMyUTn1qditv</th>\n",
       "      <td>0.525410</td>\n",
       "      <td>0.645390</td>\n",
       "      <td>4.22</td>\n",
       "      <td>-9.24089</td>\n",
       "      <td>0.72</td>\n",
       "      <td>0.083043</td>\n",
       "      <td>0.468130</td>\n",
       "      <td>0.066672</td>\n",
       "      <td>0.282273</td>\n",
       "      <td>0.695130</td>\n",
       "      <td>119.71814</td>\n",
       "      <td>3.55</td>\n",
       "      <td>classicmoroccanpop</td>\n",
       "    </tr>\n",
       "    <tr>\n",
       "      <th>1KZMCWImik3vA17zVLJ3c3</th>\n",
       "      <td>0.213119</td>\n",
       "      <td>0.166708</td>\n",
       "      <td>5.39</td>\n",
       "      <td>-18.83644</td>\n",
       "      <td>0.56</td>\n",
       "      <td>0.039690</td>\n",
       "      <td>0.966740</td>\n",
       "      <td>0.210298</td>\n",
       "      <td>0.152561</td>\n",
       "      <td>0.144698</td>\n",
       "      <td>102.87562</td>\n",
       "      <td>3.69</td>\n",
       "      <td>orthodoxchant</td>\n",
       "    </tr>\n",
       "    <tr>\n",
       "      <th>1i9zTcQqWUBTgIuCgxDW3S</th>\n",
       "      <td>0.439940</td>\n",
       "      <td>0.348418</td>\n",
       "      <td>5.05</td>\n",
       "      <td>-12.84006</td>\n",
       "      <td>0.71</td>\n",
       "      <td>0.055323</td>\n",
       "      <td>0.896280</td>\n",
       "      <td>0.855150</td>\n",
       "      <td>0.141858</td>\n",
       "      <td>0.396229</td>\n",
       "      <td>107.26951</td>\n",
       "      <td>3.60</td>\n",
       "      <td>tar</td>\n",
       "    </tr>\n",
       "    <tr>\n",
       "      <th>0TcXdt4sbITbwCwwFbKYyd</th>\n",
       "      <td>0.789310</td>\n",
       "      <td>0.518160</td>\n",
       "      <td>5.14</td>\n",
       "      <td>-10.01960</td>\n",
       "      <td>0.53</td>\n",
       "      <td>0.133222</td>\n",
       "      <td>0.148952</td>\n",
       "      <td>0.111601</td>\n",
       "      <td>0.148528</td>\n",
       "      <td>0.736290</td>\n",
       "      <td>118.49993</td>\n",
       "      <td>4.00</td>\n",
       "      <td>reggae</td>\n",
       "    </tr>\n",
       "  </tbody>\n",
       "</table>\n",
       "</div>"
      ],
      "text/plain": [
       "                        danceability    energy   key  loudness  mode  \\\n",
       "Unnamed: 0                                                             \n",
       "2JsqQdMbBC2hh7GjsEjKFg      0.222149  0.073075  4.38 -25.78303  0.66   \n",
       "2SoQc6bippmMyUTn1qditv      0.525410  0.645390  4.22  -9.24089  0.72   \n",
       "1KZMCWImik3vA17zVLJ3c3      0.213119  0.166708  5.39 -18.83644  0.56   \n",
       "1i9zTcQqWUBTgIuCgxDW3S      0.439940  0.348418  5.05 -12.84006  0.71   \n",
       "0TcXdt4sbITbwCwwFbKYyd      0.789310  0.518160  5.14 -10.01960  0.53   \n",
       "\n",
       "                        speechiness  acousticness  instrumentalness  liveness  \\\n",
       "Unnamed: 0                                                                      \n",
       "2JsqQdMbBC2hh7GjsEjKFg     0.041801      0.922340          0.899800  0.118957   \n",
       "2SoQc6bippmMyUTn1qditv     0.083043      0.468130          0.066672  0.282273   \n",
       "1KZMCWImik3vA17zVLJ3c3     0.039690      0.966740          0.210298  0.152561   \n",
       "1i9zTcQqWUBTgIuCgxDW3S     0.055323      0.896280          0.855150  0.141858   \n",
       "0TcXdt4sbITbwCwwFbKYyd     0.133222      0.148952          0.111601  0.148528   \n",
       "\n",
       "                         valence      tempo  time_signature  \\\n",
       "Unnamed: 0                                                    \n",
       "2JsqQdMbBC2hh7GjsEjKFg  0.095634   92.38971            3.60   \n",
       "2SoQc6bippmMyUTn1qditv  0.695130  119.71814            3.55   \n",
       "1KZMCWImik3vA17zVLJ3c3  0.144698  102.87562            3.69   \n",
       "1i9zTcQqWUBTgIuCgxDW3S  0.396229  107.26951            3.60   \n",
       "0TcXdt4sbITbwCwwFbKYyd  0.736290  118.49993            4.00   \n",
       "\n",
       "                                     genre  \n",
       "Unnamed: 0                                  \n",
       "2JsqQdMbBC2hh7GjsEjKFg     backgroundmusic  \n",
       "2SoQc6bippmMyUTn1qditv  classicmoroccanpop  \n",
       "1KZMCWImik3vA17zVLJ3c3       orthodoxchant  \n",
       "1i9zTcQqWUBTgIuCgxDW3S                 tar  \n",
       "0TcXdt4sbITbwCwwFbKYyd              reggae  "
      ]
     },
     "execution_count": 7,
     "metadata": {},
     "output_type": "execute_result"
    }
   ],
   "source": [
    "# play_features['genre'] = sub\n",
    "play_features.head()"
   ]
  },
  {
   "cell_type": "code",
   "execution_count": 8,
   "metadata": {},
   "outputs": [
    {
     "data": {
      "text/plain": [
       "Unnamed: 0\n",
       "2JsqQdMbBC2hh7GjsEjKFg    0.158891\n",
       "2SoQc6bippmMyUTn1qditv    0.610270\n",
       "1KZMCWImik3vA17zVLJ3c3    0.178908\n",
       "1i9zTcQqWUBTgIuCgxDW3S    0.418085\n",
       "0TcXdt4sbITbwCwwFbKYyd    0.762800\n",
       "                            ...   \n",
       "5kAulE1JAusA4SlfP0OjYG    0.231457\n",
       "42dGKCvDkq9aLYNzKwatSu    0.669026\n",
       "4hdX1gS6iDhWw0ll0VBBxU    0.509804\n",
       "69AS6y3vT3IRvzBiPwvqP9    0.213247\n",
       "02OGpAADCHQbMhxilfo320    0.566797\n",
       "Length: 3652, dtype: float64"
      ]
     },
     "execution_count": 8,
     "metadata": {},
     "output_type": "execute_result"
    }
   ],
   "source": [
    "(play_features['danceability'] + play_features['valence'])/2"
   ]
  },
  {
   "cell_type": "code",
   "execution_count": 9,
   "metadata": {},
   "outputs": [],
   "source": [
    "play_features.to_csv('top_playlists_with_features.csv')"
   ]
  },
  {
   "cell_type": "code",
   "execution_count": 10,
   "metadata": {},
   "outputs": [],
   "source": [
    "play_features = play_features.set_index('genre')"
   ]
  },
  {
   "cell_type": "code",
   "execution_count": 11,
   "metadata": {},
   "outputs": [],
   "source": [
    "play_features = play_features.loc[top_genres[0].values]"
   ]
  },
  {
   "cell_type": "code",
   "execution_count": 12,
   "metadata": {},
   "outputs": [],
   "source": [
    "play_features['dance_valence'] = (play_features['danceability'] + play_features['valence'])/2\n",
    "play_features['loudness'] = (play_features['loudness'] - play_features['loudness'].mean())/play_features['loudness'].std()\n",
    "play_features['key'] = (play_features['key'] - play_features['key'].mean())/play_features['key'].std()\n",
    "play_features['tempo'] = (play_features['tempo'] - play_features['tempo'].mean())/play_features['tempo'].std()"
   ]
  },
  {
   "cell_type": "code",
   "execution_count": 13,
   "metadata": {},
   "outputs": [
    {
     "data": {
      "image/png": "[encoded data removed]",
      "text/plain": [
       "<Figure size 432x288 with 1 Axes>"
      ]
     },
     "metadata": {
      "needs_background": "light"
     },
     "output_type": "display_data"
    }
   ],
   "source": [
    "# https://pythonprogramminglanguage.com/kmeans-elbow-method/\n",
    "# create new plot and data\n",
    "plt.plot()\n",
    "colors = ['b', 'g', 'r']\n",
    "markers = ['o', 'v', 's']\n",
    "\n",
    "X = play_features[['dance_valence', 'key', 'loudness','tempo','energy']].to_numpy()\n",
    "\n",
    "# k means determine k\n",
    "distortions = []\n",
    "K = range(1,10)\n",
    "for k in K:\n",
    "    kmeanModel = KMeans(n_clusters=k).fit(X)\n",
    "    kmeanModel.fit(X)\n",
    "    distortions.append(sum(np.min(cdist(X, kmeanModel.cluster_centers_, 'euclidean'), axis=1)) / X.shape[0])\n",
    "\n",
    "# Plot the elbow\n",
    "plt.plot(K, distortions, 'bx-')\n",
    "plt.xlabel('k')\n",
    "plt.ylabel('Distortion')\n",
    "plt.title('The Elbow Method showing the optimal k')\n",
    "plt.savefig('K-means-elbow.png')\n",
    "plt.show()"
   ]
  },
  {
   "cell_type": "code",
   "execution_count": 18,
   "metadata": {},
   "outputs": [],
   "source": [
    "kmeans = KMeans(n_clusters=5, random_state=0).fit(X)"
   ]
  },
  {
   "cell_type": "code",
   "execution_count": 19,
   "metadata": {},
   "outputs": [],
   "source": [
    "sample = play_features.copy()\n",
    "sample['cluster'] = kmeans.labels_"
   ]
  },
  {
   "cell_type": "code",
   "execution_count": 20,
   "metadata": {},
   "outputs": [],
   "source": [
    "from mpl_toolkits.mplot3d import Axes3D  # noqa: F401 unused import\n",
    "%matplotlib inline\n",
    "import matplotlib.pyplot as plt\n",
    "\n",
    "def plot_3d(f1, f2, f3, sample, colors):\n",
    "    fig = plt.figure()\n",
    "    ax = fig.add_subplot(111, projection='3d')\n",
    "\n",
    "    xs = sample[f1]\n",
    "    ys = sample[f2]\n",
    "    zs = sample[f3]\n",
    "\n",
    "    ax.scatter(xs, ys, zs, color = colors)\n",
    "\n",
    "    ax.set_xlabel(f1)\n",
    "    ax.set_ylabel(f2)\n",
    "    ax.set_zlabel(f3)\n",
    "\n",
    "    plt.show()"
   ]
  },
  {
   "cell_type": "code",
   "execution_count": 21,
   "metadata": {},
   "outputs": [
    {
     "data": {
      "image/png": "[encoded data removed]",
      "text/plain": [
       "<Figure size 432x288 with 1 Axes>"
      ]
     },
     "metadata": {
      "needs_background": "light"
     },
     "output_type": "display_data"
    }
   ],
   "source": [
    "import matplotlib.pyplot as plt\n",
    "color_map = {\n",
    "    0: 'blue',\n",
    "    1: 'red',\n",
    "    2: 'green',\n",
    "    3: 'orange',\n",
    "    4: 'black',\n",
    "    5: 'yellow',\n",
    "    6: 'pink'\n",
    "}\n",
    "colors = sample['cluster'].map(color_map)\n",
    "# 'dance_valence', 'key', 'loudness','tempo','energy']\n",
    "plot_3d('dance_valence', 'key', 'loudness', sample, colors)"
   ]
  },
  {
   "cell_type": "code",
   "execution_count": 22,
   "metadata": {},
   "outputs": [],
   "source": [
    "kmeans = KMeans(n_clusters=7, random_state=0).fit(X)"
   ]
  },
  {
   "cell_type": "code",
   "execution_count": 23,
   "metadata": {},
   "outputs": [],
   "source": [
    "sample = play_features.copy()\n",
    "sample['cluster'] = kmeans.labels_"
   ]
  },
  {
   "cell_type": "code",
   "execution_count": 24,
   "metadata": {},
   "outputs": [
    {
     "data": {
      "text/html": [
       "<div>\n",
       "<style scoped>\n",
       "    .dataframe tbody tr th:only-of-type {\n",
       "        vertical-align: middle;\n",
       "    }\n",
       "\n",
       "    .dataframe tbody tr th {\n",
       "        vertical-align: top;\n",
       "    }\n",
       "\n",
       "    .dataframe thead th {\n",
       "        text-align: right;\n",
       "    }\n",
       "</style>\n",
       "<table border=\"1\" class=\"dataframe\">\n",
       "  <thead>\n",
       "    <tr style=\"text-align: right;\">\n",
       "      <th></th>\n",
       "      <th>danceability</th>\n",
       "      <th>energy</th>\n",
       "      <th>key</th>\n",
       "      <th>loudness</th>\n",
       "      <th>mode</th>\n",
       "      <th>speechiness</th>\n",
       "      <th>acousticness</th>\n",
       "      <th>instrumentalness</th>\n",
       "      <th>liveness</th>\n",
       "      <th>valence</th>\n",
       "      <th>tempo</th>\n",
       "      <th>time_signature</th>\n",
       "      <th>dance_valence</th>\n",
       "      <th>cluster</th>\n",
       "    </tr>\n",
       "    <tr>\n",
       "      <th>genre</th>\n",
       "      <th></th>\n",
       "      <th></th>\n",
       "      <th></th>\n",
       "      <th></th>\n",
       "      <th></th>\n",
       "      <th></th>\n",
       "      <th></th>\n",
       "      <th></th>\n",
       "      <th></th>\n",
       "      <th></th>\n",
       "      <th></th>\n",
       "      <th></th>\n",
       "      <th></th>\n",
       "      <th></th>\n",
       "    </tr>\n",
       "  </thead>\n",
       "  <tbody>\n",
       "    <tr>\n",
       "      <th>southernhiphop</th>\n",
       "      <td>0.759840</td>\n",
       "      <td>0.671800</td>\n",
       "      <td>0.715167</td>\n",
       "      <td>0.639746</td>\n",
       "      <td>0.560000</td>\n",
       "      <td>0.194384</td>\n",
       "      <td>0.088992</td>\n",
       "      <td>0.000287</td>\n",
       "      <td>0.180445</td>\n",
       "      <td>0.541636</td>\n",
       "      <td>0.643147</td>\n",
       "      <td>3.980000</td>\n",
       "      <td>0.650738</td>\n",
       "      <td>0</td>\n",
       "    </tr>\n",
       "    <tr>\n",
       "      <th>electropop</th>\n",
       "      <td>0.660160</td>\n",
       "      <td>0.627720</td>\n",
       "      <td>0.715167</td>\n",
       "      <td>0.337683</td>\n",
       "      <td>0.560000</td>\n",
       "      <td>0.070607</td>\n",
       "      <td>0.222024</td>\n",
       "      <td>0.037668</td>\n",
       "      <td>0.152950</td>\n",
       "      <td>0.490414</td>\n",
       "      <td>-0.037223</td>\n",
       "      <td>4.040000</td>\n",
       "      <td>0.575287</td>\n",
       "      <td>0</td>\n",
       "    </tr>\n",
       "    <tr>\n",
       "      <th>countryroad</th>\n",
       "      <td>0.582900</td>\n",
       "      <td>0.706740</td>\n",
       "      <td>0.937982</td>\n",
       "      <td>0.691418</td>\n",
       "      <td>0.940000</td>\n",
       "      <td>0.043092</td>\n",
       "      <td>0.211440</td>\n",
       "      <td>0.000269</td>\n",
       "      <td>0.178728</td>\n",
       "      <td>0.577140</td>\n",
       "      <td>1.219335</td>\n",
       "      <td>3.940000</td>\n",
       "      <td>0.580020</td>\n",
       "      <td>0</td>\n",
       "    </tr>\n",
       "    <tr>\n",
       "      <th>dancepop</th>\n",
       "      <td>0.694240</td>\n",
       "      <td>0.734120</td>\n",
       "      <td>1.355760</td>\n",
       "      <td>1.008751</td>\n",
       "      <td>0.560000</td>\n",
       "      <td>0.074673</td>\n",
       "      <td>0.113860</td>\n",
       "      <td>0.013701</td>\n",
       "      <td>0.165191</td>\n",
       "      <td>0.584726</td>\n",
       "      <td>-0.222651</td>\n",
       "      <td>3.970000</td>\n",
       "      <td>0.639483</td>\n",
       "      <td>0</td>\n",
       "    </tr>\n",
       "    <tr>\n",
       "      <th>anthemworship</th>\n",
       "      <td>0.434310</td>\n",
       "      <td>0.532010</td>\n",
       "      <td>1.578575</td>\n",
       "      <td>-0.571704</td>\n",
       "      <td>0.910000</td>\n",
       "      <td>0.041484</td>\n",
       "      <td>0.292087</td>\n",
       "      <td>0.007803</td>\n",
       "      <td>0.196804</td>\n",
       "      <td>0.246033</td>\n",
       "      <td>0.091461</td>\n",
       "      <td>3.870000</td>\n",
       "      <td>0.340171</td>\n",
       "      <td>0</td>\n",
       "    </tr>\n",
       "    <tr>\n",
       "      <th>worship</th>\n",
       "      <td>0.437570</td>\n",
       "      <td>0.557394</td>\n",
       "      <td>0.798723</td>\n",
       "      <td>-0.370421</td>\n",
       "      <td>0.920000</td>\n",
       "      <td>0.039845</td>\n",
       "      <td>0.274097</td>\n",
       "      <td>0.001916</td>\n",
       "      <td>0.211811</td>\n",
       "      <td>0.297648</td>\n",
       "      <td>0.417400</td>\n",
       "      <td>3.830000</td>\n",
       "      <td>0.367609</td>\n",
       "      <td>0</td>\n",
       "    </tr>\n",
       "    <tr>\n",
       "      <th>texascountry</th>\n",
       "      <td>0.545760</td>\n",
       "      <td>0.619401</td>\n",
       "      <td>0.687316</td>\n",
       "      <td>-0.166720</td>\n",
       "      <td>0.910000</td>\n",
       "      <td>0.036858</td>\n",
       "      <td>0.249212</td>\n",
       "      <td>0.012309</td>\n",
       "      <td>0.218291</td>\n",
       "      <td>0.518190</td>\n",
       "      <td>0.387043</td>\n",
       "      <td>3.980000</td>\n",
       "      <td>0.531975</td>\n",
       "      <td>0</td>\n",
       "    </tr>\n",
       "    <tr>\n",
       "      <th>corrido</th>\n",
       "      <td>0.726470</td>\n",
       "      <td>0.696500</td>\n",
       "      <td>1.021538</td>\n",
       "      <td>0.909034</td>\n",
       "      <td>0.850000</td>\n",
       "      <td>0.077669</td>\n",
       "      <td>0.379734</td>\n",
       "      <td>0.000038</td>\n",
       "      <td>0.187720</td>\n",
       "      <td>0.861710</td>\n",
       "      <td>-0.039690</td>\n",
       "      <td>3.260000</td>\n",
       "      <td>0.794090</td>\n",
       "      <td>0</td>\n",
       "    </tr>\n",
       "    <tr>\n",
       "      <th>rb</th>\n",
       "      <td>0.685010</td>\n",
       "      <td>0.575890</td>\n",
       "      <td>0.826575</td>\n",
       "      <td>-0.298937</td>\n",
       "      <td>0.390000</td>\n",
       "      <td>0.095765</td>\n",
       "      <td>0.225102</td>\n",
       "      <td>0.003320</td>\n",
       "      <td>0.133800</td>\n",
       "      <td>0.568480</td>\n",
       "      <td>-0.100913</td>\n",
       "      <td>3.950000</td>\n",
       "      <td>0.626745</td>\n",
       "      <td>0</td>\n",
       "    </tr>\n",
       "    <tr>\n",
       "      <th>norteno</th>\n",
       "      <td>0.685150</td>\n",
       "      <td>0.614970</td>\n",
       "      <td>1.077241</td>\n",
       "      <td>0.438815</td>\n",
       "      <td>0.930000</td>\n",
       "      <td>0.065067</td>\n",
       "      <td>0.401505</td>\n",
       "      <td>0.003094</td>\n",
       "      <td>0.153468</td>\n",
       "      <td>0.852050</td>\n",
       "      <td>0.943741</td>\n",
       "      <td>3.510000</td>\n",
       "      <td>0.768600</td>\n",
       "      <td>0</td>\n",
       "    </tr>\n",
       "    <tr>\n",
       "      <th>latin</th>\n",
       "      <td>0.690860</td>\n",
       "      <td>0.709740</td>\n",
       "      <td>0.325242</td>\n",
       "      <td>0.741189</td>\n",
       "      <td>0.710000</td>\n",
       "      <td>0.073969</td>\n",
       "      <td>0.243967</td>\n",
       "      <td>0.005241</td>\n",
       "      <td>0.161411</td>\n",
       "      <td>0.624600</td>\n",
       "      <td>-0.286120</td>\n",
       "      <td>3.980000</td>\n",
       "      <td>0.657730</td>\n",
       "      <td>0</td>\n",
       "    </tr>\n",
       "    <tr>\n",
       "      <th>latinhiphop</th>\n",
       "      <td>0.752420</td>\n",
       "      <td>0.775240</td>\n",
       "      <td>0.798723</td>\n",
       "      <td>0.772404</td>\n",
       "      <td>0.560000</td>\n",
       "      <td>0.124479</td>\n",
       "      <td>0.153282</td>\n",
       "      <td>0.005582</td>\n",
       "      <td>0.189120</td>\n",
       "      <td>0.676430</td>\n",
       "      <td>-0.700802</td>\n",
       "      <td>4.000000</td>\n",
       "      <td>0.714425</td>\n",
       "      <td>0</td>\n",
       "    </tr>\n",
       "    <tr>\n",
       "      <th>dirtysouthrap</th>\n",
       "      <td>0.770400</td>\n",
       "      <td>0.672890</td>\n",
       "      <td>1.327908</td>\n",
       "      <td>0.380019</td>\n",
       "      <td>0.540000</td>\n",
       "      <td>0.211340</td>\n",
       "      <td>0.080566</td>\n",
       "      <td>0.000272</td>\n",
       "      <td>0.206948</td>\n",
       "      <td>0.542586</td>\n",
       "      <td>0.917885</td>\n",
       "      <td>3.980000</td>\n",
       "      <td>0.656493</td>\n",
       "      <td>0</td>\n",
       "    </tr>\n",
       "    <tr>\n",
       "      <th>traplatino</th>\n",
       "      <td>0.780505</td>\n",
       "      <td>0.659516</td>\n",
       "      <td>2.614184</td>\n",
       "      <td>1.010604</td>\n",
       "      <td>0.451613</td>\n",
       "      <td>0.148560</td>\n",
       "      <td>0.251192</td>\n",
       "      <td>0.011607</td>\n",
       "      <td>0.174857</td>\n",
       "      <td>0.529301</td>\n",
       "      <td>-0.000680</td>\n",
       "      <td>4.010753</td>\n",
       "      <td>0.654903</td>\n",
       "      <td>0</td>\n",
       "    </tr>\n",
       "    <tr>\n",
       "      <th>tropical</th>\n",
       "      <td>0.726450</td>\n",
       "      <td>0.772770</td>\n",
       "      <td>0.687316</td>\n",
       "      <td>0.999596</td>\n",
       "      <td>0.620000</td>\n",
       "      <td>0.075796</td>\n",
       "      <td>0.306767</td>\n",
       "      <td>0.002073</td>\n",
       "      <td>0.170832</td>\n",
       "      <td>0.799260</td>\n",
       "      <td>-0.087633</td>\n",
       "      <td>4.000000</td>\n",
       "      <td>0.762855</td>\n",
       "      <td>0</td>\n",
       "    </tr>\n",
       "    <tr>\n",
       "      <th>indiepoprap</th>\n",
       "      <td>0.684400</td>\n",
       "      <td>0.664810</td>\n",
       "      <td>1.634278</td>\n",
       "      <td>0.138812</td>\n",
       "      <td>0.620000</td>\n",
       "      <td>0.150802</td>\n",
       "      <td>0.183036</td>\n",
       "      <td>0.015836</td>\n",
       "      <td>0.180398</td>\n",
       "      <td>0.509623</td>\n",
       "      <td>-0.818412</td>\n",
       "      <td>4.040000</td>\n",
       "      <td>0.597012</td>\n",
       "      <td>0</td>\n",
       "    </tr>\n",
       "    <tr>\n",
       "      <th>reggaerock</th>\n",
       "      <td>0.710690</td>\n",
       "      <td>0.628310</td>\n",
       "      <td>0.910130</td>\n",
       "      <td>0.031096</td>\n",
       "      <td>0.600000</td>\n",
       "      <td>0.080721</td>\n",
       "      <td>0.167285</td>\n",
       "      <td>0.024957</td>\n",
       "      <td>0.152766</td>\n",
       "      <td>0.686320</td>\n",
       "      <td>0.204648</td>\n",
       "      <td>3.980000</td>\n",
       "      <td>0.698505</td>\n",
       "      <td>0</td>\n",
       "    </tr>\n",
       "  </tbody>\n",
       "</table>\n",
       "</div>"
      ],
      "text/plain": [
       "                danceability    energy       key  loudness      mode  \\\n",
       "genre                                                                  \n",
       "southernhiphop      0.759840  0.671800  0.715167  0.639746  0.560000   \n",
       "electropop          0.660160  0.627720  0.715167  0.337683  0.560000   \n",
       "countryroad         0.582900  0.706740  0.937982  0.691418  0.940000   \n",
       "dancepop            0.694240  0.734120  1.355760  1.008751  0.560000   \n",
       "anthemworship       0.434310  0.532010  1.578575 -0.571704  0.910000   \n",
       "worship             0.437570  0.557394  0.798723 -0.370421  0.920000   \n",
       "texascountry        0.545760  0.619401  0.687316 -0.166720  0.910000   \n",
       "corrido             0.726470  0.696500  1.021538  0.909034  0.850000   \n",
       "rb                  0.685010  0.575890  0.826575 -0.298937  0.390000   \n",
       "norteno             0.685150  0.614970  1.077241  0.438815  0.930000   \n",
       "latin               0.690860  0.709740  0.325242  0.741189  0.710000   \n",
       "latinhiphop         0.752420  0.775240  0.798723  0.772404  0.560000   \n",
       "dirtysouthrap       0.770400  0.672890  1.327908  0.380019  0.540000   \n",
       "traplatino          0.780505  0.659516  2.614184  1.010604  0.451613   \n",
       "tropical            0.726450  0.772770  0.687316  0.999596  0.620000   \n",
       "indiepoprap         0.684400  0.664810  1.634278  0.138812  0.620000   \n",
       "reggaerock          0.710690  0.628310  0.910130  0.031096  0.600000   \n",
       "\n",
       "                speechiness  acousticness  instrumentalness  liveness  \\\n",
       "genre                                                                   \n",
       "southernhiphop     0.194384      0.088992          0.000287  0.180445   \n",
       "electropop         0.070607      0.222024          0.037668  0.152950   \n",
       "countryroad        0.043092      0.211440          0.000269  0.178728   \n",
       "dancepop           0.074673      0.113860          0.013701  0.165191   \n",
       "anthemworship      0.041484      0.292087          0.007803  0.196804   \n",
       "worship            0.039845      0.274097          0.001916  0.211811   \n",
       "texascountry       0.036858      0.249212          0.012309  0.218291   \n",
       "corrido            0.077669      0.379734          0.000038  0.187720   \n",
       "rb                 0.095765      0.225102          0.003320  0.133800   \n",
       "norteno            0.065067      0.401505          0.003094  0.153468   \n",
       "latin              0.073969      0.243967          0.005241  0.161411   \n",
       "latinhiphop        0.124479      0.153282          0.005582  0.189120   \n",
       "dirtysouthrap      0.211340      0.080566          0.000272  0.206948   \n",
       "traplatino         0.148560      0.251192          0.011607  0.174857   \n",
       "tropical           0.075796      0.306767          0.002073  0.170832   \n",
       "indiepoprap        0.150802      0.183036          0.015836  0.180398   \n",
       "reggaerock         0.080721      0.167285          0.024957  0.152766   \n",
       "\n",
       "                 valence     tempo  time_signature  dance_valence  cluster  \n",
       "genre                                                                       \n",
       "southernhiphop  0.541636  0.643147        3.980000       0.650738        0  \n",
       "electropop      0.490414 -0.037223        4.040000       0.575287        0  \n",
       "countryroad     0.577140  1.219335        3.940000       0.580020        0  \n",
       "dancepop        0.584726 -0.222651        3.970000       0.639483        0  \n",
       "anthemworship   0.246033  0.091461        3.870000       0.340171        0  \n",
       "worship         0.297648  0.417400        3.830000       0.367609        0  \n",
       "texascountry    0.518190  0.387043        3.980000       0.531975        0  \n",
       "corrido         0.861710 -0.039690        3.260000       0.794090        0  \n",
       "rb              0.568480 -0.100913        3.950000       0.626745        0  \n",
       "norteno         0.852050  0.943741        3.510000       0.768600        0  \n",
       "latin           0.624600 -0.286120        3.980000       0.657730        0  \n",
       "latinhiphop     0.676430 -0.700802        4.000000       0.714425        0  \n",
       "dirtysouthrap   0.542586  0.917885        3.980000       0.656493        0  \n",
       "traplatino      0.529301 -0.000680        4.010753       0.654903        0  \n",
       "tropical        0.799260 -0.087633        4.000000       0.762855        0  \n",
       "indiepoprap     0.509623 -0.818412        4.040000       0.597012        0  \n",
       "reggaerock      0.686320  0.204648        3.980000       0.698505        0  "
      ]
     },
     "execution_count": 24,
     "metadata": {},
     "output_type": "execute_result"
    }
   ],
   "source": [
    "sample[sample['cluster'] == 0]"
   ]
  },
  {
   "cell_type": "code",
   "execution_count": 25,
   "metadata": {},
   "outputs": [
    {
     "data": {
      "text/html": [
       "<div>\n",
       "<style scoped>\n",
       "    .dataframe tbody tr th:only-of-type {\n",
       "        vertical-align: middle;\n",
       "    }\n",
       "\n",
       "    .dataframe tbody tr th {\n",
       "        vertical-align: top;\n",
       "    }\n",
       "\n",
       "    .dataframe thead th {\n",
       "        text-align: right;\n",
       "    }\n",
       "</style>\n",
       "<table border=\"1\" class=\"dataframe\">\n",
       "  <thead>\n",
       "    <tr style=\"text-align: right;\">\n",
       "      <th></th>\n",
       "      <th>danceability</th>\n",
       "      <th>energy</th>\n",
       "      <th>key</th>\n",
       "      <th>loudness</th>\n",
       "      <th>mode</th>\n",
       "      <th>speechiness</th>\n",
       "      <th>acousticness</th>\n",
       "      <th>instrumentalness</th>\n",
       "      <th>liveness</th>\n",
       "      <th>valence</th>\n",
       "      <th>tempo</th>\n",
       "      <th>time_signature</th>\n",
       "      <th>dance_valence</th>\n",
       "      <th>cluster</th>\n",
       "    </tr>\n",
       "    <tr>\n",
       "      <th>genre</th>\n",
       "      <th></th>\n",
       "      <th></th>\n",
       "      <th></th>\n",
       "      <th></th>\n",
       "      <th></th>\n",
       "      <th></th>\n",
       "      <th></th>\n",
       "      <th></th>\n",
       "      <th></th>\n",
       "      <th></th>\n",
       "      <th></th>\n",
       "      <th></th>\n",
       "      <th></th>\n",
       "      <th></th>\n",
       "    </tr>\n",
       "  </thead>\n",
       "  <tbody>\n",
       "    <tr>\n",
       "      <th>hiphop</th>\n",
       "      <td>0.76365</td>\n",
       "      <td>0.684380</td>\n",
       "      <td>1.244353</td>\n",
       "      <td>-0.356096</td>\n",
       "      <td>0.42</td>\n",
       "      <td>0.245931</td>\n",
       "      <td>0.132631</td>\n",
       "      <td>0.002554</td>\n",
       "      <td>0.198494</td>\n",
       "      <td>0.669080</td>\n",
       "      <td>-2.592718</td>\n",
       "      <td>4.01</td>\n",
       "      <td>0.716365</td>\n",
       "      <td>1</td>\n",
       "    </tr>\n",
       "    <tr>\n",
       "      <th>alternativerb</th>\n",
       "      <td>0.64157</td>\n",
       "      <td>0.493010</td>\n",
       "      <td>-0.259647</td>\n",
       "      <td>-0.705077</td>\n",
       "      <td>0.48</td>\n",
       "      <td>0.118080</td>\n",
       "      <td>0.354245</td>\n",
       "      <td>0.023717</td>\n",
       "      <td>0.144984</td>\n",
       "      <td>0.429175</td>\n",
       "      <td>-1.468305</td>\n",
       "      <td>3.93</td>\n",
       "      <td>0.535373</td>\n",
       "      <td>1</td>\n",
       "    </tr>\n",
       "    <tr>\n",
       "      <th>indierb</th>\n",
       "      <td>0.66394</td>\n",
       "      <td>0.459320</td>\n",
       "      <td>1.132945</td>\n",
       "      <td>-0.888972</td>\n",
       "      <td>0.41</td>\n",
       "      <td>0.110102</td>\n",
       "      <td>0.357165</td>\n",
       "      <td>0.023575</td>\n",
       "      <td>0.135249</td>\n",
       "      <td>0.438332</td>\n",
       "      <td>-1.730661</td>\n",
       "      <td>3.92</td>\n",
       "      <td>0.551136</td>\n",
       "      <td>1</td>\n",
       "    </tr>\n",
       "    <tr>\n",
       "      <th>deeppoprb</th>\n",
       "      <td>0.66268</td>\n",
       "      <td>0.542110</td>\n",
       "      <td>0.325242</td>\n",
       "      <td>-0.216537</td>\n",
       "      <td>0.40</td>\n",
       "      <td>0.125165</td>\n",
       "      <td>0.243836</td>\n",
       "      <td>0.000324</td>\n",
       "      <td>0.165555</td>\n",
       "      <td>0.435744</td>\n",
       "      <td>-1.142561</td>\n",
       "      <td>3.98</td>\n",
       "      <td>0.549212</td>\n",
       "      <td>1</td>\n",
       "    </tr>\n",
       "    <tr>\n",
       "      <th>westcoasttrap</th>\n",
       "      <td>0.75995</td>\n",
       "      <td>0.635440</td>\n",
       "      <td>-0.510314</td>\n",
       "      <td>-0.022319</td>\n",
       "      <td>0.49</td>\n",
       "      <td>0.224434</td>\n",
       "      <td>0.098431</td>\n",
       "      <td>0.000121</td>\n",
       "      <td>0.179969</td>\n",
       "      <td>0.497640</td>\n",
       "      <td>-2.657772</td>\n",
       "      <td>3.99</td>\n",
       "      <td>0.628795</td>\n",
       "      <td>1</td>\n",
       "    </tr>\n",
       "    <tr>\n",
       "      <th>calirap</th>\n",
       "      <td>0.77257</td>\n",
       "      <td>0.618210</td>\n",
       "      <td>0.380945</td>\n",
       "      <td>-0.258274</td>\n",
       "      <td>0.48</td>\n",
       "      <td>0.222463</td>\n",
       "      <td>0.180463</td>\n",
       "      <td>0.000111</td>\n",
       "      <td>0.159480</td>\n",
       "      <td>0.473539</td>\n",
       "      <td>-2.393579</td>\n",
       "      <td>4.00</td>\n",
       "      <td>0.623055</td>\n",
       "      <td>1</td>\n",
       "    </tr>\n",
       "    <tr>\n",
       "      <th>urbancontemporary</th>\n",
       "      <td>0.68198</td>\n",
       "      <td>0.581360</td>\n",
       "      <td>0.603760</td>\n",
       "      <td>-0.430866</td>\n",
       "      <td>0.39</td>\n",
       "      <td>0.084929</td>\n",
       "      <td>0.215330</td>\n",
       "      <td>0.002888</td>\n",
       "      <td>0.138607</td>\n",
       "      <td>0.591870</td>\n",
       "      <td>-0.566643</td>\n",
       "      <td>3.97</td>\n",
       "      <td>0.636925</td>\n",
       "      <td>1</td>\n",
       "    </tr>\n",
       "    <tr>\n",
       "      <th>gangsterrap</th>\n",
       "      <td>0.77904</td>\n",
       "      <td>0.697410</td>\n",
       "      <td>1.244353</td>\n",
       "      <td>0.248523</td>\n",
       "      <td>0.49</td>\n",
       "      <td>0.225000</td>\n",
       "      <td>0.098908</td>\n",
       "      <td>0.002671</td>\n",
       "      <td>0.197541</td>\n",
       "      <td>0.609590</td>\n",
       "      <td>-1.358647</td>\n",
       "      <td>4.01</td>\n",
       "      <td>0.694315</td>\n",
       "      <td>1</td>\n",
       "    </tr>\n",
       "    <tr>\n",
       "      <th>indiesoul</th>\n",
       "      <td>0.69188</td>\n",
       "      <td>0.505611</td>\n",
       "      <td>1.522871</td>\n",
       "      <td>-1.102439</td>\n",
       "      <td>0.48</td>\n",
       "      <td>0.083760</td>\n",
       "      <td>0.381248</td>\n",
       "      <td>0.217475</td>\n",
       "      <td>0.133954</td>\n",
       "      <td>0.464643</td>\n",
       "      <td>-1.445080</td>\n",
       "      <td>3.95</td>\n",
       "      <td>0.578261</td>\n",
       "      <td>1</td>\n",
       "    </tr>\n",
       "  </tbody>\n",
       "</table>\n",
       "</div>"
      ],
      "text/plain": [
       "                   danceability    energy       key  loudness  mode  \\\n",
       "genre                                                                 \n",
       "hiphop                  0.76365  0.684380  1.244353 -0.356096  0.42   \n",
       "alternativerb           0.64157  0.493010 -0.259647 -0.705077  0.48   \n",
       "indierb                 0.66394  0.459320  1.132945 -0.888972  0.41   \n",
       "deeppoprb               0.66268  0.542110  0.325242 -0.216537  0.40   \n",
       "westcoasttrap           0.75995  0.635440 -0.510314 -0.022319  0.49   \n",
       "calirap                 0.77257  0.618210  0.380945 -0.258274  0.48   \n",
       "urbancontemporary       0.68198  0.581360  0.603760 -0.430866  0.39   \n",
       "gangsterrap             0.77904  0.697410  1.244353  0.248523  0.49   \n",
       "indiesoul               0.69188  0.505611  1.522871 -1.102439  0.48   \n",
       "\n",
       "                   speechiness  acousticness  instrumentalness  liveness  \\\n",
       "genre                                                                      \n",
       "hiphop                0.245931      0.132631          0.002554  0.198494   \n",
       "alternativerb         0.118080      0.354245          0.023717  0.144984   \n",
       "indierb               0.110102      0.357165          0.023575  0.135249   \n",
       "deeppoprb             0.125165      0.243836          0.000324  0.165555   \n",
       "westcoasttrap         0.224434      0.098431          0.000121  0.179969   \n",
       "calirap               0.222463      0.180463          0.000111  0.159480   \n",
       "urbancontemporary     0.084929      0.215330          0.002888  0.138607   \n",
       "gangsterrap           0.225000      0.098908          0.002671  0.197541   \n",
       "indiesoul             0.083760      0.381248          0.217475  0.133954   \n",
       "\n",
       "                    valence     tempo  time_signature  dance_valence  cluster  \n",
       "genre                                                                          \n",
       "hiphop             0.669080 -2.592718            4.01       0.716365        1  \n",
       "alternativerb      0.429175 -1.468305            3.93       0.535373        1  \n",
       "indierb            0.438332 -1.730661            3.92       0.551136        1  \n",
       "deeppoprb          0.435744 -1.142561            3.98       0.549212        1  \n",
       "westcoasttrap      0.497640 -2.657772            3.99       0.628795        1  \n",
       "calirap            0.473539 -2.393579            4.00       0.623055        1  \n",
       "urbancontemporary  0.591870 -0.566643            3.97       0.636925        1  \n",
       "gangsterrap        0.609590 -1.358647            4.01       0.694315        1  \n",
       "indiesoul          0.464643 -1.445080            3.95       0.578261        1  "
      ]
     },
     "execution_count": 25,
     "metadata": {},
     "output_type": "execute_result"
    }
   ],
   "source": [
    "sample[sample['cluster'] == 1]"
   ]
  },
  {
   "cell_type": "code",
   "execution_count": 26,
   "metadata": {},
   "outputs": [
    {
     "data": {
      "text/html": [
       "<div>\n",
       "<style scoped>\n",
       "    .dataframe tbody tr th:only-of-type {\n",
       "        vertical-align: middle;\n",
       "    }\n",
       "\n",
       "    .dataframe tbody tr th {\n",
       "        vertical-align: top;\n",
       "    }\n",
       "\n",
       "    .dataframe thead th {\n",
       "        text-align: right;\n",
       "    }\n",
       "</style>\n",
       "<table border=\"1\" class=\"dataframe\">\n",
       "  <thead>\n",
       "    <tr style=\"text-align: right;\">\n",
       "      <th></th>\n",
       "      <th>danceability</th>\n",
       "      <th>energy</th>\n",
       "      <th>key</th>\n",
       "      <th>loudness</th>\n",
       "      <th>mode</th>\n",
       "      <th>speechiness</th>\n",
       "      <th>acousticness</th>\n",
       "      <th>instrumentalness</th>\n",
       "      <th>liveness</th>\n",
       "      <th>valence</th>\n",
       "      <th>tempo</th>\n",
       "      <th>time_signature</th>\n",
       "      <th>dance_valence</th>\n",
       "      <th>cluster</th>\n",
       "    </tr>\n",
       "    <tr>\n",
       "      <th>genre</th>\n",
       "      <th></th>\n",
       "      <th></th>\n",
       "      <th></th>\n",
       "      <th></th>\n",
       "      <th></th>\n",
       "      <th></th>\n",
       "      <th></th>\n",
       "      <th></th>\n",
       "      <th></th>\n",
       "      <th></th>\n",
       "      <th></th>\n",
       "      <th></th>\n",
       "      <th></th>\n",
       "      <th></th>\n",
       "    </tr>\n",
       "  </thead>\n",
       "  <tbody>\n",
       "    <tr>\n",
       "      <th>folkpop</th>\n",
       "      <td>0.55408</td>\n",
       "      <td>0.421952</td>\n",
       "      <td>-0.064684</td>\n",
       "      <td>-1.633684</td>\n",
       "      <td>0.85</td>\n",
       "      <td>0.038942</td>\n",
       "      <td>0.572482</td>\n",
       "      <td>0.053243</td>\n",
       "      <td>0.146550</td>\n",
       "      <td>0.394269</td>\n",
       "      <td>-0.615321</td>\n",
       "      <td>3.88</td>\n",
       "      <td>0.474174</td>\n",
       "      <td>2</td>\n",
       "    </tr>\n",
       "    <tr>\n",
       "      <th>christianuplift</th>\n",
       "      <td>0.48268</td>\n",
       "      <td>0.486524</td>\n",
       "      <td>-0.454610</td>\n",
       "      <td>-1.228142</td>\n",
       "      <td>0.88</td>\n",
       "      <td>0.035364</td>\n",
       "      <td>0.389759</td>\n",
       "      <td>0.049490</td>\n",
       "      <td>0.157419</td>\n",
       "      <td>0.247431</td>\n",
       "      <td>0.136931</td>\n",
       "      <td>3.89</td>\n",
       "      <td>0.365056</td>\n",
       "      <td>2</td>\n",
       "    </tr>\n",
       "    <tr>\n",
       "      <th>outlawcountry</th>\n",
       "      <td>0.55009</td>\n",
       "      <td>0.511072</td>\n",
       "      <td>0.603760</td>\n",
       "      <td>-1.546249</td>\n",
       "      <td>0.84</td>\n",
       "      <td>0.038350</td>\n",
       "      <td>0.406812</td>\n",
       "      <td>0.024467</td>\n",
       "      <td>0.186434</td>\n",
       "      <td>0.559870</td>\n",
       "      <td>-0.788221</td>\n",
       "      <td>3.93</td>\n",
       "      <td>0.554980</td>\n",
       "      <td>2</td>\n",
       "    </tr>\n",
       "    <tr>\n",
       "      <th>chamberpop</th>\n",
       "      <td>0.52605</td>\n",
       "      <td>0.492893</td>\n",
       "      <td>0.882279</td>\n",
       "      <td>-1.614876</td>\n",
       "      <td>0.73</td>\n",
       "      <td>0.041229</td>\n",
       "      <td>0.495957</td>\n",
       "      <td>0.146008</td>\n",
       "      <td>0.136113</td>\n",
       "      <td>0.418207</td>\n",
       "      <td>-0.680602</td>\n",
       "      <td>3.93</td>\n",
       "      <td>0.472129</td>\n",
       "      <td>2</td>\n",
       "    </tr>\n",
       "    <tr>\n",
       "      <th>artpop</th>\n",
       "      <td>0.53354</td>\n",
       "      <td>0.528315</td>\n",
       "      <td>-0.203943</td>\n",
       "      <td>-1.338927</td>\n",
       "      <td>0.58</td>\n",
       "      <td>0.043813</td>\n",
       "      <td>0.328259</td>\n",
       "      <td>0.191520</td>\n",
       "      <td>0.159315</td>\n",
       "      <td>0.347605</td>\n",
       "      <td>-0.241266</td>\n",
       "      <td>3.95</td>\n",
       "      <td>0.440573</td>\n",
       "      <td>2</td>\n",
       "    </tr>\n",
       "    <tr>\n",
       "      <th>vaporsoul</th>\n",
       "      <td>0.63222</td>\n",
       "      <td>0.531290</td>\n",
       "      <td>0.130279</td>\n",
       "      <td>-0.933907</td>\n",
       "      <td>0.53</td>\n",
       "      <td>0.073544</td>\n",
       "      <td>0.362814</td>\n",
       "      <td>0.133144</td>\n",
       "      <td>0.141398</td>\n",
       "      <td>0.355442</td>\n",
       "      <td>-0.913380</td>\n",
       "      <td>3.95</td>\n",
       "      <td>0.493831</td>\n",
       "      <td>2</td>\n",
       "    </tr>\n",
       "    <tr>\n",
       "      <th>countryrock</th>\n",
       "      <td>0.55693</td>\n",
       "      <td>0.484685</td>\n",
       "      <td>0.743019</td>\n",
       "      <td>-2.717242</td>\n",
       "      <td>0.94</td>\n",
       "      <td>0.038283</td>\n",
       "      <td>0.404319</td>\n",
       "      <td>0.031303</td>\n",
       "      <td>0.153336</td>\n",
       "      <td>0.598889</td>\n",
       "      <td>-0.549334</td>\n",
       "      <td>3.97</td>\n",
       "      <td>0.577910</td>\n",
       "      <td>2</td>\n",
       "    </tr>\n",
       "    <tr>\n",
       "      <th>soul</th>\n",
       "      <td>0.61495</td>\n",
       "      <td>0.536550</td>\n",
       "      <td>0.464501</td>\n",
       "      <td>-1.839621</td>\n",
       "      <td>0.67</td>\n",
       "      <td>0.053966</td>\n",
       "      <td>0.389630</td>\n",
       "      <td>0.042886</td>\n",
       "      <td>0.158670</td>\n",
       "      <td>0.688843</td>\n",
       "      <td>-0.299868</td>\n",
       "      <td>3.92</td>\n",
       "      <td>0.651897</td>\n",
       "      <td>2</td>\n",
       "    </tr>\n",
       "  </tbody>\n",
       "</table>\n",
       "</div>"
      ],
      "text/plain": [
       "                 danceability    energy       key  loudness  mode  \\\n",
       "genre                                                               \n",
       "folkpop               0.55408  0.421952 -0.064684 -1.633684  0.85   \n",
       "christianuplift       0.48268  0.486524 -0.454610 -1.228142  0.88   \n",
       "outlawcountry         0.55009  0.511072  0.603760 -1.546249  0.84   \n",
       "chamberpop            0.52605  0.492893  0.882279 -1.614876  0.73   \n",
       "artpop                0.53354  0.528315 -0.203943 -1.338927  0.58   \n",
       "vaporsoul             0.63222  0.531290  0.130279 -0.933907  0.53   \n",
       "countryrock           0.55693  0.484685  0.743019 -2.717242  0.94   \n",
       "soul                  0.61495  0.536550  0.464501 -1.839621  0.67   \n",
       "\n",
       "                 speechiness  acousticness  instrumentalness  liveness  \\\n",
       "genre                                                                    \n",
       "folkpop             0.038942      0.572482          0.053243  0.146550   \n",
       "christianuplift     0.035364      0.389759          0.049490  0.157419   \n",
       "outlawcountry       0.038350      0.406812          0.024467  0.186434   \n",
       "chamberpop          0.041229      0.495957          0.146008  0.136113   \n",
       "artpop              0.043813      0.328259          0.191520  0.159315   \n",
       "vaporsoul           0.073544      0.362814          0.133144  0.141398   \n",
       "countryrock         0.038283      0.404319          0.031303  0.153336   \n",
       "soul                0.053966      0.389630          0.042886  0.158670   \n",
       "\n",
       "                  valence     tempo  time_signature  dance_valence  cluster  \n",
       "genre                                                                        \n",
       "folkpop          0.394269 -0.615321            3.88       0.474174        2  \n",
       "christianuplift  0.247431  0.136931            3.89       0.365056        2  \n",
       "outlawcountry    0.559870 -0.788221            3.93       0.554980        2  \n",
       "chamberpop       0.418207 -0.680602            3.93       0.472129        2  \n",
       "artpop           0.347605 -0.241266            3.95       0.440573        2  \n",
       "vaporsoul        0.355442 -0.913380            3.95       0.493831        2  \n",
       "countryrock      0.598889 -0.549334            3.97       0.577910        2  \n",
       "soul             0.688843 -0.299868            3.92       0.651897        2  "
      ]
     },
     "execution_count": 26,
     "metadata": {},
     "output_type": "execute_result"
    }
   ],
   "source": [
    "sample[sample['cluster'] == 2]"
   ]
  },
  {
   "cell_type": "code",
   "execution_count": 27,
   "metadata": {},
   "outputs": [
    {
     "data": {
      "text/html": [
       "<div>\n",
       "<style scoped>\n",
       "    .dataframe tbody tr th:only-of-type {\n",
       "        vertical-align: middle;\n",
       "    }\n",
       "\n",
       "    .dataframe tbody tr th {\n",
       "        vertical-align: top;\n",
       "    }\n",
       "\n",
       "    .dataframe thead th {\n",
       "        text-align: right;\n",
       "    }\n",
       "</style>\n",
       "<table border=\"1\" class=\"dataframe\">\n",
       "  <thead>\n",
       "    <tr style=\"text-align: right;\">\n",
       "      <th></th>\n",
       "      <th>danceability</th>\n",
       "      <th>energy</th>\n",
       "      <th>key</th>\n",
       "      <th>loudness</th>\n",
       "      <th>mode</th>\n",
       "      <th>speechiness</th>\n",
       "      <th>acousticness</th>\n",
       "      <th>instrumentalness</th>\n",
       "      <th>liveness</th>\n",
       "      <th>valence</th>\n",
       "      <th>tempo</th>\n",
       "      <th>time_signature</th>\n",
       "      <th>dance_valence</th>\n",
       "      <th>cluster</th>\n",
       "    </tr>\n",
       "    <tr>\n",
       "      <th>genre</th>\n",
       "      <th></th>\n",
       "      <th></th>\n",
       "      <th></th>\n",
       "      <th></th>\n",
       "      <th></th>\n",
       "      <th></th>\n",
       "      <th></th>\n",
       "      <th></th>\n",
       "      <th></th>\n",
       "      <th></th>\n",
       "      <th></th>\n",
       "      <th></th>\n",
       "      <th></th>\n",
       "      <th></th>\n",
       "    </tr>\n",
       "  </thead>\n",
       "  <tbody>\n",
       "    <tr>\n",
       "      <th>popedm</th>\n",
       "      <td>0.58980</td>\n",
       "      <td>0.74095</td>\n",
       "      <td>-2.459943</td>\n",
       "      <td>1.214236</td>\n",
       "      <td>0.53</td>\n",
       "      <td>0.065612</td>\n",
       "      <td>0.143328</td>\n",
       "      <td>0.018415</td>\n",
       "      <td>0.201176</td>\n",
       "      <td>0.362658</td>\n",
       "      <td>0.502803</td>\n",
       "      <td>4.01</td>\n",
       "      <td>0.476229</td>\n",
       "      <td>3</td>\n",
       "    </tr>\n",
       "    <tr>\n",
       "      <th>escaperoom</th>\n",
       "      <td>0.68710</td>\n",
       "      <td>0.63107</td>\n",
       "      <td>-2.738461</td>\n",
       "      <td>-0.204149</td>\n",
       "      <td>0.65</td>\n",
       "      <td>0.130913</td>\n",
       "      <td>0.195704</td>\n",
       "      <td>0.116585</td>\n",
       "      <td>0.195023</td>\n",
       "      <td>0.448827</td>\n",
       "      <td>0.276936</td>\n",
       "      <td>3.97</td>\n",
       "      <td>0.567963</td>\n",
       "      <td>3</td>\n",
       "    </tr>\n",
       "    <tr>\n",
       "      <th>alternativeemo</th>\n",
       "      <td>0.44888</td>\n",
       "      <td>0.76179</td>\n",
       "      <td>-2.097869</td>\n",
       "      <td>0.679529</td>\n",
       "      <td>0.79</td>\n",
       "      <td>0.061442</td>\n",
       "      <td>0.092849</td>\n",
       "      <td>0.063798</td>\n",
       "      <td>0.187923</td>\n",
       "      <td>0.415649</td>\n",
       "      <td>1.235607</td>\n",
       "      <td>3.97</td>\n",
       "      <td>0.432265</td>\n",
       "      <td>3</td>\n",
       "    </tr>\n",
       "  </tbody>\n",
       "</table>\n",
       "</div>"
      ],
      "text/plain": [
       "                danceability   energy       key  loudness  mode  speechiness  \\\n",
       "genre                                                                          \n",
       "popedm               0.58980  0.74095 -2.459943  1.214236  0.53     0.065612   \n",
       "escaperoom           0.68710  0.63107 -2.738461 -0.204149  0.65     0.130913   \n",
       "alternativeemo       0.44888  0.76179 -2.097869  0.679529  0.79     0.061442   \n",
       "\n",
       "                acousticness  instrumentalness  liveness   valence     tempo  \\\n",
       "genre                                                                          \n",
       "popedm              0.143328          0.018415  0.201176  0.362658  0.502803   \n",
       "escaperoom          0.195704          0.116585  0.195023  0.448827  0.276936   \n",
       "alternativeemo      0.092849          0.063798  0.187923  0.415649  1.235607   \n",
       "\n",
       "                time_signature  dance_valence  cluster  \n",
       "genre                                                   \n",
       "popedm                    4.01       0.476229        3  \n",
       "escaperoom                3.97       0.567963        3  \n",
       "alternativeemo            3.97       0.432265        3  "
      ]
     },
     "execution_count": 27,
     "metadata": {},
     "output_type": "execute_result"
    }
   ],
   "source": [
    "sample[sample['cluster'] == 3]"
   ]
  },
  {
   "cell_type": "code",
   "execution_count": 28,
   "metadata": {},
   "outputs": [
    {
     "data": {
      "text/html": [
       "<div>\n",
       "<style scoped>\n",
       "    .dataframe tbody tr th:only-of-type {\n",
       "        vertical-align: middle;\n",
       "    }\n",
       "\n",
       "    .dataframe tbody tr th {\n",
       "        vertical-align: top;\n",
       "    }\n",
       "\n",
       "    .dataframe thead th {\n",
       "        text-align: right;\n",
       "    }\n",
       "</style>\n",
       "<table border=\"1\" class=\"dataframe\">\n",
       "  <thead>\n",
       "    <tr style=\"text-align: right;\">\n",
       "      <th></th>\n",
       "      <th>danceability</th>\n",
       "      <th>energy</th>\n",
       "      <th>key</th>\n",
       "      <th>loudness</th>\n",
       "      <th>mode</th>\n",
       "      <th>speechiness</th>\n",
       "      <th>acousticness</th>\n",
       "      <th>instrumentalness</th>\n",
       "      <th>liveness</th>\n",
       "      <th>valence</th>\n",
       "      <th>tempo</th>\n",
       "      <th>time_signature</th>\n",
       "      <th>dance_valence</th>\n",
       "      <th>cluster</th>\n",
       "    </tr>\n",
       "    <tr>\n",
       "      <th>genre</th>\n",
       "      <th></th>\n",
       "      <th></th>\n",
       "      <th></th>\n",
       "      <th></th>\n",
       "      <th></th>\n",
       "      <th></th>\n",
       "      <th></th>\n",
       "      <th></th>\n",
       "      <th></th>\n",
       "      <th></th>\n",
       "      <th></th>\n",
       "      <th></th>\n",
       "      <th></th>\n",
       "      <th></th>\n",
       "    </tr>\n",
       "  </thead>\n",
       "  <tbody>\n",
       "    <tr>\n",
       "      <th>pop</th>\n",
       "      <td>0.646260</td>\n",
       "      <td>0.622910</td>\n",
       "      <td>-0.036832</td>\n",
       "      <td>0.806435</td>\n",
       "      <td>0.66</td>\n",
       "      <td>0.086982</td>\n",
       "      <td>0.226059</td>\n",
       "      <td>0.002211</td>\n",
       "      <td>0.152532</td>\n",
       "      <td>0.501731</td>\n",
       "      <td>-0.690193</td>\n",
       "      <td>3.96</td>\n",
       "      <td>0.573996</td>\n",
       "      <td>4</td>\n",
       "    </tr>\n",
       "    <tr>\n",
       "      <th>poprap</th>\n",
       "      <td>0.756290</td>\n",
       "      <td>0.607630</td>\n",
       "      <td>-0.008980</td>\n",
       "      <td>0.353675</td>\n",
       "      <td>0.54</td>\n",
       "      <td>0.187661</td>\n",
       "      <td>0.161173</td>\n",
       "      <td>0.001188</td>\n",
       "      <td>0.165433</td>\n",
       "      <td>0.469726</td>\n",
       "      <td>0.550964</td>\n",
       "      <td>4.00</td>\n",
       "      <td>0.613008</td>\n",
       "      <td>4</td>\n",
       "    </tr>\n",
       "    <tr>\n",
       "      <th>rap</th>\n",
       "      <td>0.771600</td>\n",
       "      <td>0.622500</td>\n",
       "      <td>0.269538</td>\n",
       "      <td>0.375159</td>\n",
       "      <td>0.58</td>\n",
       "      <td>0.192807</td>\n",
       "      <td>0.142510</td>\n",
       "      <td>0.001689</td>\n",
       "      <td>0.163494</td>\n",
       "      <td>0.486566</td>\n",
       "      <td>0.715425</td>\n",
       "      <td>4.01</td>\n",
       "      <td>0.629083</td>\n",
       "      <td>4</td>\n",
       "    </tr>\n",
       "    <tr>\n",
       "      <th>indiepoptimism</th>\n",
       "      <td>0.616420</td>\n",
       "      <td>0.645740</td>\n",
       "      <td>-0.482462</td>\n",
       "      <td>0.284403</td>\n",
       "      <td>0.70</td>\n",
       "      <td>0.061888</td>\n",
       "      <td>0.199000</td>\n",
       "      <td>0.017869</td>\n",
       "      <td>0.170117</td>\n",
       "      <td>0.453478</td>\n",
       "      <td>-0.174883</td>\n",
       "      <td>4.01</td>\n",
       "      <td>0.534949</td>\n",
       "      <td>4</td>\n",
       "    </tr>\n",
       "    <tr>\n",
       "      <th>country</th>\n",
       "      <td>0.603600</td>\n",
       "      <td>0.643420</td>\n",
       "      <td>0.297390</td>\n",
       "      <td>-0.264594</td>\n",
       "      <td>0.95</td>\n",
       "      <td>0.041830</td>\n",
       "      <td>0.241450</td>\n",
       "      <td>0.000201</td>\n",
       "      <td>0.156768</td>\n",
       "      <td>0.586830</td>\n",
       "      <td>0.566335</td>\n",
       "      <td>3.96</td>\n",
       "      <td>0.595215</td>\n",
       "      <td>4</td>\n",
       "    </tr>\n",
       "    <tr>\n",
       "      <th>indiepop</th>\n",
       "      <td>0.603470</td>\n",
       "      <td>0.681580</td>\n",
       "      <td>-0.928091</td>\n",
       "      <td>0.307279</td>\n",
       "      <td>0.75</td>\n",
       "      <td>0.042584</td>\n",
       "      <td>0.165851</td>\n",
       "      <td>0.038848</td>\n",
       "      <td>0.165103</td>\n",
       "      <td>0.536920</td>\n",
       "      <td>-0.205560</td>\n",
       "      <td>3.95</td>\n",
       "      <td>0.570195</td>\n",
       "      <td>4</td>\n",
       "    </tr>\n",
       "    <tr>\n",
       "      <th>countrypop</th>\n",
       "      <td>0.562900</td>\n",
       "      <td>0.661430</td>\n",
       "      <td>-0.287499</td>\n",
       "      <td>0.670444</td>\n",
       "      <td>0.87</td>\n",
       "      <td>0.043739</td>\n",
       "      <td>0.239203</td>\n",
       "      <td>0.000418</td>\n",
       "      <td>0.149741</td>\n",
       "      <td>0.481332</td>\n",
       "      <td>0.643862</td>\n",
       "      <td>3.97</td>\n",
       "      <td>0.522116</td>\n",
       "      <td>4</td>\n",
       "    </tr>\n",
       "    <tr>\n",
       "      <th>ccm</th>\n",
       "      <td>0.484990</td>\n",
       "      <td>0.630130</td>\n",
       "      <td>-0.760980</td>\n",
       "      <td>0.414954</td>\n",
       "      <td>0.83</td>\n",
       "      <td>0.041671</td>\n",
       "      <td>0.210991</td>\n",
       "      <td>0.001908</td>\n",
       "      <td>0.189548</td>\n",
       "      <td>0.340748</td>\n",
       "      <td>-0.038789</td>\n",
       "      <td>3.89</td>\n",
       "      <td>0.412869</td>\n",
       "      <td>4</td>\n",
       "    </tr>\n",
       "    <tr>\n",
       "      <th>vaportrap</th>\n",
       "      <td>0.754580</td>\n",
       "      <td>0.558230</td>\n",
       "      <td>-1.318017</td>\n",
       "      <td>-0.639614</td>\n",
       "      <td>0.54</td>\n",
       "      <td>0.212926</td>\n",
       "      <td>0.161462</td>\n",
       "      <td>0.001800</td>\n",
       "      <td>0.165777</td>\n",
       "      <td>0.397804</td>\n",
       "      <td>1.545490</td>\n",
       "      <td>4.00</td>\n",
       "      <td>0.576192</td>\n",
       "      <td>4</td>\n",
       "    </tr>\n",
       "    <tr>\n",
       "      <th>christianalternativerock</th>\n",
       "      <td>0.492240</td>\n",
       "      <td>0.660030</td>\n",
       "      <td>-0.176092</td>\n",
       "      <td>0.530475</td>\n",
       "      <td>0.83</td>\n",
       "      <td>0.043398</td>\n",
       "      <td>0.179827</td>\n",
       "      <td>0.005684</td>\n",
       "      <td>0.170913</td>\n",
       "      <td>0.391737</td>\n",
       "      <td>0.394086</td>\n",
       "      <td>3.94</td>\n",
       "      <td>0.441989</td>\n",
       "      <td>4</td>\n",
       "    </tr>\n",
       "    <tr>\n",
       "      <th>christianpop</th>\n",
       "      <td>0.576940</td>\n",
       "      <td>0.617250</td>\n",
       "      <td>-0.371054</td>\n",
       "      <td>-0.003405</td>\n",
       "      <td>0.67</td>\n",
       "      <td>0.068306</td>\n",
       "      <td>0.246876</td>\n",
       "      <td>0.003915</td>\n",
       "      <td>0.158393</td>\n",
       "      <td>0.448404</td>\n",
       "      <td>0.028130</td>\n",
       "      <td>3.96</td>\n",
       "      <td>0.512672</td>\n",
       "      <td>4</td>\n",
       "    </tr>\n",
       "    <tr>\n",
       "      <th>christianmusic</th>\n",
       "      <td>0.474900</td>\n",
       "      <td>0.599797</td>\n",
       "      <td>-0.287499</td>\n",
       "      <td>0.011366</td>\n",
       "      <td>0.91</td>\n",
       "      <td>0.038614</td>\n",
       "      <td>0.246920</td>\n",
       "      <td>0.005616</td>\n",
       "      <td>0.176266</td>\n",
       "      <td>0.362195</td>\n",
       "      <td>0.316316</td>\n",
       "      <td>3.86</td>\n",
       "      <td>0.418547</td>\n",
       "      <td>4</td>\n",
       "    </tr>\n",
       "    <tr>\n",
       "      <th>worldworship</th>\n",
       "      <td>0.420430</td>\n",
       "      <td>0.507465</td>\n",
       "      <td>0.185982</td>\n",
       "      <td>-0.623388</td>\n",
       "      <td>0.91</td>\n",
       "      <td>0.036661</td>\n",
       "      <td>0.363278</td>\n",
       "      <td>0.003478</td>\n",
       "      <td>0.246744</td>\n",
       "      <td>0.227441</td>\n",
       "      <td>0.216977</td>\n",
       "      <td>3.85</td>\n",
       "      <td>0.323936</td>\n",
       "      <td>4</td>\n",
       "    </tr>\n",
       "    <tr>\n",
       "      <th>indietronica</th>\n",
       "      <td>0.620860</td>\n",
       "      <td>0.662150</td>\n",
       "      <td>-0.176092</td>\n",
       "      <td>0.064734</td>\n",
       "      <td>0.64</td>\n",
       "      <td>0.053050</td>\n",
       "      <td>0.201324</td>\n",
       "      <td>0.171718</td>\n",
       "      <td>0.174876</td>\n",
       "      <td>0.473934</td>\n",
       "      <td>-0.009522</td>\n",
       "      <td>4.00</td>\n",
       "      <td>0.547397</td>\n",
       "      <td>4</td>\n",
       "    </tr>\n",
       "    <tr>\n",
       "      <th>indiegaragerock</th>\n",
       "      <td>0.472069</td>\n",
       "      <td>0.673740</td>\n",
       "      <td>0.074575</td>\n",
       "      <td>-0.378707</td>\n",
       "      <td>0.73</td>\n",
       "      <td>0.045371</td>\n",
       "      <td>0.206798</td>\n",
       "      <td>0.272593</td>\n",
       "      <td>0.198332</td>\n",
       "      <td>0.479604</td>\n",
       "      <td>0.700041</td>\n",
       "      <td>3.97</td>\n",
       "      <td>0.475837</td>\n",
       "      <td>4</td>\n",
       "    </tr>\n",
       "    <tr>\n",
       "      <th>melodicrap</th>\n",
       "      <td>0.753070</td>\n",
       "      <td>0.584960</td>\n",
       "      <td>-0.538166</td>\n",
       "      <td>-0.025500</td>\n",
       "      <td>0.51</td>\n",
       "      <td>0.178761</td>\n",
       "      <td>0.183579</td>\n",
       "      <td>0.001917</td>\n",
       "      <td>0.152026</td>\n",
       "      <td>0.434771</td>\n",
       "      <td>1.049308</td>\n",
       "      <td>3.98</td>\n",
       "      <td>0.593921</td>\n",
       "      <td>4</td>\n",
       "    </tr>\n",
       "    <tr>\n",
       "      <th>reddirt</th>\n",
       "      <td>0.531600</td>\n",
       "      <td>0.638840</td>\n",
       "      <td>-0.287499</td>\n",
       "      <td>0.111641</td>\n",
       "      <td>0.90</td>\n",
       "      <td>0.036862</td>\n",
       "      <td>0.192566</td>\n",
       "      <td>0.001589</td>\n",
       "      <td>0.213460</td>\n",
       "      <td>0.474080</td>\n",
       "      <td>0.778912</td>\n",
       "      <td>3.95</td>\n",
       "      <td>0.502840</td>\n",
       "      <td>4</td>\n",
       "    </tr>\n",
       "    <tr>\n",
       "      <th>vaportwitch</th>\n",
       "      <td>0.616260</td>\n",
       "      <td>0.621040</td>\n",
       "      <td>0.464501</td>\n",
       "      <td>-0.036903</td>\n",
       "      <td>0.52</td>\n",
       "      <td>0.104840</td>\n",
       "      <td>0.217795</td>\n",
       "      <td>0.269125</td>\n",
       "      <td>0.169706</td>\n",
       "      <td>0.274575</td>\n",
       "      <td>0.505077</td>\n",
       "      <td>3.95</td>\n",
       "      <td>0.445418</td>\n",
       "      <td>4</td>\n",
       "    </tr>\n",
       "    <tr>\n",
       "      <th>indierock</th>\n",
       "      <td>0.537750</td>\n",
       "      <td>0.679300</td>\n",
       "      <td>-0.844536</td>\n",
       "      <td>-0.076709</td>\n",
       "      <td>0.72</td>\n",
       "      <td>0.042249</td>\n",
       "      <td>0.212516</td>\n",
       "      <td>0.140918</td>\n",
       "      <td>0.185244</td>\n",
       "      <td>0.530582</td>\n",
       "      <td>0.163201</td>\n",
       "      <td>3.96</td>\n",
       "      <td>0.534166</td>\n",
       "      <td>4</td>\n",
       "    </tr>\n",
       "    <tr>\n",
       "      <th>atlhiphop</th>\n",
       "      <td>0.769000</td>\n",
       "      <td>0.635170</td>\n",
       "      <td>-0.760980</td>\n",
       "      <td>0.277607</td>\n",
       "      <td>0.58</td>\n",
       "      <td>0.195589</td>\n",
       "      <td>0.134813</td>\n",
       "      <td>0.000053</td>\n",
       "      <td>0.166881</td>\n",
       "      <td>0.527965</td>\n",
       "      <td>0.671050</td>\n",
       "      <td>3.99</td>\n",
       "      <td>0.648482</td>\n",
       "      <td>4</td>\n",
       "    </tr>\n",
       "  </tbody>\n",
       "</table>\n",
       "</div>"
      ],
      "text/plain": [
       "                          danceability    energy       key  loudness  mode  \\\n",
       "genre                                                                        \n",
       "pop                           0.646260  0.622910 -0.036832  0.806435  0.66   \n",
       "poprap                        0.756290  0.607630 -0.008980  0.353675  0.54   \n",
       "rap                           0.771600  0.622500  0.269538  0.375159  0.58   \n",
       "indiepoptimism                0.616420  0.645740 -0.482462  0.284403  0.70   \n",
       "country                       0.603600  0.643420  0.297390 -0.264594  0.95   \n",
       "indiepop                      0.603470  0.681580 -0.928091  0.307279  0.75   \n",
       "countrypop                    0.562900  0.661430 -0.287499  0.670444  0.87   \n",
       "ccm                           0.484990  0.630130 -0.760980  0.414954  0.83   \n",
       "vaportrap                     0.754580  0.558230 -1.318017 -0.639614  0.54   \n",
       "christianalternativerock      0.492240  0.660030 -0.176092  0.530475  0.83   \n",
       "christianpop                  0.576940  0.617250 -0.371054 -0.003405  0.67   \n",
       "christianmusic                0.474900  0.599797 -0.287499  0.011366  0.91   \n",
       "worldworship                  0.420430  0.507465  0.185982 -0.623388  0.91   \n",
       "indietronica                  0.620860  0.662150 -0.176092  0.064734  0.64   \n",
       "indiegaragerock               0.472069  0.673740  0.074575 -0.378707  0.73   \n",
       "melodicrap                    0.753070  0.584960 -0.538166 -0.025500  0.51   \n",
       "reddirt                       0.531600  0.638840 -0.287499  0.111641  0.90   \n",
       "vaportwitch                   0.616260  0.621040  0.464501 -0.036903  0.52   \n",
       "indierock                     0.537750  0.679300 -0.844536 -0.076709  0.72   \n",
       "atlhiphop                     0.769000  0.635170 -0.760980  0.277607  0.58   \n",
       "\n",
       "                          speechiness  acousticness  instrumentalness  \\\n",
       "genre                                                                   \n",
       "pop                          0.086982      0.226059          0.002211   \n",
       "poprap                       0.187661      0.161173          0.001188   \n",
       "rap                          0.192807      0.142510          0.001689   \n",
       "indiepoptimism               0.061888      0.199000          0.017869   \n",
       "country                      0.041830      0.241450          0.000201   \n",
       "indiepop                     0.042584      0.165851          0.038848   \n",
       "countrypop                   0.043739      0.239203          0.000418   \n",
       "ccm                          0.041671      0.210991          0.001908   \n",
       "vaportrap                    0.212926      0.161462          0.001800   \n",
       "christianalternativerock     0.043398      0.179827          0.005684   \n",
       "christianpop                 0.068306      0.246876          0.003915   \n",
       "christianmusic               0.038614      0.246920          0.005616   \n",
       "worldworship                 0.036661      0.363278          0.003478   \n",
       "indietronica                 0.053050      0.201324          0.171718   \n",
       "indiegaragerock              0.045371      0.206798          0.272593   \n",
       "melodicrap                   0.178761      0.183579          0.001917   \n",
       "reddirt                      0.036862      0.192566          0.001589   \n",
       "vaportwitch                  0.104840      0.217795          0.269125   \n",
       "indierock                    0.042249      0.212516          0.140918   \n",
       "atlhiphop                    0.195589      0.134813          0.000053   \n",
       "\n",
       "                          liveness   valence     tempo  time_signature  \\\n",
       "genre                                                                    \n",
       "pop                       0.152532  0.501731 -0.690193            3.96   \n",
       "poprap                    0.165433  0.469726  0.550964            4.00   \n",
       "rap                       0.163494  0.486566  0.715425            4.01   \n",
       "indiepoptimism            0.170117  0.453478 -0.174883            4.01   \n",
       "country                   0.156768  0.586830  0.566335            3.96   \n",
       "indiepop                  0.165103  0.536920 -0.205560            3.95   \n",
       "countrypop                0.149741  0.481332  0.643862            3.97   \n",
       "ccm                       0.189548  0.340748 -0.038789            3.89   \n",
       "vaportrap                 0.165777  0.397804  1.545490            4.00   \n",
       "christianalternativerock  0.170913  0.391737  0.394086            3.94   \n",
       "christianpop              0.158393  0.448404  0.028130            3.96   \n",
       "christianmusic            0.176266  0.362195  0.316316            3.86   \n",
       "worldworship              0.246744  0.227441  0.216977            3.85   \n",
       "indietronica              0.174876  0.473934 -0.009522            4.00   \n",
       "indiegaragerock           0.198332  0.479604  0.700041            3.97   \n",
       "melodicrap                0.152026  0.434771  1.049308            3.98   \n",
       "reddirt                   0.213460  0.474080  0.778912            3.95   \n",
       "vaportwitch               0.169706  0.274575  0.505077            3.95   \n",
       "indierock                 0.185244  0.530582  0.163201            3.96   \n",
       "atlhiphop                 0.166881  0.527965  0.671050            3.99   \n",
       "\n",
       "                          dance_valence  cluster  \n",
       "genre                                             \n",
       "pop                            0.573996        4  \n",
       "poprap                         0.613008        4  \n",
       "rap                            0.629083        4  \n",
       "indiepoptimism                 0.534949        4  \n",
       "country                        0.595215        4  \n",
       "indiepop                       0.570195        4  \n",
       "countrypop                     0.522116        4  \n",
       "ccm                            0.412869        4  \n",
       "vaportrap                      0.576192        4  \n",
       "christianalternativerock       0.441989        4  \n",
       "christianpop                   0.512672        4  \n",
       "christianmusic                 0.418547        4  \n",
       "worldworship                   0.323936        4  \n",
       "indietronica                   0.547397        4  \n",
       "indiegaragerock                0.475837        4  \n",
       "melodicrap                     0.593921        4  \n",
       "reddirt                        0.502840        4  \n",
       "vaportwitch                    0.445418        4  \n",
       "indierock                      0.534166        4  \n",
       "atlhiphop                      0.648482        4  "
      ]
     },
     "execution_count": 28,
     "metadata": {},
     "output_type": "execute_result"
    }
   ],
   "source": [
    "sample[sample['cluster'] == 4]"
   ]
  },
  {
   "cell_type": "code",
   "execution_count": 29,
   "metadata": {},
   "outputs": [
    {
     "data": {
      "text/html": [
       "<div>\n",
       "<style scoped>\n",
       "    .dataframe tbody tr th:only-of-type {\n",
       "        vertical-align: middle;\n",
       "    }\n",
       "\n",
       "    .dataframe tbody tr th {\n",
       "        vertical-align: top;\n",
       "    }\n",
       "\n",
       "    .dataframe thead th {\n",
       "        text-align: right;\n",
       "    }\n",
       "</style>\n",
       "<table border=\"1\" class=\"dataframe\">\n",
       "  <thead>\n",
       "    <tr style=\"text-align: right;\">\n",
       "      <th></th>\n",
       "      <th>danceability</th>\n",
       "      <th>energy</th>\n",
       "      <th>key</th>\n",
       "      <th>loudness</th>\n",
       "      <th>mode</th>\n",
       "      <th>speechiness</th>\n",
       "      <th>acousticness</th>\n",
       "      <th>instrumentalness</th>\n",
       "      <th>liveness</th>\n",
       "      <th>valence</th>\n",
       "      <th>tempo</th>\n",
       "      <th>time_signature</th>\n",
       "      <th>dance_valence</th>\n",
       "      <th>cluster</th>\n",
       "    </tr>\n",
       "    <tr>\n",
       "      <th>genre</th>\n",
       "      <th></th>\n",
       "      <th></th>\n",
       "      <th></th>\n",
       "      <th></th>\n",
       "      <th></th>\n",
       "      <th></th>\n",
       "      <th></th>\n",
       "      <th></th>\n",
       "      <th></th>\n",
       "      <th></th>\n",
       "      <th></th>\n",
       "      <th></th>\n",
       "      <th></th>\n",
       "      <th></th>\n",
       "    </tr>\n",
       "  </thead>\n",
       "  <tbody>\n",
       "    <tr>\n",
       "      <th>modernrock</th>\n",
       "      <td>0.54941</td>\n",
       "      <td>0.77736</td>\n",
       "      <td>-0.287499</td>\n",
       "      <td>1.108193</td>\n",
       "      <td>0.72</td>\n",
       "      <td>0.056648</td>\n",
       "      <td>0.067450</td>\n",
       "      <td>0.035907</td>\n",
       "      <td>0.192436</td>\n",
       "      <td>0.515872</td>\n",
       "      <td>0.950440</td>\n",
       "      <td>3.95</td>\n",
       "      <td>0.532641</td>\n",
       "      <td>5</td>\n",
       "    </tr>\n",
       "    <tr>\n",
       "      <th>moderncountryrock</th>\n",
       "      <td>0.57386</td>\n",
       "      <td>0.70960</td>\n",
       "      <td>0.631612</td>\n",
       "      <td>0.935694</td>\n",
       "      <td>0.88</td>\n",
       "      <td>0.045150</td>\n",
       "      <td>0.175597</td>\n",
       "      <td>0.000276</td>\n",
       "      <td>0.176400</td>\n",
       "      <td>0.557520</td>\n",
       "      <td>1.793701</td>\n",
       "      <td>3.93</td>\n",
       "      <td>0.565690</td>\n",
       "      <td>5</td>\n",
       "    </tr>\n",
       "    <tr>\n",
       "      <th>contemporarycountry</th>\n",
       "      <td>0.57639</td>\n",
       "      <td>0.71481</td>\n",
       "      <td>-0.287499</td>\n",
       "      <td>1.021404</td>\n",
       "      <td>0.90</td>\n",
       "      <td>0.045489</td>\n",
       "      <td>0.191860</td>\n",
       "      <td>0.000484</td>\n",
       "      <td>0.152309</td>\n",
       "      <td>0.563090</td>\n",
       "      <td>0.874118</td>\n",
       "      <td>3.97</td>\n",
       "      <td>0.569740</td>\n",
       "      <td>5</td>\n",
       "    </tr>\n",
       "    <tr>\n",
       "      <th>edm</th>\n",
       "      <td>0.63440</td>\n",
       "      <td>0.82290</td>\n",
       "      <td>-1.150906</td>\n",
       "      <td>1.581939</td>\n",
       "      <td>0.45</td>\n",
       "      <td>0.072478</td>\n",
       "      <td>0.061799</td>\n",
       "      <td>0.148906</td>\n",
       "      <td>0.200975</td>\n",
       "      <td>0.407467</td>\n",
       "      <td>0.736262</td>\n",
       "      <td>3.96</td>\n",
       "      <td>0.520933</td>\n",
       "      <td>5</td>\n",
       "    </tr>\n",
       "    <tr>\n",
       "      <th>electrohouse</th>\n",
       "      <td>0.67859</td>\n",
       "      <td>0.85152</td>\n",
       "      <td>-0.315351</td>\n",
       "      <td>1.750235</td>\n",
       "      <td>0.58</td>\n",
       "      <td>0.092020</td>\n",
       "      <td>0.043978</td>\n",
       "      <td>0.222365</td>\n",
       "      <td>0.230274</td>\n",
       "      <td>0.385092</td>\n",
       "      <td>1.056638</td>\n",
       "      <td>4.00</td>\n",
       "      <td>0.531841</td>\n",
       "      <td>5</td>\n",
       "    </tr>\n",
       "    <tr>\n",
       "      <th>electronictrap</th>\n",
       "      <td>0.62770</td>\n",
       "      <td>0.79381</td>\n",
       "      <td>0.715167</td>\n",
       "      <td>1.362140</td>\n",
       "      <td>0.52</td>\n",
       "      <td>0.125423</td>\n",
       "      <td>0.066618</td>\n",
       "      <td>0.171124</td>\n",
       "      <td>0.223206</td>\n",
       "      <td>0.337975</td>\n",
       "      <td>1.573923</td>\n",
       "      <td>3.99</td>\n",
       "      <td>0.482838</td>\n",
       "      <td>5</td>\n",
       "    </tr>\n",
       "    <tr>\n",
       "      <th>brostep</th>\n",
       "      <td>0.60483</td>\n",
       "      <td>0.88351</td>\n",
       "      <td>-0.733128</td>\n",
       "      <td>2.333170</td>\n",
       "      <td>0.57</td>\n",
       "      <td>0.142058</td>\n",
       "      <td>0.035335</td>\n",
       "      <td>0.134535</td>\n",
       "      <td>0.268069</td>\n",
       "      <td>0.339570</td>\n",
       "      <td>1.193494</td>\n",
       "      <td>3.98</td>\n",
       "      <td>0.472200</td>\n",
       "      <td>5</td>\n",
       "    </tr>\n",
       "    <tr>\n",
       "      <th>regionalmexicanpop</th>\n",
       "      <td>0.70251</td>\n",
       "      <td>0.62192</td>\n",
       "      <td>-0.844536</td>\n",
       "      <td>1.373537</td>\n",
       "      <td>0.84</td>\n",
       "      <td>0.046897</td>\n",
       "      <td>0.438426</td>\n",
       "      <td>0.003357</td>\n",
       "      <td>0.150630</td>\n",
       "      <td>0.831690</td>\n",
       "      <td>1.389721</td>\n",
       "      <td>3.38</td>\n",
       "      <td>0.767100</td>\n",
       "      <td>5</td>\n",
       "    </tr>\n",
       "    <tr>\n",
       "      <th>zapstep</th>\n",
       "      <td>0.59569</td>\n",
       "      <td>0.89502</td>\n",
       "      <td>-0.008980</td>\n",
       "      <td>2.547910</td>\n",
       "      <td>0.58</td>\n",
       "      <td>0.151893</td>\n",
       "      <td>0.028223</td>\n",
       "      <td>0.161166</td>\n",
       "      <td>0.274931</td>\n",
       "      <td>0.325129</td>\n",
       "      <td>1.012856</td>\n",
       "      <td>3.96</td>\n",
       "      <td>0.460409</td>\n",
       "      <td>5</td>\n",
       "    </tr>\n",
       "    <tr>\n",
       "      <th>emo</th>\n",
       "      <td>0.42117</td>\n",
       "      <td>0.79137</td>\n",
       "      <td>-0.677425</td>\n",
       "      <td>0.558250</td>\n",
       "      <td>0.72</td>\n",
       "      <td>0.057197</td>\n",
       "      <td>0.053654</td>\n",
       "      <td>0.089558</td>\n",
       "      <td>0.188816</td>\n",
       "      <td>0.414883</td>\n",
       "      <td>2.157818</td>\n",
       "      <td>3.98</td>\n",
       "      <td>0.418026</td>\n",
       "      <td>5</td>\n",
       "    </tr>\n",
       "  </tbody>\n",
       "</table>\n",
       "</div>"
      ],
      "text/plain": [
       "                     danceability   energy       key  loudness  mode  \\\n",
       "genre                                                                  \n",
       "modernrock                0.54941  0.77736 -0.287499  1.108193  0.72   \n",
       "moderncountryrock         0.57386  0.70960  0.631612  0.935694  0.88   \n",
       "contemporarycountry       0.57639  0.71481 -0.287499  1.021404  0.90   \n",
       "edm                       0.63440  0.82290 -1.150906  1.581939  0.45   \n",
       "electrohouse              0.67859  0.85152 -0.315351  1.750235  0.58   \n",
       "electronictrap            0.62770  0.79381  0.715167  1.362140  0.52   \n",
       "brostep                   0.60483  0.88351 -0.733128  2.333170  0.57   \n",
       "regionalmexicanpop        0.70251  0.62192 -0.844536  1.373537  0.84   \n",
       "zapstep                   0.59569  0.89502 -0.008980  2.547910  0.58   \n",
       "emo                       0.42117  0.79137 -0.677425  0.558250  0.72   \n",
       "\n",
       "                     speechiness  acousticness  instrumentalness  liveness  \\\n",
       "genre                                                                        \n",
       "modernrock              0.056648      0.067450          0.035907  0.192436   \n",
       "moderncountryrock       0.045150      0.175597          0.000276  0.176400   \n",
       "contemporarycountry     0.045489      0.191860          0.000484  0.152309   \n",
       "edm                     0.072478      0.061799          0.148906  0.200975   \n",
       "electrohouse            0.092020      0.043978          0.222365  0.230274   \n",
       "electronictrap          0.125423      0.066618          0.171124  0.223206   \n",
       "brostep                 0.142058      0.035335          0.134535  0.268069   \n",
       "regionalmexicanpop      0.046897      0.438426          0.003357  0.150630   \n",
       "zapstep                 0.151893      0.028223          0.161166  0.274931   \n",
       "emo                     0.057197      0.053654          0.089558  0.188816   \n",
       "\n",
       "                      valence     tempo  time_signature  dance_valence  \\\n",
       "genre                                                                    \n",
       "modernrock           0.515872  0.950440            3.95       0.532641   \n",
       "moderncountryrock    0.557520  1.793701            3.93       0.565690   \n",
       "contemporarycountry  0.563090  0.874118            3.97       0.569740   \n",
       "edm                  0.407467  0.736262            3.96       0.520933   \n",
       "electrohouse         0.385092  1.056638            4.00       0.531841   \n",
       "electronictrap       0.337975  1.573923            3.99       0.482838   \n",
       "brostep              0.339570  1.193494            3.98       0.472200   \n",
       "regionalmexicanpop   0.831690  1.389721            3.38       0.767100   \n",
       "zapstep              0.325129  1.012856            3.96       0.460409   \n",
       "emo                  0.414883  2.157818            3.98       0.418026   \n",
       "\n",
       "                     cluster  \n",
       "genre                         \n",
       "modernrock                 5  \n",
       "moderncountryrock          5  \n",
       "contemporarycountry        5  \n",
       "edm                        5  \n",
       "electrohouse               5  \n",
       "electronictrap             5  \n",
       "brostep                    5  \n",
       "regionalmexicanpop         5  \n",
       "zapstep                    5  \n",
       "emo                        5  "
      ]
     },
     "execution_count": 29,
     "metadata": {},
     "output_type": "execute_result"
    }
   ],
   "source": [
    "sample[sample['cluster'] == 5]"
   ]
  },
  {
   "cell_type": "code",
   "execution_count": 30,
   "metadata": {
    "scrolled": true
   },
   "outputs": [
    {
     "data": {
      "text/html": [
       "<div>\n",
       "<style scoped>\n",
       "    .dataframe tbody tr th:only-of-type {\n",
       "        vertical-align: middle;\n",
       "    }\n",
       "\n",
       "    .dataframe tbody tr th {\n",
       "        vertical-align: top;\n",
       "    }\n",
       "\n",
       "    .dataframe thead th {\n",
       "        text-align: right;\n",
       "    }\n",
       "</style>\n",
       "<table border=\"1\" class=\"dataframe\">\n",
       "  <thead>\n",
       "    <tr style=\"text-align: right;\">\n",
       "      <th></th>\n",
       "      <th>danceability</th>\n",
       "      <th>energy</th>\n",
       "      <th>key</th>\n",
       "      <th>loudness</th>\n",
       "      <th>mode</th>\n",
       "      <th>speechiness</th>\n",
       "      <th>acousticness</th>\n",
       "      <th>instrumentalness</th>\n",
       "      <th>liveness</th>\n",
       "      <th>valence</th>\n",
       "      <th>tempo</th>\n",
       "      <th>time_signature</th>\n",
       "      <th>dance_valence</th>\n",
       "      <th>cluster</th>\n",
       "    </tr>\n",
       "    <tr>\n",
       "      <th>genre</th>\n",
       "      <th></th>\n",
       "      <th></th>\n",
       "      <th></th>\n",
       "      <th></th>\n",
       "      <th></th>\n",
       "      <th></th>\n",
       "      <th></th>\n",
       "      <th></th>\n",
       "      <th></th>\n",
       "      <th></th>\n",
       "      <th></th>\n",
       "      <th></th>\n",
       "      <th></th>\n",
       "      <th></th>\n",
       "    </tr>\n",
       "  </thead>\n",
       "  <tbody>\n",
       "    <tr>\n",
       "      <th>undergroundhiphop</th>\n",
       "      <td>0.731650</td>\n",
       "      <td>0.585400</td>\n",
       "      <td>-1.178758</td>\n",
       "      <td>-0.622684</td>\n",
       "      <td>0.65</td>\n",
       "      <td>0.191798</td>\n",
       "      <td>0.193008</td>\n",
       "      <td>0.015954</td>\n",
       "      <td>0.211579</td>\n",
       "      <td>0.358806</td>\n",
       "      <td>0.216171</td>\n",
       "      <td>3.94</td>\n",
       "      <td>0.545228</td>\n",
       "      <td>6</td>\n",
       "    </tr>\n",
       "    <tr>\n",
       "      <th>indiecoustica</th>\n",
       "      <td>0.559640</td>\n",
       "      <td>0.451426</td>\n",
       "      <td>-1.095202</td>\n",
       "      <td>-1.346644</td>\n",
       "      <td>0.92</td>\n",
       "      <td>0.040760</td>\n",
       "      <td>0.503060</td>\n",
       "      <td>0.012516</td>\n",
       "      <td>0.142478</td>\n",
       "      <td>0.351032</td>\n",
       "      <td>-0.459851</td>\n",
       "      <td>3.96</td>\n",
       "      <td>0.455336</td>\n",
       "      <td>6</td>\n",
       "    </tr>\n",
       "    <tr>\n",
       "      <th>indiefolk</th>\n",
       "      <td>0.534020</td>\n",
       "      <td>0.431291</td>\n",
       "      <td>-0.983795</td>\n",
       "      <td>-1.849216</td>\n",
       "      <td>0.85</td>\n",
       "      <td>0.037878</td>\n",
       "      <td>0.630898</td>\n",
       "      <td>0.084814</td>\n",
       "      <td>0.144655</td>\n",
       "      <td>0.392510</td>\n",
       "      <td>-1.213852</td>\n",
       "      <td>3.92</td>\n",
       "      <td>0.463265</td>\n",
       "      <td>6</td>\n",
       "    </tr>\n",
       "    <tr>\n",
       "      <th>stompandholler</th>\n",
       "      <td>0.544970</td>\n",
       "      <td>0.516279</td>\n",
       "      <td>-1.485128</td>\n",
       "      <td>-1.082867</td>\n",
       "      <td>0.87</td>\n",
       "      <td>0.039390</td>\n",
       "      <td>0.459705</td>\n",
       "      <td>0.116787</td>\n",
       "      <td>0.144037</td>\n",
       "      <td>0.441863</td>\n",
       "      <td>-0.671883</td>\n",
       "      <td>3.94</td>\n",
       "      <td>0.493416</td>\n",
       "      <td>6</td>\n",
       "    </tr>\n",
       "    <tr>\n",
       "      <th>hyphy</th>\n",
       "      <td>0.761260</td>\n",
       "      <td>0.628820</td>\n",
       "      <td>-1.930758</td>\n",
       "      <td>-0.257112</td>\n",
       "      <td>0.49</td>\n",
       "      <td>0.217575</td>\n",
       "      <td>0.094074</td>\n",
       "      <td>0.000154</td>\n",
       "      <td>0.186419</td>\n",
       "      <td>0.546590</td>\n",
       "      <td>-2.264380</td>\n",
       "      <td>3.97</td>\n",
       "      <td>0.653925</td>\n",
       "      <td>6</td>\n",
       "    </tr>\n",
       "    <tr>\n",
       "      <th>deepccm</th>\n",
       "      <td>0.422335</td>\n",
       "      <td>0.449633</td>\n",
       "      <td>-0.677425</td>\n",
       "      <td>-1.532505</td>\n",
       "      <td>0.89</td>\n",
       "      <td>0.041421</td>\n",
       "      <td>0.460327</td>\n",
       "      <td>0.081514</td>\n",
       "      <td>0.172446</td>\n",
       "      <td>0.215899</td>\n",
       "      <td>-0.105747</td>\n",
       "      <td>3.81</td>\n",
       "      <td>0.319117</td>\n",
       "      <td>6</td>\n",
       "    </tr>\n",
       "    <tr>\n",
       "      <th>rootsworship</th>\n",
       "      <td>0.479610</td>\n",
       "      <td>0.406530</td>\n",
       "      <td>-1.429425</td>\n",
       "      <td>-1.538028</td>\n",
       "      <td>0.89</td>\n",
       "      <td>0.041491</td>\n",
       "      <td>0.516742</td>\n",
       "      <td>0.005380</td>\n",
       "      <td>0.170358</td>\n",
       "      <td>0.318027</td>\n",
       "      <td>-0.578313</td>\n",
       "      <td>3.70</td>\n",
       "      <td>0.398818</td>\n",
       "      <td>6</td>\n",
       "    </tr>\n",
       "    <tr>\n",
       "      <th>rootsamericana</th>\n",
       "      <td>0.557470</td>\n",
       "      <td>0.567440</td>\n",
       "      <td>-0.788832</td>\n",
       "      <td>-0.299060</td>\n",
       "      <td>0.90</td>\n",
       "      <td>0.037345</td>\n",
       "      <td>0.334487</td>\n",
       "      <td>0.020860</td>\n",
       "      <td>0.162132</td>\n",
       "      <td>0.544725</td>\n",
       "      <td>-0.626196</td>\n",
       "      <td>3.83</td>\n",
       "      <td>0.551098</td>\n",
       "      <td>6</td>\n",
       "    </tr>\n",
       "  </tbody>\n",
       "</table>\n",
       "</div>"
      ],
      "text/plain": [
       "                   danceability    energy       key  loudness  mode  \\\n",
       "genre                                                                 \n",
       "undergroundhiphop      0.731650  0.585400 -1.178758 -0.622684  0.65   \n",
       "indiecoustica          0.559640  0.451426 -1.095202 -1.346644  0.92   \n",
       "indiefolk              0.534020  0.431291 -0.983795 -1.849216  0.85   \n",
       "stompandholler         0.544970  0.516279 -1.485128 -1.082867  0.87   \n",
       "hyphy                  0.761260  0.628820 -1.930758 -0.257112  0.49   \n",
       "deepccm                0.422335  0.449633 -0.677425 -1.532505  0.89   \n",
       "rootsworship           0.479610  0.406530 -1.429425 -1.538028  0.89   \n",
       "rootsamericana         0.557470  0.567440 -0.788832 -0.299060  0.90   \n",
       "\n",
       "                   speechiness  acousticness  instrumentalness  liveness  \\\n",
       "genre                                                                      \n",
       "undergroundhiphop     0.191798      0.193008          0.015954  0.211579   \n",
       "indiecoustica         0.040760      0.503060          0.012516  0.142478   \n",
       "indiefolk             0.037878      0.630898          0.084814  0.144655   \n",
       "stompandholler        0.039390      0.459705          0.116787  0.144037   \n",
       "hyphy                 0.217575      0.094074          0.000154  0.186419   \n",
       "deepccm               0.041421      0.460327          0.081514  0.172446   \n",
       "rootsworship          0.041491      0.516742          0.005380  0.170358   \n",
       "rootsamericana        0.037345      0.334487          0.020860  0.162132   \n",
       "\n",
       "                    valence     tempo  time_signature  dance_valence  cluster  \n",
       "genre                                                                          \n",
       "undergroundhiphop  0.358806  0.216171            3.94       0.545228        6  \n",
       "indiecoustica      0.351032 -0.459851            3.96       0.455336        6  \n",
       "indiefolk          0.392510 -1.213852            3.92       0.463265        6  \n",
       "stompandholler     0.441863 -0.671883            3.94       0.493416        6  \n",
       "hyphy              0.546590 -2.264380            3.97       0.653925        6  \n",
       "deepccm            0.215899 -0.105747            3.81       0.319117        6  \n",
       "rootsworship       0.318027 -0.578313            3.70       0.398818        6  \n",
       "rootsamericana     0.544725 -0.626196            3.83       0.551098        6  "
      ]
     },
     "execution_count": 30,
     "metadata": {},
     "output_type": "execute_result"
    }
   ],
   "source": [
    "sample[sample['cluster'] == 6]"
   ]
  },
  {
   "cell_type": "code",
   "execution_count": 46,
   "metadata": {},
   "outputs": [],
   "source": [
    "genre_cluster_map_means = {}\n",
    "for i in range(7):\n",
    "    genre_cluster_map_means[i] = set(sample[sample['cluster'] == i].index.values)"
   ]
  },
  {
   "cell_type": "code",
   "execution_count": 31,
   "metadata": {},
   "outputs": [
    {
     "data": {
      "text/html": [
       "<div>\n",
       "<style scoped>\n",
       "    .dataframe tbody tr th:only-of-type {\n",
       "        vertical-align: middle;\n",
       "    }\n",
       "\n",
       "    .dataframe tbody tr th {\n",
       "        vertical-align: top;\n",
       "    }\n",
       "\n",
       "    .dataframe thead th {\n",
       "        text-align: right;\n",
       "    }\n",
       "</style>\n",
       "<table border=\"1\" class=\"dataframe\">\n",
       "  <thead>\n",
       "    <tr style=\"text-align: right;\">\n",
       "      <th></th>\n",
       "      <th>0</th>\n",
       "      <th>1</th>\n",
       "    </tr>\n",
       "  </thead>\n",
       "  <tbody>\n",
       "    <tr>\n",
       "      <th>0</th>\n",
       "      <td>pop</td>\n",
       "      <td>0</td>\n",
       "    </tr>\n",
       "    <tr>\n",
       "      <th>1</th>\n",
       "      <td>indiepoptimism</td>\n",
       "      <td>1</td>\n",
       "    </tr>\n",
       "    <tr>\n",
       "      <th>2</th>\n",
       "      <td>hiphop</td>\n",
       "      <td>0</td>\n",
       "    </tr>\n",
       "    <tr>\n",
       "      <th>3</th>\n",
       "      <td>tropical</td>\n",
       "      <td>2</td>\n",
       "    </tr>\n",
       "    <tr>\n",
       "      <th>4</th>\n",
       "      <td>electrohouse</td>\n",
       "      <td>3</td>\n",
       "    </tr>\n",
       "  </tbody>\n",
       "</table>\n",
       "</div>"
      ],
      "text/plain": [
       "                0  1\n",
       "0             pop  0\n",
       "1  indiepoptimism  1\n",
       "2          hiphop  0\n",
       "3        tropical  2\n",
       "4    electrohouse  3"
      ]
     },
     "execution_count": 31,
     "metadata": {},
     "output_type": "execute_result"
    }
   ],
   "source": [
    "louv = pd.read_csv('genre_louv_cat.csv', header = None)\n",
    "louv.head()"
   ]
  },
  {
   "cell_type": "code",
   "execution_count": 48,
   "metadata": {},
   "outputs": [],
   "source": [
    "# louv = pd.Series(genre_cluster_map_louv)\n",
    "means = pd.Series(genre_cluster_map_means)\n",
    "\n",
    "# pd.DataFrame([louv,means], columns = ['Louv','Means'])"
   ]
  },
  {
   "cell_type": "code",
   "execution_count": 86,
   "metadata": {},
   "outputs": [
    {
     "data": {
      "text/plain": [
       "0    {vaportrap, urbancontemporary, pop, gangsterra...\n",
       "1    {artpop, indietronica, vaporsoul, modernrock, ...\n",
       "2    {latin, latinhiphop, regionalmexicanpop, tropi...\n",
       "3    {popedm, electronictrap, brostep, edm, zapstep...\n",
       "4                                {alternativeemo, emo}\n",
       "5    {contemporarycountry, countryrock, rootsameric...\n",
       "6    {worldworship, christianmusic, worship, christ...\n",
       "dtype: object"
      ]
     },
     "execution_count": 86,
     "metadata": {},
     "output_type": "execute_result"
    }
   ],
   "source": [
    "louv"
   ]
  },
  {
   "cell_type": "code",
   "execution_count": 87,
   "metadata": {},
   "outputs": [
    {
     "data": {
      "text/plain": [
       "{'atlhiphop',\n",
       " 'calirap',\n",
       " 'dancepop',\n",
       " 'deeppoprb',\n",
       " 'dirtysouthrap',\n",
       " 'gangsterrap',\n",
       " 'hiphop',\n",
       " 'hyphy',\n",
       " 'indiepoprap',\n",
       " 'melodicrap',\n",
       " 'pop',\n",
       " 'poprap',\n",
       " 'rap',\n",
       " 'rb',\n",
       " 'reggaerock',\n",
       " 'soul',\n",
       " 'southernhiphop',\n",
       " 'undergroundhiphop',\n",
       " 'urbancontemporary',\n",
       " 'vaportrap',\n",
       " 'westcoasttrap'}"
      ]
     },
     "execution_count": 87,
     "metadata": {},
     "output_type": "execute_result"
    }
   ],
   "source": [
    "louv[0]"
   ]
  },
  {
   "cell_type": "code",
   "execution_count": 88,
   "metadata": {},
   "outputs": [
    {
     "data": {
      "text/plain": [
       "{'alternativerb',\n",
       " 'artpop',\n",
       " 'chamberpop',\n",
       " 'electropop',\n",
       " 'escaperoom',\n",
       " 'folkpop',\n",
       " 'indiefolk',\n",
       " 'indiegaragerock',\n",
       " 'indiepop',\n",
       " 'indiepoptimism',\n",
       " 'indierb',\n",
       " 'indierock',\n",
       " 'indiesoul',\n",
       " 'indietronica',\n",
       " 'modernrock',\n",
       " 'stompandholler',\n",
       " 'vaporsoul'}"
      ]
     },
     "execution_count": 88,
     "metadata": {},
     "output_type": "execute_result"
    }
   ],
   "source": [
    "louv[1]"
   ]
  },
  {
   "cell_type": "code",
   "execution_count": 89,
   "metadata": {},
   "outputs": [
    {
     "data": {
      "text/plain": [
       "{'corrido',\n",
       " 'latin',\n",
       " 'latinhiphop',\n",
       " 'norteno',\n",
       " 'regionalmexicanpop',\n",
       " 'traplatino',\n",
       " 'tropical'}"
      ]
     },
     "execution_count": 89,
     "metadata": {},
     "output_type": "execute_result"
    }
   ],
   "source": [
    "louv[2]"
   ]
  },
  {
   "cell_type": "code",
   "execution_count": 90,
   "metadata": {},
   "outputs": [
    {
     "data": {
      "text/plain": [
       "{'brostep',\n",
       " 'edm',\n",
       " 'electrohouse',\n",
       " 'electronictrap',\n",
       " 'popedm',\n",
       " 'vaportwitch',\n",
       " 'zapstep'}"
      ]
     },
     "execution_count": 90,
     "metadata": {},
     "output_type": "execute_result"
    }
   ],
   "source": [
    "louv[3]"
   ]
  },
  {
   "cell_type": "code",
   "execution_count": 91,
   "metadata": {},
   "outputs": [
    {
     "data": {
      "text/plain": [
       "{'alternativeemo', 'emo'}"
      ]
     },
     "execution_count": 91,
     "metadata": {},
     "output_type": "execute_result"
    }
   ],
   "source": [
    "louv[4]"
   ]
  },
  {
   "cell_type": "code",
   "execution_count": 92,
   "metadata": {},
   "outputs": [
    {
     "data": {
      "text/plain": [
       "{'contemporarycountry',\n",
       " 'country',\n",
       " 'countrypop',\n",
       " 'countryroad',\n",
       " 'countryrock',\n",
       " 'moderncountryrock',\n",
       " 'outlawcountry',\n",
       " 'reddirt',\n",
       " 'rootsamericana',\n",
       " 'texascountry'}"
      ]
     },
     "execution_count": 92,
     "metadata": {},
     "output_type": "execute_result"
    }
   ],
   "source": [
    "louv[5]"
   ]
  },
  {
   "cell_type": "code",
   "execution_count": 93,
   "metadata": {},
   "outputs": [
    {
     "data": {
      "text/plain": [
       "{'anthemworship',\n",
       " 'ccm',\n",
       " 'christianalternativerock',\n",
       " 'christianmusic',\n",
       " 'christianpop',\n",
       " 'christianuplift',\n",
       " 'deepccm',\n",
       " 'indiecoustica',\n",
       " 'rootsworship',\n",
       " 'worldworship',\n",
       " 'worship'}"
      ]
     },
     "execution_count": 93,
     "metadata": {},
     "output_type": "execute_result"
    }
   ],
   "source": [
    "louv[6]"
   ]
  },
  {
   "cell_type": "code",
   "execution_count": 49,
   "metadata": {},
   "outputs": [
    {
     "name": "stdout",
     "output_type": "stream",
     "text": [
      "{'corrido', 'indiepoprap', 'latin', 'dancepop', 'rb', 'texascountry', 'traplatino', 'reggaerock', 'anthemworship', 'dirtysouthrap', 'norteno', 'tropical', 'latinhiphop', 'countryroad', 'southernhiphop', 'electropop', 'worship'}\n",
      "{'calirap', 'gangsterrap', 'urbancontemporary', 'indiesoul', 'hiphop', 'westcoasttrap', 'deeppoprb', 'alternativerb', 'indierb'}\n",
      "{'soul', 'folkpop', 'countryrock', 'outlawcountry', 'christianuplift', 'vaporsoul', 'chamberpop', 'artpop'}\n",
      "{'popedm', 'escaperoom', 'alternativeemo'}\n",
      "{'indiepop', 'christianalternativerock', 'vaportwitch', 'indierock', 'rap', 'indiepoptimism', 'countrypop', 'indiegaragerock', 'country', 'christianmusic', 'melodicrap', 'vaportrap', 'worldworship', 'poprap', 'indietronica', 'reddirt', 'christianpop', 'ccm', 'pop', 'atlhiphop'}\n",
      "{'moderncountryrock', 'zapstep', 'contemporarycountry', 'edm', 'electrohouse', 'regionalmexicanpop', 'emo', 'modernrock', 'electronictrap', 'brostep'}\n",
      "{'undergroundhiphop', 'indiefolk', 'rootsworship', 'hyphy', 'rootsamericana', 'deepccm', 'indiecoustica', 'stompandholler'}\n"
     ]
    }
   ],
   "source": [
    "for i in range(7):\n",
    "    print(means[i])"
   ]
  },
  {
   "cell_type": "code",
   "execution_count": 99,
   "metadata": {},
   "outputs": [
    {
     "data": {
      "text/html": [
       "<div>\n",
       "<style scoped>\n",
       "    .dataframe tbody tr th:only-of-type {\n",
       "        vertical-align: middle;\n",
       "    }\n",
       "\n",
       "    .dataframe tbody tr th {\n",
       "        vertical-align: top;\n",
       "    }\n",
       "\n",
       "    .dataframe thead th {\n",
       "        text-align: right;\n",
       "    }\n",
       "</style>\n",
       "<table border=\"1\" class=\"dataframe\">\n",
       "  <thead>\n",
       "    <tr style=\"text-align: right;\">\n",
       "      <th></th>\n",
       "      <th>danceability</th>\n",
       "      <th>energy</th>\n",
       "      <th>key</th>\n",
       "      <th>loudness</th>\n",
       "      <th>mode</th>\n",
       "      <th>speechiness</th>\n",
       "      <th>acousticness</th>\n",
       "      <th>instrumentalness</th>\n",
       "      <th>liveness</th>\n",
       "      <th>valence</th>\n",
       "      <th>tempo</th>\n",
       "      <th>time_signature</th>\n",
       "      <th>dance_valence</th>\n",
       "    </tr>\n",
       "    <tr>\n",
       "      <th>genre</th>\n",
       "      <th></th>\n",
       "      <th></th>\n",
       "      <th></th>\n",
       "      <th></th>\n",
       "      <th></th>\n",
       "      <th></th>\n",
       "      <th></th>\n",
       "      <th></th>\n",
       "      <th></th>\n",
       "      <th></th>\n",
       "      <th></th>\n",
       "      <th></th>\n",
       "      <th></th>\n",
       "    </tr>\n",
       "  </thead>\n",
       "  <tbody>\n",
       "    <tr>\n",
       "      <th>pop</th>\n",
       "      <td>0.64626</td>\n",
       "      <td>0.62291</td>\n",
       "      <td>-0.036832</td>\n",
       "      <td>0.806435</td>\n",
       "      <td>0.66</td>\n",
       "      <td>0.086982</td>\n",
       "      <td>0.226059</td>\n",
       "      <td>0.002211</td>\n",
       "      <td>0.152532</td>\n",
       "      <td>0.501731</td>\n",
       "      <td>-0.690193</td>\n",
       "      <td>3.96</td>\n",
       "      <td>0.573996</td>\n",
       "    </tr>\n",
       "    <tr>\n",
       "      <th>poprap</th>\n",
       "      <td>0.75629</td>\n",
       "      <td>0.60763</td>\n",
       "      <td>-0.008980</td>\n",
       "      <td>0.353675</td>\n",
       "      <td>0.54</td>\n",
       "      <td>0.187661</td>\n",
       "      <td>0.161173</td>\n",
       "      <td>0.001188</td>\n",
       "      <td>0.165433</td>\n",
       "      <td>0.469726</td>\n",
       "      <td>0.550964</td>\n",
       "      <td>4.00</td>\n",
       "      <td>0.613008</td>\n",
       "    </tr>\n",
       "    <tr>\n",
       "      <th>hiphop</th>\n",
       "      <td>0.76365</td>\n",
       "      <td>0.68438</td>\n",
       "      <td>1.244353</td>\n",
       "      <td>-0.356096</td>\n",
       "      <td>0.42</td>\n",
       "      <td>0.245931</td>\n",
       "      <td>0.132631</td>\n",
       "      <td>0.002554</td>\n",
       "      <td>0.198494</td>\n",
       "      <td>0.669080</td>\n",
       "      <td>-2.592718</td>\n",
       "      <td>4.01</td>\n",
       "      <td>0.716365</td>\n",
       "    </tr>\n",
       "    <tr>\n",
       "      <th>rap</th>\n",
       "      <td>0.77160</td>\n",
       "      <td>0.62250</td>\n",
       "      <td>0.269538</td>\n",
       "      <td>0.375159</td>\n",
       "      <td>0.58</td>\n",
       "      <td>0.192807</td>\n",
       "      <td>0.142510</td>\n",
       "      <td>0.001689</td>\n",
       "      <td>0.163494</td>\n",
       "      <td>0.486566</td>\n",
       "      <td>0.715425</td>\n",
       "      <td>4.01</td>\n",
       "      <td>0.629083</td>\n",
       "    </tr>\n",
       "    <tr>\n",
       "      <th>southernhiphop</th>\n",
       "      <td>0.75984</td>\n",
       "      <td>0.67180</td>\n",
       "      <td>0.715167</td>\n",
       "      <td>0.639746</td>\n",
       "      <td>0.56</td>\n",
       "      <td>0.194384</td>\n",
       "      <td>0.088992</td>\n",
       "      <td>0.000287</td>\n",
       "      <td>0.180445</td>\n",
       "      <td>0.541636</td>\n",
       "      <td>0.643147</td>\n",
       "      <td>3.98</td>\n",
       "      <td>0.650738</td>\n",
       "    </tr>\n",
       "  </tbody>\n",
       "</table>\n",
       "</div>"
      ],
      "text/plain": [
       "                danceability   energy       key  loudness  mode  speechiness  \\\n",
       "genre                                                                          \n",
       "pop                  0.64626  0.62291 -0.036832  0.806435  0.66     0.086982   \n",
       "poprap               0.75629  0.60763 -0.008980  0.353675  0.54     0.187661   \n",
       "hiphop               0.76365  0.68438  1.244353 -0.356096  0.42     0.245931   \n",
       "rap                  0.77160  0.62250  0.269538  0.375159  0.58     0.192807   \n",
       "southernhiphop       0.75984  0.67180  0.715167  0.639746  0.56     0.194384   \n",
       "\n",
       "                acousticness  instrumentalness  liveness   valence     tempo  \\\n",
       "genre                                                                          \n",
       "pop                 0.226059          0.002211  0.152532  0.501731 -0.690193   \n",
       "poprap              0.161173          0.001188  0.165433  0.469726  0.550964   \n",
       "hiphop              0.132631          0.002554  0.198494  0.669080 -2.592718   \n",
       "rap                 0.142510          0.001689  0.163494  0.486566  0.715425   \n",
       "southernhiphop      0.088992          0.000287  0.180445  0.541636  0.643147   \n",
       "\n",
       "                time_signature  dance_valence  \n",
       "genre                                          \n",
       "pop                       3.96       0.573996  \n",
       "poprap                    4.00       0.613008  \n",
       "hiphop                    4.01       0.716365  \n",
       "rap                       4.01       0.629083  \n",
       "southernhiphop            3.98       0.650738  "
      ]
     },
     "execution_count": 99,
     "metadata": {},
     "output_type": "execute_result"
    }
   ],
   "source": [
    "play_features.head()"
   ]
  },
  {
   "cell_type": "code",
   "execution_count": 42,
   "metadata": {},
   "outputs": [
    {
     "data": {
      "text/html": [
       "<div>\n",
       "<style scoped>\n",
       "    .dataframe tbody tr th:only-of-type {\n",
       "        vertical-align: middle;\n",
       "    }\n",
       "\n",
       "    .dataframe tbody tr th {\n",
       "        vertical-align: top;\n",
       "    }\n",
       "\n",
       "    .dataframe thead th {\n",
       "        text-align: right;\n",
       "    }\n",
       "</style>\n",
       "<table border=\"1\" class=\"dataframe\">\n",
       "  <thead>\n",
       "    <tr style=\"text-align: right;\">\n",
       "      <th></th>\n",
       "      <th>danceability</th>\n",
       "      <th>energy</th>\n",
       "      <th>key</th>\n",
       "      <th>loudness</th>\n",
       "      <th>mode</th>\n",
       "      <th>speechiness</th>\n",
       "      <th>acousticness</th>\n",
       "      <th>instrumentalness</th>\n",
       "      <th>liveness</th>\n",
       "      <th>valence</th>\n",
       "      <th>tempo</th>\n",
       "      <th>time_signature</th>\n",
       "      <th>dance_valence</th>\n",
       "    </tr>\n",
       "    <tr>\n",
       "      <th>genre</th>\n",
       "      <th></th>\n",
       "      <th></th>\n",
       "      <th></th>\n",
       "      <th></th>\n",
       "      <th></th>\n",
       "      <th></th>\n",
       "      <th></th>\n",
       "      <th></th>\n",
       "      <th></th>\n",
       "      <th></th>\n",
       "      <th></th>\n",
       "      <th></th>\n",
       "      <th></th>\n",
       "    </tr>\n",
       "  </thead>\n",
       "  <tbody>\n",
       "    <tr>\n",
       "      <th>regionalmexicanpop</th>\n",
       "      <td>0.70251</td>\n",
       "      <td>0.62192</td>\n",
       "      <td>-0.844536</td>\n",
       "      <td>1.373537</td>\n",
       "      <td>0.84</td>\n",
       "      <td>0.046897</td>\n",
       "      <td>0.438426</td>\n",
       "      <td>0.003357</td>\n",
       "      <td>0.150630</td>\n",
       "      <td>0.831690</td>\n",
       "      <td>1.389721</td>\n",
       "      <td>3.38</td>\n",
       "      <td>0.767100</td>\n",
       "    </tr>\n",
       "    <tr>\n",
       "      <th>emo</th>\n",
       "      <td>0.42117</td>\n",
       "      <td>0.79137</td>\n",
       "      <td>-0.677425</td>\n",
       "      <td>0.558250</td>\n",
       "      <td>0.72</td>\n",
       "      <td>0.057197</td>\n",
       "      <td>0.053654</td>\n",
       "      <td>0.089558</td>\n",
       "      <td>0.188816</td>\n",
       "      <td>0.414883</td>\n",
       "      <td>2.157818</td>\n",
       "      <td>3.98</td>\n",
       "      <td>0.418026</td>\n",
       "    </tr>\n",
       "    <tr>\n",
       "      <th>contemporarycountry</th>\n",
       "      <td>0.57639</td>\n",
       "      <td>0.71481</td>\n",
       "      <td>-0.287499</td>\n",
       "      <td>1.021404</td>\n",
       "      <td>0.90</td>\n",
       "      <td>0.045489</td>\n",
       "      <td>0.191860</td>\n",
       "      <td>0.000484</td>\n",
       "      <td>0.152309</td>\n",
       "      <td>0.563090</td>\n",
       "      <td>0.874118</td>\n",
       "      <td>3.97</td>\n",
       "      <td>0.569740</td>\n",
       "    </tr>\n",
       "  </tbody>\n",
       "</table>\n",
       "</div>"
      ],
      "text/plain": [
       "                     danceability   energy       key  loudness  mode  \\\n",
       "genre                                                                  \n",
       "regionalmexicanpop        0.70251  0.62192 -0.844536  1.373537  0.84   \n",
       "emo                       0.42117  0.79137 -0.677425  0.558250  0.72   \n",
       "contemporarycountry       0.57639  0.71481 -0.287499  1.021404  0.90   \n",
       "\n",
       "                     speechiness  acousticness  instrumentalness  liveness  \\\n",
       "genre                                                                        \n",
       "regionalmexicanpop      0.046897      0.438426          0.003357  0.150630   \n",
       "emo                     0.057197      0.053654          0.089558  0.188816   \n",
       "contemporarycountry     0.045489      0.191860          0.000484  0.152309   \n",
       "\n",
       "                      valence     tempo  time_signature  dance_valence  \n",
       "genre                                                                   \n",
       "regionalmexicanpop   0.831690  1.389721            3.38       0.767100  \n",
       "emo                  0.414883  2.157818            3.98       0.418026  \n",
       "contemporarycountry  0.563090  0.874118            3.97       0.569740  "
      ]
     },
     "execution_count": 42,
     "metadata": {},
     "output_type": "execute_result"
    }
   ],
   "source": [
    "odd1 = ['regionalmexicanpop','emo','contemporarycountry']\n",
    "odd2 = ['edm','popedm','electropop']\n",
    "play_features.loc[odd1]"
   ]
  },
  {
   "cell_type": "code",
   "execution_count": 50,
   "metadata": {},
   "outputs": [],
   "source": [
    "odd3 = ['undergroundhiphop', 'indiefolk', 'rootsworship']"
   ]
  },
  {
   "cell_type": "code",
   "execution_count": 53,
   "metadata": {},
   "outputs": [
    {
     "name": "stdout",
     "output_type": "stream",
     "text": [
      "['edm', 'popedm', 'electropop']\n",
      "energy              0.822900\n",
      "loudness            1.581939\n",
      "mode                0.450000\n",
      "key                -1.150906\n",
      "acousticness        0.061799\n",
      "instrumentalness    0.148906\n",
      "dance_valence       0.520933\n",
      "Name: edm, dtype: float64\n",
      "energy              0.740950\n",
      "loudness            1.214236\n",
      "mode                0.530000\n",
      "key                -2.459943\n",
      "acousticness        0.143328\n",
      "instrumentalness    0.018415\n",
      "dance_valence       0.476229\n",
      "Name: popedm, dtype: float64\n",
      "energy              0.627720\n",
      "loudness            0.337683\n",
      "mode                0.560000\n",
      "key                 0.715167\n",
      "acousticness        0.222024\n",
      "instrumentalness    0.037668\n",
      "dance_valence       0.575287\n",
      "Name: electropop, dtype: float64\n"
     ]
    },
    {
     "data": {
      "application/vnd.plotly.v1+json": {
       "config": {
        "plotlyServerURL": "https://plot.ly"
       },
       "data": [
        {
         "fill": "toself",
         "name": "edm",
         "r": [
          0.8229,
          1.58193851282806,
          0.45,
          -1.1509060943074412,
          0.06179873,
          0.14890556640000002,
          0.5209334999999999
         ],
         "theta": [
          "energy",
          "loudness",
          "mode",
          "key",
          "acousticness",
          "instrumentalness",
          "dance_valence"
         ],
         "type": "scatterpolar"
        },
        {
         "fill": "toself",
         "name": "popedm",
         "r": [
          0.7409500000000001,
          1.2142364072820255,
          0.53,
          -2.4599427823221,
          0.1433284,
          0.0184153128,
          0.476229
         ],
         "theta": [
          "energy",
          "loudness",
          "mode",
          "key",
          "acousticness",
          "instrumentalness",
          "dance_valence"
         ],
         "type": "scatterpolar"
        },
        {
         "fill": "toself",
         "name": "electropop",
         "r": [
          0.62772,
          0.33768322572228204,
          0.56,
          0.7151674822240942,
          0.222023638,
          0.0376679629,
          0.5752870000000001
         ],
         "theta": [
          "energy",
          "loudness",
          "mode",
          "key",
          "acousticness",
          "instrumentalness",
          "dance_valence"
         ],
         "type": "scatterpolar"
        }
       ],
       "layout": {
        "template": {
         "data": {
          "bar": [
           {
            "error_x": {
             "color": "#2a3f5f"
            },
            "error_y": {
             "color": "#2a3f5f"
            },
            "marker": {
             "line": {
              "color": "#E5ECF6",
              "width": 0.5
             }
            },
            "type": "bar"
           }
          ],
          "barpolar": [
           {
            "marker": {
             "line": {
              "color": "#E5ECF6",
              "width": 0.5
             }
            },
            "type": "barpolar"
           }
          ],
          "carpet": [
           {
            "aaxis": {
             "endlinecolor": "#2a3f5f",
             "gridcolor": "white",
             "linecolor": "white",
             "minorgridcolor": "white",
             "startlinecolor": "#2a3f5f"
            },
            "baxis": {
             "endlinecolor": "#2a3f5f",
             "gridcolor": "white",
             "linecolor": "white",
             "minorgridcolor": "white",
             "startlinecolor": "#2a3f5f"
            },
            "type": "carpet"
           }
          ],
          "choropleth": [
           {
            "colorbar": {
             "outlinewidth": 0,
             "ticks": ""
            },
            "type": "choropleth"
           }
          ],
          "contour": [
           {
            "colorbar": {
             "outlinewidth": 0,
             "ticks": ""
            },
            "colorscale": [
             [
              0,
              "#0d0887"
             ],
             [
              0.1111111111111111,
              "#46039f"
             ],
             [
              0.2222222222222222,
              "#7201a8"
             ],
             [
              0.3333333333333333,
              "#9c179e"
             ],
             [
              0.4444444444444444,
              "#bd3786"
             ],
             [
              0.5555555555555556,
              "#d8576b"
             ],
             [
              0.6666666666666666,
              "#ed7953"
             ],
             [
              0.7777777777777778,
              "#fb9f3a"
             ],
             [
              0.8888888888888888,
              "#fdca26"
             ],
             [
              1,
              "#f0f921"
             ]
            ],
            "type": "contour"
           }
          ],
          "contourcarpet": [
           {
            "colorbar": {
             "outlinewidth": 0,
             "ticks": ""
            },
            "type": "contourcarpet"
           }
          ],
          "heatmap": [
           {
            "colorbar": {
             "outlinewidth": 0,
             "ticks": ""
            },
            "colorscale": [
             [
              0,
              "#0d0887"
             ],
             [
              0.1111111111111111,
              "#46039f"
             ],
             [
              0.2222222222222222,
              "#7201a8"
             ],
             [
              0.3333333333333333,
              "#9c179e"
             ],
             [
              0.4444444444444444,
              "#bd3786"
             ],
             [
              0.5555555555555556,
              "#d8576b"
             ],
             [
              0.6666666666666666,
              "#ed7953"
             ],
             [
              0.7777777777777778,
              "#fb9f3a"
             ],
             [
              0.8888888888888888,
              "#fdca26"
             ],
             [
              1,
              "#f0f921"
             ]
            ],
            "type": "heatmap"
           }
          ],
          "heatmapgl": [
           {
            "colorbar": {
             "outlinewidth": 0,
             "ticks": ""
            },
            "colorscale": [
             [
              0,
              "#0d0887"
             ],
             [
              0.1111111111111111,
              "#46039f"
             ],
             [
              0.2222222222222222,
              "#7201a8"
             ],
             [
              0.3333333333333333,
              "#9c179e"
             ],
             [
              0.4444444444444444,
              "#bd3786"
             ],
             [
              0.5555555555555556,
              "#d8576b"
             ],
             [
              0.6666666666666666,
              "#ed7953"
             ],
             [
              0.7777777777777778,
              "#fb9f3a"
             ],
             [
              0.8888888888888888,
              "#fdca26"
             ],
             [
              1,
              "#f0f921"
             ]
            ],
            "type": "heatmapgl"
           }
          ],
          "histogram": [
           {
            "marker": {
             "colorbar": {
              "outlinewidth": 0,
              "ticks": ""
             }
            },
            "type": "histogram"
           }
          ],
          "histogram2d": [
           {
            "colorbar": {
             "outlinewidth": 0,
             "ticks": ""
            },
            "colorscale": [
             [
              0,
              "#0d0887"
             ],
             [
              0.1111111111111111,
              "#46039f"
             ],
             [
              0.2222222222222222,
              "#7201a8"
             ],
             [
              0.3333333333333333,
              "#9c179e"
             ],
             [
              0.4444444444444444,
              "#bd3786"
             ],
             [
              0.5555555555555556,
              "#d8576b"
             ],
             [
              0.6666666666666666,
              "#ed7953"
             ],
             [
              0.7777777777777778,
              "#fb9f3a"
             ],
             [
              0.8888888888888888,
              "#fdca26"
             ],
             [
              1,
              "#f0f921"
             ]
            ],
            "type": "histogram2d"
           }
          ],
          "histogram2dcontour": [
           {
            "colorbar": {
             "outlinewidth": 0,
             "ticks": ""
            },
            "colorscale": [
             [
              0,
              "#0d0887"
             ],
             [
              0.1111111111111111,
              "#46039f"
             ],
             [
              0.2222222222222222,
              "#7201a8"
             ],
             [
              0.3333333333333333,
              "#9c179e"
             ],
             [
              0.4444444444444444,
              "#bd3786"
             ],
             [
              0.5555555555555556,
              "#d8576b"
             ],
             [
              0.6666666666666666,
              "#ed7953"
             ],
             [
              0.7777777777777778,
              "#fb9f3a"
             ],
             [
              0.8888888888888888,
              "#fdca26"
             ],
             [
              1,
              "#f0f921"
             ]
            ],
            "type": "histogram2dcontour"
           }
          ],
          "mesh3d": [
           {
            "colorbar": {
             "outlinewidth": 0,
             "ticks": ""
            },
            "type": "mesh3d"
           }
          ],
          "parcoords": [
           {
            "line": {
             "colorbar": {
              "outlinewidth": 0,
              "ticks": ""
             }
            },
            "type": "parcoords"
           }
          ],
          "pie": [
           {
            "automargin": true,
            "type": "pie"
           }
          ],
          "scatter": [
           {
            "marker": {
             "colorbar": {
              "outlinewidth": 0,
              "ticks": ""
             }
            },
            "type": "scatter"
           }
          ],
          "scatter3d": [
           {
            "line": {
             "colorbar": {
              "outlinewidth": 0,
              "ticks": ""
             }
            },
            "marker": {
             "colorbar": {
              "outlinewidth": 0,
              "ticks": ""
             }
            },
            "type": "scatter3d"
           }
          ],
          "scattercarpet": [
           {
            "marker": {
             "colorbar": {
              "outlinewidth": 0,
              "ticks": ""
             }
            },
            "type": "scattercarpet"
           }
          ],
          "scattergeo": [
           {
            "marker": {
             "colorbar": {
              "outlinewidth": 0,
              "ticks": ""
             }
            },
            "type": "scattergeo"
           }
          ],
          "scattergl": [
           {
            "marker": {
             "colorbar": {
              "outlinewidth": 0,
              "ticks": ""
             }
            },
            "type": "scattergl"
           }
          ],
          "scattermapbox": [
           {
            "marker": {
             "colorbar": {
              "outlinewidth": 0,
              "ticks": ""
             }
            },
            "type": "scattermapbox"
           }
          ],
          "scatterpolar": [
           {
            "marker": {
             "colorbar": {
              "outlinewidth": 0,
              "ticks": ""
             }
            },
            "type": "scatterpolar"
           }
          ],
          "scatterpolargl": [
           {
            "marker": {
             "colorbar": {
              "outlinewidth": 0,
              "ticks": ""
             }
            },
            "type": "scatterpolargl"
           }
          ],
          "scatterternary": [
           {
            "marker": {
             "colorbar": {
              "outlinewidth": 0,
              "ticks": ""
             }
            },
            "type": "scatterternary"
           }
          ],
          "surface": [
           {
            "colorbar": {
             "outlinewidth": 0,
             "ticks": ""
            },
            "colorscale": [
             [
              0,
              "#0d0887"
             ],
             [
              0.1111111111111111,
              "#46039f"
             ],
             [
              0.2222222222222222,
              "#7201a8"
             ],
             [
              0.3333333333333333,
              "#9c179e"
             ],
             [
              0.4444444444444444,
              "#bd3786"
             ],
             [
              0.5555555555555556,
              "#d8576b"
             ],
             [
              0.6666666666666666,
              "#ed7953"
             ],
             [
              0.7777777777777778,
              "#fb9f3a"
             ],
             [
              0.8888888888888888,
              "#fdca26"
             ],
             [
              1,
              "#f0f921"
             ]
            ],
            "type": "surface"
           }
          ],
          "table": [
           {
            "cells": {
             "fill": {
              "color": "#EBF0F8"
             },
             "line": {
              "color": "white"
             }
            },
            "header": {
             "fill": {
              "color": "#C8D4E3"
             },
             "line": {
              "color": "white"
             }
            },
            "type": "table"
           }
          ]
         },
         "layout": {
          "annotationdefaults": {
           "arrowcolor": "#2a3f5f",
           "arrowhead": 0,
           "arrowwidth": 1
          },
          "coloraxis": {
           "colorbar": {
            "outlinewidth": 0,
            "ticks": ""
           }
          },
          "colorscale": {
           "diverging": [
            [
             0,
             "#8e0152"
            ],
            [
             0.1,
             "#c51b7d"
            ],
            [
             0.2,
             "#de77ae"
            ],
            [
             0.3,
             "#f1b6da"
            ],
            [
             0.4,
             "#fde0ef"
            ],
            [
             0.5,
             "#f7f7f7"
            ],
            [
             0.6,
             "#e6f5d0"
            ],
            [
             0.7,
             "#b8e186"
            ],
            [
             0.8,
             "#7fbc41"
            ],
            [
             0.9,
             "#4d9221"
            ],
            [
             1,
             "#276419"
            ]
           ],
           "sequential": [
            [
             0,
             "#0d0887"
            ],
            [
             0.1111111111111111,
             "#46039f"
            ],
            [
             0.2222222222222222,
             "#7201a8"
            ],
            [
             0.3333333333333333,
             "#9c179e"
            ],
            [
             0.4444444444444444,
             "#bd3786"
            ],
            [
             0.5555555555555556,
             "#d8576b"
            ],
            [
             0.6666666666666666,
             "#ed7953"
            ],
            [
             0.7777777777777778,
             "#fb9f3a"
            ],
            [
             0.8888888888888888,
             "#fdca26"
            ],
            [
             1,
             "#f0f921"
            ]
           ],
           "sequentialminus": [
            [
             0,
             "#0d0887"
            ],
            [
             0.1111111111111111,
             "#46039f"
            ],
            [
             0.2222222222222222,
             "#7201a8"
            ],
            [
             0.3333333333333333,
             "#9c179e"
            ],
            [
             0.4444444444444444,
             "#bd3786"
            ],
            [
             0.5555555555555556,
             "#d8576b"
            ],
            [
             0.6666666666666666,
             "#ed7953"
            ],
            [
             0.7777777777777778,
             "#fb9f3a"
            ],
            [
             0.8888888888888888,
             "#fdca26"
            ],
            [
             1,
             "#f0f921"
            ]
           ]
          },
          "colorway": [
           "#636efa",
           "#EF553B",
           "#00cc96",
           "#ab63fa",
           "#FFA15A",
           "#19d3f3",
           "#FF6692",
           "#B6E880",
           "#FF97FF",
           "#FECB52"
          ],
          "font": {
           "color": "#2a3f5f"
          },
          "geo": {
           "bgcolor": "white",
           "lakecolor": "white",
           "landcolor": "#E5ECF6",
           "showlakes": true,
           "showland": true,
           "subunitcolor": "white"
          },
          "hoverlabel": {
           "align": "left"
          },
          "hovermode": "closest",
          "mapbox": {
           "style": "light"
          },
          "paper_bgcolor": "white",
          "plot_bgcolor": "#E5ECF6",
          "polar": {
           "angularaxis": {
            "gridcolor": "white",
            "linecolor": "white",
            "ticks": ""
           },
           "bgcolor": "#E5ECF6",
           "radialaxis": {
            "gridcolor": "white",
            "linecolor": "white",
            "ticks": ""
           }
          },
          "scene": {
           "xaxis": {
            "backgroundcolor": "#E5ECF6",
            "gridcolor": "white",
            "gridwidth": 2,
            "linecolor": "white",
            "showbackground": true,
            "ticks": "",
            "zerolinecolor": "white"
           },
           "yaxis": {
            "backgroundcolor": "#E5ECF6",
            "gridcolor": "white",
            "gridwidth": 2,
            "linecolor": "white",
            "showbackground": true,
            "ticks": "",
            "zerolinecolor": "white"
           },
           "zaxis": {
            "backgroundcolor": "#E5ECF6",
            "gridcolor": "white",
            "gridwidth": 2,
            "linecolor": "white",
            "showbackground": true,
            "ticks": "",
            "zerolinecolor": "white"
           }
          },
          "shapedefaults": {
           "line": {
            "color": "#2a3f5f"
           }
          },
          "ternary": {
           "aaxis": {
            "gridcolor": "white",
            "linecolor": "white",
            "ticks": ""
           },
           "baxis": {
            "gridcolor": "white",
            "linecolor": "white",
            "ticks": ""
           },
           "bgcolor": "#E5ECF6",
           "caxis": {
            "gridcolor": "white",
            "linecolor": "white",
            "ticks": ""
           }
          },
          "title": {
           "x": 0.05
          },
          "xaxis": {
           "automargin": true,
           "gridcolor": "white",
           "linecolor": "white",
           "ticks": "",
           "title": {
            "standoff": 15
           },
           "zerolinecolor": "white",
           "zerolinewidth": 2
          },
          "yaxis": {
           "automargin": true,
           "gridcolor": "white",
           "linecolor": "white",
           "ticks": "",
           "title": {
            "standoff": 15
           },
           "zerolinecolor": "white",
           "zerolinewidth": 2
          }
         }
        }
       }
      },
      "text/html": [
       "<div>\n",
       "        \n",
       "        \n",
       "            <div id=\"d17eb974-84d5-44c8-8c7b-3a82ed2b46e7\" class=\"plotly-graph-div\" style=\"height:525px; width:100%;\"></div>\n",
       "            <script type=\"text/javascript\">\n",
       "                require([\"plotly\"], function(Plotly) {\n",
       "                    window.PLOTLYENV=window.PLOTLYENV || {};\n",
       "                    \n",
       "                if (document.getElementById(\"d17eb974-84d5-44c8-8c7b-3a82ed2b46e7\")) {\n",
       "                    Plotly.newPlot(\n",
       "                        'd17eb974-84d5-44c8-8c7b-3a82ed2b46e7',\n",
       "                        [{\"fill\": \"toself\", \"name\": \"edm\", \"r\": [0.8229, 1.58193851282806, 0.45, -1.1509060943074412, 0.06179873, 0.14890556640000002, 0.5209334999999999], \"theta\": [\"energy\", \"loudness\", \"mode\", \"key\", \"acousticness\", \"instrumentalness\", \"dance_valence\"], \"type\": \"scatterpolar\"}, {\"fill\": \"toself\", \"name\": \"popedm\", \"r\": [0.7409500000000001, 1.2142364072820255, 0.53, -2.4599427823221, 0.1433284, 0.0184153128, 0.476229], \"theta\": [\"energy\", \"loudness\", \"mode\", \"key\", \"acousticness\", \"instrumentalness\", \"dance_valence\"], \"type\": \"scatterpolar\"}, {\"fill\": \"toself\", \"name\": \"electropop\", \"r\": [0.62772, 0.33768322572228204, 0.56, 0.7151674822240942, 0.222023638, 0.0376679629, 0.5752870000000001], \"theta\": [\"energy\", \"loudness\", \"mode\", \"key\", \"acousticness\", \"instrumentalness\", \"dance_valence\"], \"type\": \"scatterpolar\"}],\n",
       "                        {\"template\": {\"data\": {\"bar\": [{\"error_x\": {\"color\": \"#2a3f5f\"}, \"error_y\": {\"color\": \"#2a3f5f\"}, \"marker\": {\"line\": {\"color\": \"#E5ECF6\", \"width\": 0.5}}, \"type\": \"bar\"}], \"barpolar\": [{\"marker\": {\"line\": {\"color\": \"#E5ECF6\", \"width\": 0.5}}, \"type\": \"barpolar\"}], \"carpet\": [{\"aaxis\": {\"endlinecolor\": \"#2a3f5f\", \"gridcolor\": \"white\", \"linecolor\": \"white\", \"minorgridcolor\": \"white\", \"startlinecolor\": \"#2a3f5f\"}, \"baxis\": {\"endlinecolor\": \"#2a3f5f\", \"gridcolor\": \"white\", \"linecolor\": \"white\", \"minorgridcolor\": \"white\", \"startlinecolor\": \"#2a3f5f\"}, \"type\": \"carpet\"}], \"choropleth\": [{\"colorbar\": {\"outlinewidth\": 0, \"ticks\": \"\"}, \"type\": \"choropleth\"}], \"contour\": [{\"colorbar\": {\"outlinewidth\": 0, \"ticks\": \"\"}, \"colorscale\": [[0.0, \"#0d0887\"], [0.1111111111111111, \"#46039f\"], [0.2222222222222222, \"#7201a8\"], [0.3333333333333333, \"#9c179e\"], [0.4444444444444444, \"#bd3786\"], [0.5555555555555556, \"#d8576b\"], [0.6666666666666666, \"#ed7953\"], [0.7777777777777778, \"#fb9f3a\"], [0.8888888888888888, \"#fdca26\"], [1.0, \"#f0f921\"]], \"type\": \"contour\"}], \"contourcarpet\": [{\"colorbar\": {\"outlinewidth\": 0, \"ticks\": \"\"}, \"type\": \"contourcarpet\"}], \"heatmap\": [{\"colorbar\": {\"outlinewidth\": 0, \"ticks\": \"\"}, \"colorscale\": [[0.0, \"#0d0887\"], [0.1111111111111111, \"#46039f\"], [0.2222222222222222, \"#7201a8\"], [0.3333333333333333, \"#9c179e\"], [0.4444444444444444, \"#bd3786\"], [0.5555555555555556, \"#d8576b\"], [0.6666666666666666, \"#ed7953\"], [0.7777777777777778, \"#fb9f3a\"], [0.8888888888888888, \"#fdca26\"], [1.0, \"#f0f921\"]], \"type\": \"heatmap\"}], \"heatmapgl\": [{\"colorbar\": {\"outlinewidth\": 0, \"ticks\": \"\"}, \"colorscale\": [[0.0, \"#0d0887\"], [0.1111111111111111, \"#46039f\"], [0.2222222222222222, \"#7201a8\"], [0.3333333333333333, \"#9c179e\"], [0.4444444444444444, \"#bd3786\"], [0.5555555555555556, \"#d8576b\"], [0.6666666666666666, \"#ed7953\"], [0.7777777777777778, \"#fb9f3a\"], [0.8888888888888888, \"#fdca26\"], [1.0, \"#f0f921\"]], \"type\": \"heatmapgl\"}], \"histogram\": [{\"marker\": {\"colorbar\": {\"outlinewidth\": 0, \"ticks\": \"\"}}, \"type\": \"histogram\"}], \"histogram2d\": [{\"colorbar\": {\"outlinewidth\": 0, \"ticks\": \"\"}, \"colorscale\": [[0.0, \"#0d0887\"], [0.1111111111111111, \"#46039f\"], [0.2222222222222222, \"#7201a8\"], [0.3333333333333333, \"#9c179e\"], [0.4444444444444444, \"#bd3786\"], [0.5555555555555556, \"#d8576b\"], [0.6666666666666666, \"#ed7953\"], [0.7777777777777778, \"#fb9f3a\"], [0.8888888888888888, \"#fdca26\"], [1.0, \"#f0f921\"]], \"type\": \"histogram2d\"}], \"histogram2dcontour\": [{\"colorbar\": {\"outlinewidth\": 0, \"ticks\": \"\"}, \"colorscale\": [[0.0, \"#0d0887\"], [0.1111111111111111, \"#46039f\"], [0.2222222222222222, \"#7201a8\"], [0.3333333333333333, \"#9c179e\"], [0.4444444444444444, \"#bd3786\"], [0.5555555555555556, \"#d8576b\"], [0.6666666666666666, \"#ed7953\"], [0.7777777777777778, \"#fb9f3a\"], [0.8888888888888888, \"#fdca26\"], [1.0, \"#f0f921\"]], \"type\": \"histogram2dcontour\"}], \"mesh3d\": [{\"colorbar\": {\"outlinewidth\": 0, \"ticks\": \"\"}, \"type\": \"mesh3d\"}], \"parcoords\": [{\"line\": {\"colorbar\": {\"outlinewidth\": 0, \"ticks\": \"\"}}, \"type\": \"parcoords\"}], \"pie\": [{\"automargin\": true, \"type\": \"pie\"}], \"scatter\": [{\"marker\": {\"colorbar\": {\"outlinewidth\": 0, \"ticks\": \"\"}}, \"type\": \"scatter\"}], \"scatter3d\": [{\"line\": {\"colorbar\": {\"outlinewidth\": 0, \"ticks\": \"\"}}, \"marker\": {\"colorbar\": {\"outlinewidth\": 0, \"ticks\": \"\"}}, \"type\": \"scatter3d\"}], \"scattercarpet\": [{\"marker\": {\"colorbar\": {\"outlinewidth\": 0, \"ticks\": \"\"}}, \"type\": \"scattercarpet\"}], \"scattergeo\": [{\"marker\": {\"colorbar\": {\"outlinewidth\": 0, \"ticks\": \"\"}}, \"type\": \"scattergeo\"}], \"scattergl\": [{\"marker\": {\"colorbar\": {\"outlinewidth\": 0, \"ticks\": \"\"}}, \"type\": \"scattergl\"}], \"scattermapbox\": [{\"marker\": {\"colorbar\": {\"outlinewidth\": 0, \"ticks\": \"\"}}, \"type\": \"scattermapbox\"}], \"scatterpolar\": [{\"marker\": {\"colorbar\": {\"outlinewidth\": 0, \"ticks\": \"\"}}, \"type\": \"scatterpolar\"}], \"scatterpolargl\": [{\"marker\": {\"colorbar\": {\"outlinewidth\": 0, \"ticks\": \"\"}}, \"type\": \"scatterpolargl\"}], \"scatterternary\": [{\"marker\": {\"colorbar\": {\"outlinewidth\": 0, \"ticks\": \"\"}}, \"type\": \"scatterternary\"}], \"surface\": [{\"colorbar\": {\"outlinewidth\": 0, \"ticks\": \"\"}, \"colorscale\": [[0.0, \"#0d0887\"], [0.1111111111111111, \"#46039f\"], [0.2222222222222222, \"#7201a8\"], [0.3333333333333333, \"#9c179e\"], [0.4444444444444444, \"#bd3786\"], [0.5555555555555556, \"#d8576b\"], [0.6666666666666666, \"#ed7953\"], [0.7777777777777778, \"#fb9f3a\"], [0.8888888888888888, \"#fdca26\"], [1.0, \"#f0f921\"]], \"type\": \"surface\"}], \"table\": [{\"cells\": {\"fill\": {\"color\": \"#EBF0F8\"}, \"line\": {\"color\": \"white\"}}, \"header\": {\"fill\": {\"color\": \"#C8D4E3\"}, \"line\": {\"color\": \"white\"}}, \"type\": \"table\"}]}, \"layout\": {\"annotationdefaults\": {\"arrowcolor\": \"#2a3f5f\", \"arrowhead\": 0, \"arrowwidth\": 1}, \"coloraxis\": {\"colorbar\": {\"outlinewidth\": 0, \"ticks\": \"\"}}, \"colorscale\": {\"diverging\": [[0, \"#8e0152\"], [0.1, \"#c51b7d\"], [0.2, \"#de77ae\"], [0.3, \"#f1b6da\"], [0.4, \"#fde0ef\"], [0.5, \"#f7f7f7\"], [0.6, \"#e6f5d0\"], [0.7, \"#b8e186\"], [0.8, \"#7fbc41\"], [0.9, \"#4d9221\"], [1, \"#276419\"]], \"sequential\": [[0.0, \"#0d0887\"], [0.1111111111111111, \"#46039f\"], [0.2222222222222222, \"#7201a8\"], [0.3333333333333333, \"#9c179e\"], [0.4444444444444444, \"#bd3786\"], [0.5555555555555556, \"#d8576b\"], [0.6666666666666666, \"#ed7953\"], [0.7777777777777778, \"#fb9f3a\"], [0.8888888888888888, \"#fdca26\"], [1.0, \"#f0f921\"]], \"sequentialminus\": [[0.0, \"#0d0887\"], [0.1111111111111111, \"#46039f\"], [0.2222222222222222, \"#7201a8\"], [0.3333333333333333, \"#9c179e\"], [0.4444444444444444, \"#bd3786\"], [0.5555555555555556, \"#d8576b\"], [0.6666666666666666, \"#ed7953\"], [0.7777777777777778, \"#fb9f3a\"], [0.8888888888888888, \"#fdca26\"], [1.0, \"#f0f921\"]]}, \"colorway\": [\"#636efa\", \"#EF553B\", \"#00cc96\", \"#ab63fa\", \"#FFA15A\", \"#19d3f3\", \"#FF6692\", \"#B6E880\", \"#FF97FF\", \"#FECB52\"], \"font\": {\"color\": \"#2a3f5f\"}, \"geo\": {\"bgcolor\": \"white\", \"lakecolor\": \"white\", \"landcolor\": \"#E5ECF6\", \"showlakes\": true, \"showland\": true, \"subunitcolor\": \"white\"}, \"hoverlabel\": {\"align\": \"left\"}, \"hovermode\": \"closest\", \"mapbox\": {\"style\": \"light\"}, \"paper_bgcolor\": \"white\", \"plot_bgcolor\": \"#E5ECF6\", \"polar\": {\"angularaxis\": {\"gridcolor\": \"white\", \"linecolor\": \"white\", \"ticks\": \"\"}, \"bgcolor\": \"#E5ECF6\", \"radialaxis\": {\"gridcolor\": \"white\", \"linecolor\": \"white\", \"ticks\": \"\"}}, \"scene\": {\"xaxis\": {\"backgroundcolor\": \"#E5ECF6\", \"gridcolor\": \"white\", \"gridwidth\": 2, \"linecolor\": \"white\", \"showbackground\": true, \"ticks\": \"\", \"zerolinecolor\": \"white\"}, \"yaxis\": {\"backgroundcolor\": \"#E5ECF6\", \"gridcolor\": \"white\", \"gridwidth\": 2, \"linecolor\": \"white\", \"showbackground\": true, \"ticks\": \"\", \"zerolinecolor\": \"white\"}, \"zaxis\": {\"backgroundcolor\": \"#E5ECF6\", \"gridcolor\": \"white\", \"gridwidth\": 2, \"linecolor\": \"white\", \"showbackground\": true, \"ticks\": \"\", \"zerolinecolor\": \"white\"}}, \"shapedefaults\": {\"line\": {\"color\": \"#2a3f5f\"}}, \"ternary\": {\"aaxis\": {\"gridcolor\": \"white\", \"linecolor\": \"white\", \"ticks\": \"\"}, \"baxis\": {\"gridcolor\": \"white\", \"linecolor\": \"white\", \"ticks\": \"\"}, \"bgcolor\": \"#E5ECF6\", \"caxis\": {\"gridcolor\": \"white\", \"linecolor\": \"white\", \"ticks\": \"\"}}, \"title\": {\"x\": 0.05}, \"xaxis\": {\"automargin\": true, \"gridcolor\": \"white\", \"linecolor\": \"white\", \"ticks\": \"\", \"title\": {\"standoff\": 15}, \"zerolinecolor\": \"white\", \"zerolinewidth\": 2}, \"yaxis\": {\"automargin\": true, \"gridcolor\": \"white\", \"linecolor\": \"white\", \"ticks\": \"\", \"title\": {\"standoff\": 15}, \"zerolinecolor\": \"white\", \"zerolinewidth\": 2}}}},\n",
       "                        {\"responsive\": true}\n",
       "                    ).then(function(){\n",
       "                            \n",
       "var gd = document.getElementById('d17eb974-84d5-44c8-8c7b-3a82ed2b46e7');\n",
       "var x = new MutationObserver(function (mutations, observer) {{\n",
       "        var display = window.getComputedStyle(gd).display;\n",
       "        if (!display || display === 'none') {{\n",
       "            console.log([gd, 'removed!']);\n",
       "            Plotly.purge(gd);\n",
       "            observer.disconnect();\n",
       "        }}\n",
       "}});\n",
       "\n",
       "// Listen for the removal of the full notebook cells\n",
       "var notebookContainer = gd.closest('#notebook-container');\n",
       "if (notebookContainer) {{\n",
       "    x.observe(notebookContainer, {childList: true});\n",
       "}}\n",
       "\n",
       "// Listen for the clearing of the current output cell\n",
       "var outputEl = gd.closest('.output');\n",
       "if (outputEl) {{\n",
       "    x.observe(outputEl, {childList: true});\n",
       "}}\n",
       "\n",
       "                        })\n",
       "                };\n",
       "                });\n",
       "            </script>\n",
       "        </div>"
      ]
     },
     "metadata": {},
     "output_type": "display_data"
    }
   ],
   "source": [
    "import plotly.graph_objects as go\n",
    "\n",
    "features = ['energy','loudness', 'mode', 'key',\n",
    "            'acousticness', 'instrumentalness','dance_valence']\n",
    "\n",
    "fig = go.Figure()\n",
    "\n",
    "top_genres = odd2\n",
    "print(top_genres)\n",
    "for genre in top_genres:\n",
    "    g_feat = play_features[features].loc[genre]\n",
    "    print(g_feat)\n",
    "    fig.add_trace(go.Scatterpolar(\n",
    "          r=g_feat,\n",
    "          theta=features,\n",
    "          fill='toself',\n",
    "          name=genre\n",
    "    ))\n",
    "\n",
    "# fig.update_layout(\n",
    "#   polar=dict(\n",
    "#     radialaxis=dict(\n",
    "#       visible=True,\n",
    "#       range=[0, 5]\n",
    "#     )),\n",
    "#   showlegend=False\n",
    "# )\n",
    "fig.write_image(\"odd3_radar_map.png\")\n",
    "fig.show()"
   ]
  },
  {
   "cell_type": "code",
   "execution_count": null,
   "metadata": {},
   "outputs": [],
   "source": []
  }
 ],
 "metadata": {
  "kernelspec": {
   "display_name": "Python 3",
   "language": "python",
   "name": "python3"
  },
  "language_info": {
   "codemirror_mode": {
    "name": "ipython",
    "version": 3
   },
   "file_extension": ".py",
   "mimetype": "text/x-python",
   "name": "python",
   "nbconvert_exporter": "python",
   "pygments_lexer": "ipython3",
   "version": "3.7.5"
  }
 },
 "nbformat": 4,
 "nbformat_minor": 2
}
