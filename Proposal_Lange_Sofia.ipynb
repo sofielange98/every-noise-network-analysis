{
 "cells": [
  {
   "cell_type": "markdown",
   "metadata": {
    "colab_type": "text",
    "id": "WxiG_ITE5onr"
   },
   "source": [
    "# Project Proposal\n",
    "\n",
    "Student Name: __Sofia Lange___\n",
    "\n",
    "\n",
    "Group Members: __Srirachan Reddi Varra__ (up to 2 others) \n",
    "\n",
    "**If you are working in a group, you should EACH submit a copy of your proposal.  The copies may be identical.**"
   ]
  },
  {
   "cell_type": "markdown",
   "metadata": {
    "colab_type": "text",
    "id": "hNQOqUFV5ont"
   },
   "source": [
    "The dataset has been derived from: http://everynoise.com/\n",
    "\n",
    "We have attached the notebook which generated the dataset, it is titled EveryNoiseScraper.ipynb"
   ]
  },
  {
   "cell_type": "code",
   "execution_count": 3,
   "metadata": {
    "colab": {
     "base_uri": "https://localhost:8080/",
     "height": 956
    },
    "colab_type": "code",
    "id": "vJVynut4UfGe",
    "outputId": "db65db22-4d8f-4fc7-b3b6-ddd56e479287"
   },
   "outputs": [
    {
     "data": {
      "text/html": [
       "<div>\n",
       "<style scoped>\n",
       "    .dataframe tbody tr th:only-of-type {\n",
       "        vertical-align: middle;\n",
       "    }\n",
       "\n",
       "    .dataframe tbody tr th {\n",
       "        vertical-align: top;\n",
       "    }\n",
       "\n",
       "    .dataframe thead th {\n",
       "        text-align: right;\n",
       "    }\n",
       "</style>\n",
       "<table border=\"1\" class=\"dataframe\">\n",
       "  <thead>\n",
       "    <tr style=\"text-align: right;\">\n",
       "      <th></th>\n",
       "      <th>Unnamed: 0</th>\n",
       "      <th>GENRE</th>\n",
       "      <th>SIM_GENRES</th>\n",
       "      <th>SIM_WEIGHTS</th>\n",
       "      <th>OPP_GENRES</th>\n",
       "      <th>OPP_WEIGHTS</th>\n",
       "      <th>REL_ARTISTS</th>\n",
       "      <th>ARTIST_WEIGHTS</th>\n",
       "      <th>SPOTIFY_URL</th>\n",
       "    </tr>\n",
       "  </thead>\n",
       "  <tbody>\n",
       "    <tr>\n",
       "      <th>0</th>\n",
       "      <td>0</td>\n",
       "      <td>backgroundmusic</td>\n",
       "      <td>['reiki', 'calminginstrumental', 'yoga', 'back...</td>\n",
       "      <td>['103', '120', '101', '240', '102', '125', '11...</td>\n",
       "      <td>['mahraganat', 'divahouse', 'oldschoolukhiphop...</td>\n",
       "      <td>['160', '100', '121', '110', '135', '136', '12...</td>\n",
       "      <td>['NoemiNucci', 'JuditheAbelsen', 'FabienneWill...</td>\n",
       "      <td>['113', '117', '106', '131', '109', '115', '11...</td>\n",
       "      <td>https://open.spotify.com/user/thesoundsofspoti...</td>\n",
       "    </tr>\n",
       "    <tr>\n",
       "      <th>1</th>\n",
       "      <td>1</td>\n",
       "      <td>classicmoroccanpop</td>\n",
       "      <td>['bluesrock', 'andalusianclassical', 'chaabima...</td>\n",
       "      <td>['103', '107', '109', '100', '102', '103', '10...</td>\n",
       "      <td>['shiverpop', 'gravewave', 'tassieindie', 'est...</td>\n",
       "      <td>['112', '112', '105', '102', '124', '100', '16...</td>\n",
       "      <td>['HajHusseinToulali', 'AbdelhadiBelkheyat', 'H...</td>\n",
       "      <td>['102', '103', '103', '108', '108', '102', '10...</td>\n",
       "      <td>https://open.spotify.com/user/thesoundsofspoti...</td>\n",
       "    </tr>\n",
       "    <tr>\n",
       "      <th>2</th>\n",
       "      <td>2</td>\n",
       "      <td>orthodoxchant</td>\n",
       "      <td>['universitychoir', 'polishchoir', 'ukrainianc...</td>\n",
       "      <td>['102', '105', '107', '104', '106', '240', '10...</td>\n",
       "      <td>['sambass', 'funkybreaks', 'hardbass', 'hardco...</td>\n",
       "      <td>['107', '110', '158', '100', '119', '111', '10...</td>\n",
       "      <td>['LegeArtis', 'PeterMichaelides', 'CapellaGreg...</td>\n",
       "      <td>['114', '100', '160', '127', '115', '115', '10...</td>\n",
       "      <td>https://open.spotify.com/user/thesoundsofspoti...</td>\n",
       "    </tr>\n",
       "    <tr>\n",
       "      <th>3</th>\n",
       "      <td>3</td>\n",
       "      <td>tar</td>\n",
       "      <td>['oud', 'persiantraditional', 'bansuri', 'tar'...</td>\n",
       "      <td>['106', '120', '101', '240', '103', '113', '10...</td>\n",
       "      <td>['happyhardcore', 'aggrotech', 'nightcore', 'b...</td>\n",
       "      <td>['109', '107', '127', '114', '115', '120', '12...</td>\n",
       "      <td>['KiyarashSaket', 'YusefForutan', 'HamidMoteba...</td>\n",
       "      <td>['100', '100', '111', '100', '100', '100', '10...</td>\n",
       "      <td>https://open.spotify.com/user/thesoundsofspoti...</td>\n",
       "    </tr>\n",
       "    <tr>\n",
       "      <th>4</th>\n",
       "      <td>4</td>\n",
       "      <td>reggae</td>\n",
       "      <td>['dancehall', 'brazilianreggae', 'skarevival',...</td>\n",
       "      <td>['109', '105', '114', '101', '100', '127', '11...</td>\n",
       "      <td>['brazilianlo-firock', 'martialindustrial', 'p...</td>\n",
       "      <td>['106', '107', '155', '121', '160', '108', '14...</td>\n",
       "      <td>['TheItals', 'MykalRose', 'JohnnieClark', 'Asw...</td>\n",
       "      <td>['101', '102', '100', '105', '101', '105', '10...</td>\n",
       "      <td>https://open.spotify.com/user/thesoundsofspoti...</td>\n",
       "    </tr>\n",
       "  </tbody>\n",
       "</table>\n",
       "</div>"
      ],
      "text/plain": [
       "   Unnamed: 0               GENRE  \\\n",
       "0           0     backgroundmusic   \n",
       "1           1  classicmoroccanpop   \n",
       "2           2       orthodoxchant   \n",
       "3           3                 tar   \n",
       "4           4              reggae   \n",
       "\n",
       "                                          SIM_GENRES  \\\n",
       "0  ['reiki', 'calminginstrumental', 'yoga', 'back...   \n",
       "1  ['bluesrock', 'andalusianclassical', 'chaabima...   \n",
       "2  ['universitychoir', 'polishchoir', 'ukrainianc...   \n",
       "3  ['oud', 'persiantraditional', 'bansuri', 'tar'...   \n",
       "4  ['dancehall', 'brazilianreggae', 'skarevival',...   \n",
       "\n",
       "                                         SIM_WEIGHTS  \\\n",
       "0  ['103', '120', '101', '240', '102', '125', '11...   \n",
       "1  ['103', '107', '109', '100', '102', '103', '10...   \n",
       "2  ['102', '105', '107', '104', '106', '240', '10...   \n",
       "3  ['106', '120', '101', '240', '103', '113', '10...   \n",
       "4  ['109', '105', '114', '101', '100', '127', '11...   \n",
       "\n",
       "                                          OPP_GENRES  \\\n",
       "0  ['mahraganat', 'divahouse', 'oldschoolukhiphop...   \n",
       "1  ['shiverpop', 'gravewave', 'tassieindie', 'est...   \n",
       "2  ['sambass', 'funkybreaks', 'hardbass', 'hardco...   \n",
       "3  ['happyhardcore', 'aggrotech', 'nightcore', 'b...   \n",
       "4  ['brazilianlo-firock', 'martialindustrial', 'p...   \n",
       "\n",
       "                                         OPP_WEIGHTS  \\\n",
       "0  ['160', '100', '121', '110', '135', '136', '12...   \n",
       "1  ['112', '112', '105', '102', '124', '100', '16...   \n",
       "2  ['107', '110', '158', '100', '119', '111', '10...   \n",
       "3  ['109', '107', '127', '114', '115', '120', '12...   \n",
       "4  ['106', '107', '155', '121', '160', '108', '14...   \n",
       "\n",
       "                                         REL_ARTISTS  \\\n",
       "0  ['NoemiNucci', 'JuditheAbelsen', 'FabienneWill...   \n",
       "1  ['HajHusseinToulali', 'AbdelhadiBelkheyat', 'H...   \n",
       "2  ['LegeArtis', 'PeterMichaelides', 'CapellaGreg...   \n",
       "3  ['KiyarashSaket', 'YusefForutan', 'HamidMoteba...   \n",
       "4  ['TheItals', 'MykalRose', 'JohnnieClark', 'Asw...   \n",
       "\n",
       "                                      ARTIST_WEIGHTS  \\\n",
       "0  ['113', '117', '106', '131', '109', '115', '11...   \n",
       "1  ['102', '103', '103', '108', '108', '102', '10...   \n",
       "2  ['114', '100', '160', '127', '115', '115', '10...   \n",
       "3  ['100', '100', '111', '100', '100', '100', '10...   \n",
       "4  ['101', '102', '100', '105', '101', '105', '10...   \n",
       "\n",
       "                                         SPOTIFY_URL  \n",
       "0  https://open.spotify.com/user/thesoundsofspoti...  \n",
       "1  https://open.spotify.com/user/thesoundsofspoti...  \n",
       "2  https://open.spotify.com/user/thesoundsofspoti...  \n",
       "3  https://open.spotify.com/user/thesoundsofspoti...  \n",
       "4  https://open.spotify.com/user/thesoundsofspoti...  "
      ]
     },
     "execution_count": 3,
     "metadata": {},
     "output_type": "execute_result"
    }
   ],
   "source": [
    "import pandas as pd \n",
    "df_all_genres = pd.read_csv('all_genres.csv')\n",
    "df_school_genres = pd.read_csv('school_genres.csv')\n",
    "df_all_genres.head()"
   ]
  },
  {
   "cell_type": "code",
   "execution_count": 2,
   "metadata": {
    "colab": {},
    "colab_type": "code",
    "id": "Pg0z6SAmJHm3"
   },
   "outputs": [
    {
     "data": {
      "text/html": [
       "<div>\n",
       "<style scoped>\n",
       "    .dataframe tbody tr th:only-of-type {\n",
       "        vertical-align: middle;\n",
       "    }\n",
       "\n",
       "    .dataframe tbody tr th {\n",
       "        vertical-align: top;\n",
       "    }\n",
       "\n",
       "    .dataframe thead th {\n",
       "        text-align: right;\n",
       "    }\n",
       "</style>\n",
       "<table border=\"1\" class=\"dataframe\">\n",
       "  <thead>\n",
       "    <tr style=\"text-align: right;\">\n",
       "      <th></th>\n",
       "      <th>Unnamed: 0</th>\n",
       "      <th>SCHOOL</th>\n",
       "      <th>GENRES</th>\n",
       "      <th>PLAYLIST_LINK</th>\n",
       "    </tr>\n",
       "  </thead>\n",
       "  <tbody>\n",
       "    <tr>\n",
       "      <th>0</th>\n",
       "      <td>0</td>\n",
       "      <td>Texas A &amp; M University-College Station</td>\n",
       "      <td>['reddirt', 'outlawcountry', 'texascountry', '...</td>\n",
       "      <td>https://embed.spotify.com/?uri=spotify:playlis...</td>\n",
       "    </tr>\n",
       "    <tr>\n",
       "      <th>1</th>\n",
       "      <td>1</td>\n",
       "      <td>The University of Texas at Austin</td>\n",
       "      <td>['modernrock', 'indiepop', 'pop', 'indiepoptim...</td>\n",
       "      <td>https://embed.spotify.com/?uri=spotify:playlis...</td>\n",
       "    </tr>\n",
       "    <tr>\n",
       "      <th>2</th>\n",
       "      <td>2</td>\n",
       "      <td>Ohio State University-Main Campus</td>\n",
       "      <td>['pop', 'indiepoptimism', 'modernrock', 'indie...</td>\n",
       "      <td>https://embed.spotify.com/?uri=spotify:playlis...</td>\n",
       "    </tr>\n",
       "    <tr>\n",
       "      <th>3</th>\n",
       "      <td>3</td>\n",
       "      <td>University of Central Florida</td>\n",
       "      <td>['pop', 'poprap', 'rap', 'hiphop', 'electrohou...</td>\n",
       "      <td>https://embed.spotify.com/?uri=spotify:playlis...</td>\n",
       "    </tr>\n",
       "    <tr>\n",
       "      <th>4</th>\n",
       "      <td>4</td>\n",
       "      <td>Arizona State University-Tempe</td>\n",
       "      <td>['edm', 'electrohouse', 'pop', 'electronictrap...</td>\n",
       "      <td>https://embed.spotify.com/?uri=spotify:playlis...</td>\n",
       "    </tr>\n",
       "  </tbody>\n",
       "</table>\n",
       "</div>"
      ],
      "text/plain": [
       "   Unnamed: 0                                  SCHOOL  \\\n",
       "0           0  Texas A & M University-College Station   \n",
       "1           1       The University of Texas at Austin   \n",
       "2           2       Ohio State University-Main Campus   \n",
       "3           3           University of Central Florida   \n",
       "4           4          Arizona State University-Tempe   \n",
       "\n",
       "                                              GENRES  \\\n",
       "0  ['reddirt', 'outlawcountry', 'texascountry', '...   \n",
       "1  ['modernrock', 'indiepop', 'pop', 'indiepoptim...   \n",
       "2  ['pop', 'indiepoptimism', 'modernrock', 'indie...   \n",
       "3  ['pop', 'poprap', 'rap', 'hiphop', 'electrohou...   \n",
       "4  ['edm', 'electrohouse', 'pop', 'electronictrap...   \n",
       "\n",
       "                                       PLAYLIST_LINK  \n",
       "0  https://embed.spotify.com/?uri=spotify:playlis...  \n",
       "1  https://embed.spotify.com/?uri=spotify:playlis...  \n",
       "2  https://embed.spotify.com/?uri=spotify:playlis...  \n",
       "3  https://embed.spotify.com/?uri=spotify:playlis...  \n",
       "4  https://embed.spotify.com/?uri=spotify:playlis...  "
      ]
     },
     "execution_count": 2,
     "metadata": {},
     "output_type": "execute_result"
    }
   ],
   "source": [
    "df_school_genres.head()"
   ]
  },
  {
   "cell_type": "markdown",
   "metadata": {
    "colab_type": "text",
    "id": "t2c28jnDznky"
   },
   "source": [
    "## Questions of Interest\n",
    "\n",
    "What is the community structure of subgenres across Spotify? How are communities assembled with various community detection / formation\n",
    "algorithms such as AGM, BigCLAM, Spectral Graph Partitioning, Graph Laplacian and Modularity Maximization? In addition while community \n",
    "detection algorithms can show relationships between genres, how would other metric / metadata based methods find communities? How are artists \n",
    "distributed across the subgenre graph? What are their primary features that categorize a subgenre?\n",
    "\n",
    "## Description of everynoise.com, and the dataset we scraped from there.\n",
    "\n",
    "The website is a collection of 3,652 (and increasing) subgenres of music across \n",
    "Spotify along with several other interesting lists such as one for the top genres of \n",
    "over 2000 universities across the globe. Each genre links to a page where the user \n",
    "can open a playlist for that genre through Spotify and listen to example tracks that \n",
    "characterize that genre. The dataset expands to the Spotify playlists themselves,\n",
    "where their API can be used to gather information about the playlist and audio \n",
    "features the songs themselves. Each subgenre has a table of related subgenres,\n",
    "and opposite subgenres as well as example artists whose work heavily fits into the \n",
    "genre.\n",
    "We used python and BeautifulSoup to scrape our initial dataset from this website. It includes, for each subgenre, the related subgenres, the subgenres which are deemed the \"farthest away\" from them, as well as that subgenres related artists. Furthermore, we collected the size of the elements referring to these entities because the website sizes elements according to how related they are (or not related), to possibly use as weights for the edges. \n",
    "We also generated the dataset called \"school_genres\" using the every school add on at http://everynoise.com/everyschool.cgi. We got all schools in the USA and the most popular genres for that school, and we also collected the links to the related spotify playlists for that school in order to gather data about music features. In addition those related genres have weights that are displayed by the font size, so that information was scraped from the website, so for each genre's related genres there is a list of weights as well. This will provide an interesting weighted graph.\n",
    "\n",
    "## Methods of Analysis\n",
    "\n",
    "Finding community structure can be done with several algorithms such as AGM, BigCLAM,\n",
    "Spectral Graph Partitioning, Graph Laplacian, and Modularity Maximization. In addition to this\n",
    "each song has a set of audio features $\\{key,mode,time-signature,acousticness,etc..\\}$. With \n",
    "this set of features we can construct a vector for each song and get averages for the subgenre \n",
    "playlists. Generes could then be generated using clustering algorithms like as GMM and K-Means.\n",
    "In addition to the exploration of music subgenres *everynoise* provides a list of the top genres\n",
    "for each over 2000 universities. This can be analyzed by using graphical orderings/embeddings\n",
    "to find the ordering of top genres of across universities in United States. This ordering can \n",
    "be constructed with page rank and the SpringRank Hamiltonian.\n",
    "The hypothesis is that the different community detection algorithms will in general find the majority of same communities with only little outliers and edge cases that will vary between each of the 5 methods.  The analysis will use Python and specifically pre-constructed network packages such as NetworkX and ideally graph-tool (for it's performance)."
   ]
  },
  {
   "cell_type": "code",
   "execution_count": 2,
   "metadata": {},
   "outputs": [
    {
     "name": "stdout",
     "output_type": "stream",
     "text": [
      "Collecting graph_tool\n",
      "\u001b[31m  Could not find a version that satisfies the requirement graph_tool (from versions: )\u001b[0m\n",
      "\u001b[31mNo matching distribution found for graph_tool\u001b[0m\n"
     ]
    }
   ],
   "source": [
    "!pip install graph_tool"
   ]
  },
  {
   "cell_type": "code",
   "execution_count": 4,
   "metadata": {},
   "outputs": [
    {
     "name": "stdout",
     "output_type": "stream",
     "text": [
      "[('backgroundmusic', 'reiki', 103), ('backgroundmusic', 'calminginstrumental', 120), ('backgroundmusic', 'yoga', 101), ('backgroundmusic', 'backgroundmusic', 240), ('backgroundmusic', 'tone', 102), ('backgroundmusic', 'focus', 125), ('backgroundmusic', 'atmosphere', 113), ('backgroundmusic', 'mindfulness', 100)]\n",
      "[('classicmoroccanpop', 'bluesrock', 103), ('classicmoroccanpop', 'andalusianclassical', 107), ('classicmoroccanpop', 'chaabimarocain', 109), ('classicmoroccanpop', 'swamppop', 100), ('classicmoroccanpop', 'desipop', 102), ('classicmoroccanpop', 'qawwali', 103), ('classicmoroccanpop', 'pakistanifolk', 103), ('classicmoroccanpop', 'spanishinvasion', 101), ('classicmoroccanpop', 'zydeco', 100), ('classicmoroccanpop', 'tradquebecois', 100), ('classicmoroccanpop', 'comic', 100), ('classicmoroccanpop', 'rockabilly', 100), ('classicmoroccanpop', 'motown', 101), ('classicmoroccanpop', 'modernblues', 102), ('classicmoroccanpop', 'classicmoroccanpop', 240), ('classicmoroccanpop', 'northernsoul', 102), ('classicmoroccanpop', 'filmi', 100), ('classicmoroccanpop', 'chutney', 103), ('classicmoroccanpop', 'maghreb', 102), ('classicmoroccanpop', 'classicrock', 100), ('classicmoroccanpop', 'world', 100), ('classicmoroccanpop', 'rai', 106), ('classicmoroccanpop', 'modernbollywood', 100), ('classicmoroccanpop', 'deepmotown', 100)]\n",
      "[('orthodoxchant', 'universitychoir', 102), ('orthodoxchant', 'polishchoir', 105), ('orthodoxchant', 'ukrainianchoir', 107), ('orthodoxchant', 'georgianpolyphony', 104), ('orthodoxchant', 'australianchoir', 106), ('orthodoxchant', 'orthodoxchant', 240), ('orthodoxchant', 'swedishchoir', 103), ('orthodoxchant', 'norwegianchoir', 101), ('orthodoxchant', 'britishchoir', 102), ('orthodoxchant', 'polishearlymusic', 103), ('orthodoxchant', 'byzantine', 120), ('orthodoxchant', 'italianrenaissance', 101), ('orthodoxchant', 'danishchoir', 100), ('orthodoxchant', 'choral', 100), ('orthodoxchant', 'finnishchoir', 105), ('orthodoxchant', 'franco-flemishschool', 103), ('orthodoxchant', 'americanchoir', 103), ('orthodoxchant', 'monastic', 101), ('orthodoxchant', 'chamberchoir', 102)]\n",
      "[('tar', 'oud', 106), ('tar', 'persiantraditional', 120), ('tar', 'bansuri', 101), ('tar', 'tar', 240), ('tar', 'bandoneon', 103), ('tar', 'persianneo-traditional', 113), ('tar', 'latinclassical', 102), ('tar', 'braziliancomposition', 102), ('tar', 'nuevotango', 103), ('tar', 'italianjazz', 100), ('tar', 'classicalclarinet', 102)]\n",
      "[('reggae', 'dancehall', 109), ('reggae', 'brazilianreggae', 105), ('reggae', 'skarevival', 114), ('reggae', 'deepragga', 101), ('reggae', 'finnishreggae', 100), ('reggae', 'oldschooldancehall', 127), ('reggae', 'reggaefusion', 110), ('reggae', 'vintagereggae', 103), ('reggae', 'ukdub', 108), ('reggae', 'loversrock', 132), ('reggae', 'ukreggae', 111), ('reggae', 'ska', 120), ('reggae', 'reggae', 240), ('reggae', 'dub', 142), ('reggae', 'earlyreggae', 112), ('reggae', 'rootsreggae', 149), ('reggae', 'modernreggae', 119), ('reggae', 'rocksteady', 134)]\n",
      "[('ukdub', 'reggae', 100), ('ukdub', 'ukdub', 240), ('ukdub', 'rootsreggae', 101), ('ukdub', 'ukreggae', 101), ('ukdub', 'dub', 113), ('ukdub', 'dubreggae', 119)]\n",
      "[('russianpostrock', 'post-rocklatinoamericano', 105), ('russianpostrock', 'frenchpost-rock', 106), ('russianpostrock', 'frenchshoegaze', 100), ('russianpostrock', 'americanpost-rock', 103), ('russianpostrock', 'atmosphericpost-rock', 102), ('russianpostrock', 'portuguesepost-rock', 104), ('russianpostrock', 'britishpost-rock', 102), ('russianpostrock', 'russianpost-rock', 240), ('russianpostrock', 'southeastasianpost-rock', 103), ('russianpostrock', 'spanishpost-rock', 105), ('russianpostrock', 'belgianpost-rock', 102), ('russianpostrock', 'polishpost-rock', 111), ('russianpostrock', 'instrumentalpost-rock', 118), ('russianpostrock', 'australianpost-rock', 100), ('russianpostrock', 'mexicanpost-rock', 103), ('russianpostrock', 'cosmicpost-rock', 102)]\n",
      "[('vietnamesepop', 'peiindie', 100), ('vietnamesepop', 'brazilianccm', 100), ('vietnamesepop', 'singaporeanmandopop', 100), ('vietnamesepop', 'acousticpop', 101), ('vietnamesepop', 'opm', 100), ('vietnamesepop', 'southerngospel', 100), ('vietnamesepop', 'vintagechinesepop', 100), ('vietnamesepop', 'vietnamesebolero', 131), ('vietnamesepop', 'c-pop', 101), ('vietnamesepop', 'vietnamesepop', 240), ('vietnamesepop', 'lilith', 100), ('vietnamesepop', 'papuri', 102), ('vietnamesepop', 'classicmandopop', 105), ('vietnamesepop', 'irishsinger-songwriter', 100), ('vietnamesepop', 'v-pop', 118), ('vietnamesepop', 'taiwansinger-songwriter', 102), ('vietnamesepop', 'indieanthem-folk', 102), ('vietnamesepop', 'familygospel', 100), ('vietnamesepop', 'ldsyouth', 100), ('vietnamesepop', 'hokkienpop', 101), ('vietnamesepop', 'classicopm', 103), ('vietnamesepop', 'ukamericana', 101)]\n",
      "[('bandinhas', 'tecnobrega', 100), ('bandinhas', 'cumbiaboliviana', 102), ('bandinhas', 'popreggaeton', 100), ('bandinhas', 'orquestasdegalicia', 100), ('bandinhas', 'punjabipop', 100), ('bandinhas', 'coupedecale', 100), ('bandinhas', 'musicanativista', 114), ('bandinhas', 'cumbiapop', 100), ('bandinhas', 'bandinhas', 240), ('bandinhas', 'zouglou', 101)]\n",
      "[('belarussianmetal', 'slovenianmetal', 101), ('belarussianmetal', 'lithuanianmetal', 101), ('belarussianmetal', 'slavicmetal', 100), ('belarussianmetal', 'orientalmetal', 100), ('belarussianmetal', 'djent', 100), ('belarussianmetal', 'symphonicdeathmetal', 104), ('belarussianmetal', 'swedishmetal', 100), ('belarussianmetal', 'swissmetal', 100), ('belarussianmetal', 'nzmetal', 100), ('belarussianmetal', 'industrialblackmetal', 100), ('belarussianmetal', 'portuguesedeathmetal', 101), ('belarussianmetal', 'arabmetal', 105), ('belarussianmetal', 'ukrainianmetal', 105), ('belarussianmetal', 'portuguesemetal', 101), ('belarussianmetal', 'sci-fimetal', 101), ('belarussianmetal', 'indianmetal', 100), ('belarussianmetal', 'thall', 100), ('belarussianmetal', 'indonesianblackmetal', 100), ('belarussianmetal', 'australianmetal', 100), ('belarussianmetal', 'vikingmetal', 102), ('belarussianmetal', 'belarussianmetal', 240)]\n",
      "[('merengue', 'punta', 101), ('merengue', 'dominicanpop', 118), ('merengue', 'merenguetipico', 118), ('merengue', 'orquestatropical', 100), ('merengue', 'latin', 113), ('merengue', 'zouglou', 100), ('merengue', 'merengue', 240), ('merengue', 'tropical', 119)]\n",
      "[('sludgemetal', 'rawblackmetal', 100), ('sludgemetal', 'post-metal', 129), ('sludgemetal', 'ukdoommetal', 115), ('sludgemetal', 'stonermetal', 136), ('sludgemetal', 'progressivesludge', 112), ('sludgemetal', 'skramz', 101), ('sludgemetal', 'atmosphericpost-metal', 108), ('sludgemetal', 'mathcore', 111), ('sludgemetal', 'spacerock', 118), ('sludgemetal', 'latinamericanheavypsych', 103), ('sludgemetal', 'portlandmetal', 101), ('sludgemetal', 'emoviolence', 100), ('sludgemetal', 'blacksludge', 121), ('sludgemetal', 'uknoiserock', 103), ('sludgemetal', 'post-rock', 109), ('sludgemetal', 'retrometal', 116), ('sludgemetal', 'post-doommetal', 125), ('sludgemetal', 'avant-gardemetal', 103), ('sludgemetal', 'sludgecore', 108), ('sludgemetal', 'alternativemetal', 106), ('sludgemetal', 'experimentalblackmetal', 100), ('sludgemetal', 'stonerrock', 129), ('sludgemetal', 'doommetal', 131), ('sludgemetal', 'psychedelicdoom', 124), ('sludgemetal', 'atmosphericsludge', 110), ('sludgemetal', 'louisianametal', 119), ('sludgemetal', 'gaiandoom', 116), ('sludgemetal', 'icelandicmetal', 101), ('sludgemetal', 'dronemetal', 126), ('sludgemetal', 'sludgemetal', 240), ('sludgemetal', 'kentuckymetal', 100)]\n",
      "[('rif', 'moroccanpop', 121), ('rif', 'uzbekpop', 102), ('rif', 'tajikpop', 100), ('rif', 'albanianpop', 103), ('rif', 'rif', 240), ('rif', 'rai', 127), ('rif', 'amharicpop', 102), ('rif', 'axe', 101), ('rif', 'volkstumlichemusik', 101), ('rif', 'classicportuguesepop', 102), ('rif', 'kavkaz', 100), ('rif', 'kompa', 100), ('rif', 'russianpop', 101), ('rif', 'russianchanson', 103), ('rif', 'deeprai', 125), ('rif', 'egyptianpop', 100), ('rif', 'tallava', 102), ('rif', 'kabyle', 100), ('rif', 'kosovanpop', 100), ('rif', 'chechenpop', 104), ('rif', 'montenegrinpop', 102)]\n",
      "[('israelimediterranean', 'popchileno', 102), ('israelimediterranean', 'macedonianpop', 102), ('israelimediterranean', 'mizrahi', 127), ('israelimediterranean', 'adoracion', 101), ('israelimediterranean', 'polishpop', 100), ('israelimediterranean', 'australianpop', 100), ('israelimediterranean', 'okinawanpop', 102), ('israelimediterranean', 'indonesianpop', 101), ('israelimediterranean', 'israelimediterranean', 240), ('israelimediterranean', 'israelipop', 111), ('israelimediterranean', 'swedishpop', 100), ('israelimediterranean', 'latinarenapop', 102), ('israelimediterranean', 'argentinetelepop', 104), ('israelimediterranean', 'australiantalentshow', 101), ('israelimediterranean', 'burmesepop', 101), ('israelimediterranean', 'spanishpop', 100), ('israelimediterranean', 'italianarenapop', 102), ('israelimediterranean', 'talentshow', 100), ('israelimediterranean', 'contemporarycountry', 100), ('israelimediterranean', 'neomelodici', 100), ('israelimediterranean', 'finnishpop', 100), ('israelimediterranean', 'taiwanpop', 101)]\n",
      "[('neonpoppunk', 'englishindierock', 100), ('neonpoppunk', 'japanesealternativerock', 101), ('neonpoppunk', 'pixie', 128), ('neonpoppunk', 'j-pixie', 102), ('neonpoppunk', 'christianrock', 101), ('neonpoppunk', 'animerock', 102), ('neonpoppunk', 'dreamo', 109), ('neonpoppunk', 'deeppopemo', 101), ('neonpoppunk', 'screamo', 108), ('neonpoppunk', 'j-rock', 101), ('neonpoppunk', 'pianorock', 110), ('neonpoppunk', 'germanpunkrock', 100), ('neonpoppunk', 'neonpoppunk', 240), ('neonpoppunk', 'poprock', 105), ('neonpoppunk', 'alternativepoprock', 124), ('neonpoppunk', 'emo', 115), ('neonpoppunk', 'melodichardrock', 100), ('neonpoppunk', 'popemo', 135), ('neonpoppunk', 'japaneseindierock', 103), ('neonpoppunk', 'j-poprock', 104), ('neonpoppunk', 'osharekei', 101), ('neonpoppunk', 'germanalternativerock', 102), ('neonpoppunk', 'electropowerpop', 113), ('neonpoppunk', 'grungepop', 102), ('neonpoppunk', 'scottishindierock', 101), ('neonpoppunk', 'poppunk', 126), ('neonpoppunk', 'canadianrock', 100), ('neonpoppunk', 'moderndownshift', 101)]\n",
      "[('trondheimindie', 'canberraindie', 100), ('trondheimindie', 'osloindie', 102), ('trondheimindie', 'belfastindie', 100), ('trondheimindie', 'janglerock', 103), ('trondheimindie', 'welshindie', 101), ('trondheimindie', 'edinburghindie', 102), ('trondheimindie', 'aberdeenindie', 102), ('trondheimindie', 'scottishindie', 101), ('trondheimindie', 'torontoindie', 101), ('trondheimindie', 'bostonindie', 101), ('trondheimindie', 'baltimoreindie', 100), ('trondheimindie', 'trondheimindie', 240), ('trondheimindie', 'houstonindie', 100), ('trondheimindie', 'normanokindie', 100), ('trondheimindie', 'stpetersburgflindie', 101), ('trondheimindie', 'oxfordindie', 101), ('trondheimindie', 'crossoverprog', 100), ('trondheimindie', 'okcindie', 101), ('trondheimindie', 'tampaindie', 100), ('trondheimindie', 'southdakotaindie', 102), ('trondheimindie', 'brazilianindierock', 101)]\n",
      "[('marrabenta', 'sandalwood', 101), ('marrabenta', 'neworleansfunk', 100), ('marrabenta', 'griot', 102), ('marrabenta', 'beninesepop', 104), ('marrabenta', 'musicapopularparaense', 101), ('marrabenta', 'marrabenta', 240), ('marrabenta', 'braziliansoul', 100), ('marrabenta', 'sinhala', 100), ('marrabenta', 'twoubadou', 103), ('marrabenta', 'makossa', 100), ('marrabenta', 'semba', 101), ('marrabenta', 'benga', 105), ('marrabenta', 'mbira', 102), ('marrabenta', 'mbalax', 104), ('marrabenta', 'forro', 100), ('marrabenta', 'zimurbangroove', 105), ('marrabenta', 'soukous', 100), ('marrabenta', 'sungura', 102), ('marrabenta', 'oyunhavasi', 101), ('marrabenta', 'afropop', 106), ('marrabenta', 'highlife', 100)]\n",
      "[('jugband', 'countryblues', 114), ('jugband', 'appalachianfolk', 109), ('jugband', 'memphisblues', 112), ('jugband', 'vintagegospel', 103), ('jugband', 'vintagecountryfolk', 117), ('jugband', 'traditionalblues', 109), ('jugband', 'deepdeltablues', 104), ('jugband', 'acousticblues', 100), ('jugband', 'gospelblues', 107), ('jugband', 'vintagetango', 101), ('jugband', 'jugband', 240), ('jugband', 'tango', 101), ('jugband', 'yiddishfolk', 103), ('jugband', 'vaudeville', 106), ('jugband', 'piedmontblues', 103), ('jugband', 'deltablues', 100), ('jugband', 'vintageold-time', 100)]\n",
      "[('thrashgroovemetal', 'colombianhardcore', 100), ('thrashgroovemetal', 'croatianmetal', 104), ('thrashgroovemetal', 'hungarianmetal', 103), ('thrashgroovemetal', 'deepmetalcore', 102), ('thrashgroovemetal', 'powerthrash', 100), ('thrashgroovemetal', 'germanmetal', 103), ('thrashgroovemetal', 'thaimetal', 101), ('thrashgroovemetal', 'indonesianmetal', 101), ('thrashgroovemetal', 'nu-metalcore', 102), ('thrashgroovemetal', 'screamo', 100), ('thrashgroovemetal', 'numetal', 102), ('thrashgroovemetal', 'thrash-groovemetal', 240), ('thrashgroovemetal', 'alternativemetal', 101), ('thrashgroovemetal', 'indonesianpost-hardcore', 101), ('thrashgroovemetal', 'alternativemetalcore', 100), ('thrashgroovemetal', 'deepmelodicmetalcore', 102), ('thrashgroovemetal', 'chinesemetal', 100), ('thrashgroovemetal', 'indonesianhardcore', 100), ('thrashgroovemetal', 'czechmetal', 103), ('thrashgroovemetal', 'bolivianmetal', 100), ('thrashgroovemetal', 'brazilianpost-hardcore', 101)]\n",
      "[('musiqueguadeloupe', 'malaysiantamilpop', 100), ('musiqueguadeloupe', 'segamauricien', 105), ('musiqueguadeloupe', 'rapantillais', 118), ('musiqueguadeloupe', 'trinidadianreggae', 101), ('musiqueguadeloupe', 'canadianlatin', 100), ('musiqueguadeloupe', 'bongoflava', 101), ('musiqueguadeloupe', 'desihiphop', 103), ('musiqueguadeloupe', 'reunionpop', 101), ('musiqueguadeloupe', 'j-reggae', 100), ('musiqueguadeloupe', 'musiqueguadeloupe', 240), ('musiqueguadeloupe', 'gabonesepop', 100), ('musiqueguadeloupe', 'panamanianpop', 100), ('musiqueguadeloupe', 'zouk', 116), ('musiqueguadeloupe', 'popcatracho', 101), ('musiqueguadeloupe', 'finnishhiphop', 100), ('musiqueguadeloupe', 'italianreggae', 100), ('musiqueguadeloupe', 'popreggaeton', 100), ('musiqueguadeloupe', 'rapcristiano', 100), ('musiqueguadeloupe', 'coupedecale', 100), ('musiqueguadeloupe', 'rapecuatoriano', 100), ('musiqueguadeloupe', 'zouglou', 100), ('musiqueguadeloupe', 'indonesianhiphop', 100), ('musiqueguadeloupe', 'zoukriddim', 126)]\n",
      "[('latvianmetal', 'slovakmetal', 100), ('latvianmetal', 'balticblackmetal', 117), ('latvianmetal', 'thall', 101), ('latvianmetal', 'austrianmetal', 102), ('latvianmetal', 'djent', 104), ('latvianmetal', 'gothenburgmetal', 101), ('latvianmetal', 'arabmetal', 100), ('latvianmetal', 'slovenianmetal', 101), ('latvianmetal', 'greekmetal', 104), ('latvianmetal', 'orientalmetal', 102), ('latvianmetal', 'scottishmetal', 100), ('latvianmetal', 'latvianmetal', 240), ('latvianmetal', 'swissmetal', 104), ('latvianmetal', 'indianmetal', 102), ('latvianmetal', 'folkmetal', 101), ('latvianmetal', 'deepmetalcore', 100), ('latvianmetal', 'italianmetal', 101), ('latvianmetal', 'portuguesemetal', 103), ('latvianmetal', 'metalcatala', 102), ('latvianmetal', 'chinesemetal', 105), ('latvianmetal', 'deepfolkmetal', 100), ('latvianmetal', 'southafricanmetal', 101)]\n",
      "[('rbbrasileiro', 'turkishhiphop', 100), ('rbbrasileiro', 'brazilianhiphop', 102), ('rbbrasileiro', 'trapespanol', 101), ('rbbrasileiro', 'christiantrap', 100), ('rbbrasileiro', 'portuguesepop', 102), ('rbbrasileiro', 'koreanr&b', 100), ('rbbrasileiro', 'guatemalanpop', 100), ('rbbrasileiro', 'irishhiphop', 100), ('rbbrasileiro', 'swedishurban', 100), ('rbbrasileiro', 'bailepop', 102), ('rbbrasileiro', 'r&benespanol', 102), ('rbbrasileiro', 'smoothurbanr&b', 100), ('rbbrasileiro', 'pinoyr&b', 101), ('rbbrasileiro', 'trapcatala', 100), ('rbbrasileiro', 'raptunisien', 101), ('rbbrasileiro', 'persianhiphop', 100), ('rbbrasileiro', 'israelitrap', 100), ('rbbrasileiro', 'r&bbrasileiro', 240), ('rbbrasileiro', 'canadianhiphop', 100), ('rbbrasileiro', 'denverrap', 100), ('rbbrasileiro', 'russiangangsterrap', 102), ('rbbrasileiro', 'polishtrap', 101), ('rbbrasileiro', 'greektrap', 100)]\n",
      "[('ambienttechno', 'scottishelectronic', 105), ('ambienttechno', 'russianexperimentalelectronic', 101), ('ambienttechno', 'finnishelectronic', 106), ('ambienttechno', 'germanelectronica', 101), ('ambienttechno', 'ambienttechno', 240), ('ambienttechno', 'microhouse', 113), ('ambienttechno', 'deepidm', 105), ('ambienttechno', 'italianelectronica', 103), ('ambienttechno', 'demoscene', 100), ('ambienttechno', 'polishexperimentalelectronic', 100), ('ambienttechno', 'turkishelectronic', 103), ('ambienttechno', 'floathouse', 106), ('ambienttechno', 'glitchbeats', 106), ('ambienttechno', 'loungehouse', 101), ('ambienttechno', 'dutchexperimentalelectronic', 110), ('ambienttechno', 'swedishelectronic', 111), ('ambienttechno', 'intelligentdancemusic', 117), ('ambienttechno', 'dubtechno', 119), ('ambienttechno', 'outsiderhouse', 119), ('ambienttechno', 'futureambient', 105), ('ambienttechno', 'ukrainianexperimental', 102), ('ambienttechno', 'swedishtechno', 110), ('ambienttechno', 'minimaltechno', 107), ('ambienttechno', 'icelandicelectronic', 100), ('ambienttechno', 'psychill', 103)]\n",
      "[('glitch', 'microhouse', 115), ('glitch', 'glitch', 240), ('glitch', 'ukexperimentalelectronic', 105), ('glitch', 'japaneseexperimental', 104), ('glitch', 'lowercase', 117), ('glitch', 'worldfusion', 100), ('glitch', 'britishexperimental', 106), ('glitch', 'fluxwork', 100), ('glitch', 'didgeridoo', 102), ('glitch', 'portugueseexperimental', 100), ('glitch', 'africanexperimental', 104), ('glitch', 'drone', 112), ('glitch', 'polishexperimentalelectronic', 104), ('glitch', 'finnishelectronic', 108), ('glitch', 'hardvapour', 100), ('glitch', 'abstract', 104), ('glitch', 'ukrainianexperimental', 101), ('glitch', 'mandible', 115), ('glitch', 'ambientidm', 100), ('glitch', 'chineseexperimental', 101), ('glitch', 'abstractidm', 100), ('glitch', 'experimentalelectronic', 100), ('glitch', 'koreanexperimental', 100), ('glitch', 'krautrock', 102), ('glitch', 'dubtechno', 116), ('glitch', 'intelligentdancemusic', 119), ('glitch', 'brazilianexperimental', 107), ('glitch', 'drillandbass', 109), ('glitch', 'soundart', 120)]\n",
      "[('easycore', 'newwaveofglammetal', 106), ('easycore', 'mexicanpoppunk', 101), ('easycore', 'visualkei', 104), ('easycore', 'japanesepoppunk', 100), ('easycore', 'deepactiverock', 101), ('easycore', 'texaspoppunk', 101), ('easycore', 'post-screamo', 101), ('easycore', 'latincore', 100), ('easycore', 'gymcore', 102), ('easycore', 'nwocr', 101), ('easycore', 'canadianpoppunk', 117), ('easycore', 'kawaiimetal', 101), ('easycore', 'heavyalternative', 103), ('easycore', 'italianpoppunk', 105), ('easycore', 'easycore', 240), ('easycore', 'anthememo', 122), ('easycore', 'j-metal', 100), ('easycore', 'poppunk', 112), ('easycore', 'hardalternative', 101), ('easycore', 'alternativeemo', 118), ('easycore', 'chicagopoppunk', 100), ('easycore', 'ukpoppunk', 115)]\n",
      "[('germanmetalcore', 'trancecore', 105), ('germanmetalcore', 'chinesemetal', 100), ('germanmetalcore', 'scottishmetal', 100), ('germanmetalcore', 'japanesemetalcore', 102), ('germanmetalcore', 'neo-tradmetal', 100), ('germanmetalcore', 'melodicdeathcore', 101), ('germanmetalcore', 'germanmetalcore', 240), ('germanmetalcore', 'progressivemetalcore', 106), ('germanmetalcore', 'germanpost-hardcore', 117), ('germanmetalcore', 'post-post-hardcore', 103), ('germanmetalcore', 'swissmetal', 100), ('germanmetalcore', 'canadianmetalcore', 104), ('germanmetalcore', 'melodicmetalcore', 105), ('germanmetalcore', 'electronicore', 103), ('germanmetalcore', 'deepmelodicmetalcore', 101), ('germanmetalcore', 'australianpost-hardcore', 104), ('germanmetalcore', 'melodicdeathmetal', 100), ('germanmetalcore', 'australianmetalcore', 107), ('germanmetalcore', 'deepmetalcore', 101), ('germanmetalcore', 'deepmelodicdeathmetal', 104), ('germanmetalcore', 'metalcore', 114), ('germanmetalcore', 'ukmetalcore', 102), ('germanmetalcore', 'japanesepowermetal', 100)]\n",
      "[('ambientblackmetal', 'paganblackmetal', 109), ('ambientblackmetal', 'germanblackmetal', 107), ('ambientblackmetal', 'ambientblackmetal', 240), ('ambientblackmetal', 'atmosphericblackmetal', 114), ('ambientblackmetal', 'cosmicblackmetal', 124), ('ambientblackmetal', 'voidgaze', 109), ('ambientblackmetal', 'depressiveblackmetal', 111), ('ambientblackmetal', 'autonomousblackmetal', 111), ('ambientblackmetal', 'post-blackmetal', 100), ('ambientblackmetal', 'dungeonsynth', 108)]\n",
      "[('frenchblackmetal', 'frenchblackmetal', 240), ('frenchblackmetal', 'post-blackmetal', 100), ('frenchblackmetal', 'chaoticblackmetal', 118), ('frenchblackmetal', 'mexicanblackmetal', 102), ('frenchblackmetal', 'technicalblackmetal', 102), ('frenchblackmetal', 'usbm', 100), ('frenchblackmetal', 'atmosphericblackmetal', 114), ('frenchblackmetal', 'depressiveblackmetal', 106), ('frenchblackmetal', 'swedishblackmetal', 102), ('frenchblackmetal', 'polishblackmetal', 103), ('frenchblackmetal', 'blackmetal', 100), ('frenchblackmetal', 'spanishblackmetal', 105), ('frenchblackmetal', 'frenchmetal', 108), ('frenchblackmetal', 'voidgaze', 116), ('frenchblackmetal', 'chileanblackmetal', 100), ('frenchblackmetal', 'germanblackmetal', 100), ('frenchblackmetal', 'australianblackmetal', 103), ('frenchblackmetal', 'belgianblackmetal', 106), ('frenchblackmetal', 'industrialblackmetal', 104), ('frenchblackmetal', 'finnishblackmetal', 103), ('frenchblackmetal', 'canadianblackmetal', 102), ('frenchblackmetal', 'avant-gardeblackmetal', 105), ('frenchblackmetal', 'crypticblackmetal', 111), ('frenchblackmetal', 'norwegianblackmetal', 104), ('frenchblackmetal', 'dutchblackmetal', 105), ('frenchblackmetal', 'darkblackmetal', 122)]\n",
      "[('metalcore', 'deathcore', 117), ('metalcore', 'austrianmetal', 100), ('metalcore', 'deepmetalcore', 101), ('metalcore', 'metalcore', 240), ('metalcore', 'post-hardcore', 106), ('metalcore', 'progressivemetalcore', 115), ('metalcore', 'christianmetal', 108), ('metalcore', 'christianhardcore', 108), ('metalcore', 'germanmetalcore', 115), ('metalcore', 'numetal', 107), ('metalcore', 'deepmelodicmetalcore', 105), ('metalcore', 'post-post-hardcore', 122), ('metalcore', 'electronicore', 104), ('metalcore', 'post-screamo', 123), ('metalcore', 'christianrock', 107), ('metalcore', 'progressivepost-hardcore', 109), ('metalcore', 'japanesepowermetal', 103), ('metalcore', 'trancecore', 118), ('metalcore', 'japanesemetalcore', 104), ('metalcore', 'melodicmetalcore', 139), ('metalcore', 'groovemetal', 111), ('metalcore', 'screamo', 120), ('metalcore', 'australianpost-hardcore', 113), ('metalcore', 'nzhardcore', 100), ('metalcore', 'nu-metalcore', 109), ('metalcore', 'melodichardcore', 111), ('metalcore', 'scottishmetal', 101), ('metalcore', 'deepmelodicdeathmetal', 100), ('metalcore', 'ukmetalcore', 117), ('metalcore', 'australianmetalcore', 116), ('metalcore', 'canadianmetalcore', 104), ('metalcore', 'neo-tradmetal', 103), ('metalcore', 'germanthrashmetal', 100), ('metalcore', 'djent', 108)]\n",
      "[('symphonicblackmetal', 'norwegianblackmetal', 119), ('symphonicblackmetal', 'metal', 116), ('symphonicblackmetal', 'swedishblackmetal', 120), ('symphonicblackmetal', 'deathmetal', 116), ('symphonicblackmetal', 'metalnoirquebecois', 104), ('symphonicblackmetal', 'melodicblackmetal', 128), ('symphonicblackmetal', 'atmosphericblackmetal', 117), ('symphonicblackmetal', 'paganblackmetal', 135), ('symphonicblackmetal', 'gothicmetal', 103), ('symphonicblackmetal', 'blackenedhardcore', 100), ('symphonicblackmetal', 'darkblackmetal', 117), ('symphonicblackmetal', 'norwegiandeathmetal', 100), ('symphonicblackmetal', 'avant-gardeblackmetal', 101), ('symphonicblackmetal', 'blackmetal', 135), ('symphonicblackmetal', 'greekblackmetal', 105), ('symphonicblackmetal', 'charreddeath', 104), ('symphonicblackmetal', 'autonomousblackmetal', 102), ('symphonicblackmetal', 'italianblackmetal', 106), ('symphonicblackmetal', 'deepsymphonicblackmetal', 116), ('symphonicblackmetal', 'melodicdeathmetal', 111), ('symphonicblackmetal', 'blackmetalargentino', 101), ('symphonicblackmetal', 'balticblackmetal', 106), ('symphonicblackmetal', 'finnishblackmetal', 106), ('symphonicblackmetal', 'symphonicblackmetal', 240), ('symphonicblackmetal', 'folkmetal', 115), ('symphonicblackmetal', 'progressiveblackmetal', 105), ('symphonicblackmetal', 'lovecraftianmetal', 102), ('symphonicblackmetal', 'britishblackmetal', 105), ('symphonicblackmetal', 'norwegianmetal', 130), ('symphonicblackmetal', 'technicalblackmetal', 105), ('symphonicblackmetal', 'czskblackmetal', 104), ('symphonicblackmetal', 'blackthrash', 115), ('symphonicblackmetal', \"black'n'roll\", 113), ('symphonicblackmetal', 'vikingmetal', 122), ('symphonicblackmetal', 'symphonicdeathmetal', 104), ('symphonicblackmetal', 'swedishmetal', 113), ('symphonicblackmetal', 'voidgaze', 107)]\n",
      "[('japaneseblackmetal', 'russianblackmetal', 100), ('japaneseblackmetal', 'brazilianblackmetal', 101), ('japaneseblackmetal', 'germanblackmetal', 102), ('japaneseblackmetal', 'frenchblackmetal', 100), ('japaneseblackmetal', 'paganblackmetal', 103), ('japaneseblackmetal', 'ukrainianblackmetal', 100), ('japaneseblackmetal', 'deepsymphonicblackmetal', 105), ('japaneseblackmetal', 'colombianblackmetal', 100), ('japaneseblackmetal', 'canadianblackmetal', 102), ('japaneseblackmetal', 'atmosphericblackmetal', 102), ('japaneseblackmetal', 'japanesedeathmetal', 112), ('japaneseblackmetal', 'chileanblackmetal', 101), ('japaneseblackmetal', 'belgianblackmetal', 100), ('japaneseblackmetal', 'chaoticblackmetal', 100), ('japaneseblackmetal', 'avant-gardeblackmetal', 101), ('japaneseblackmetal', 'dutchblackmetal', 101), ('japaneseblackmetal', 'blackenedhardcore', 100), ('japaneseblackmetal', 'swedishblackmetal', 101), ('japaneseblackmetal', 'britishblackmetal', 100), ('japaneseblackmetal', 'norwegianblackmetal', 101), ('japaneseblackmetal', 'japaneseblackmetal', 240), ('japaneseblackmetal', 'blackmetal', 100)]\n"
     ]
    }
   ],
   "source": [
    "import networkx as nx\n",
    "\n",
    "G = nx.Graph()\n",
    "import ast\n",
    "\n",
    "for idx, row in df_all_genres.iterrows():\n",
    "    G.add_node(row[\"GENRE\"])\n",
    "    others = ast.literal_eval(row['SIM_GENRES'])\n",
    "    weights = ast.literal_eval(row['SIM_WEIGHTS'])\n",
    "    edges = [(row['GENRE'],others[i], int(weights[i])) for i in range(len(others))]\n",
    "    print(edges)\n",
    "    G.add_weighted_edges_from(edges)\n",
    "    if idx == 30:\n",
    "        break"
   ]
  },
  {
   "cell_type": "code",
   "execution_count": 12,
   "metadata": {},
   "outputs": [
    {
     "data": {
      "text/plain": [
       "EdgeView([('backgroundmusic', 'reiki'), ('backgroundmusic', 'calminginstrumental'), ('backgroundmusic', 'yoga'), ('backgroundmusic', 'backgroundmusic'), ('backgroundmusic', 'tone'), ('backgroundmusic', 'focus'), ('backgroundmusic', 'atmosphere'), ('backgroundmusic', 'mindfulness'), ('classicmoroccanpop', 'bluesrock'), ('classicmoroccanpop', 'andalusianclassical'), ('classicmoroccanpop', 'chaabimarocain'), ('classicmoroccanpop', 'swamppop'), ('classicmoroccanpop', 'desipop'), ('classicmoroccanpop', 'qawwali'), ('classicmoroccanpop', 'pakistanifolk'), ('classicmoroccanpop', 'spanishinvasion'), ('classicmoroccanpop', 'zydeco'), ('classicmoroccanpop', 'tradquebecois'), ('classicmoroccanpop', 'comic'), ('classicmoroccanpop', 'rockabilly'), ('classicmoroccanpop', 'motown'), ('classicmoroccanpop', 'modernblues'), ('classicmoroccanpop', 'classicmoroccanpop'), ('classicmoroccanpop', 'northernsoul'), ('classicmoroccanpop', 'filmi'), ('classicmoroccanpop', 'chutney'), ('classicmoroccanpop', 'maghreb'), ('classicmoroccanpop', 'classicrock'), ('classicmoroccanpop', 'world'), ('classicmoroccanpop', 'rai'), ('classicmoroccanpop', 'modernbollywood'), ('classicmoroccanpop', 'deepmotown'), ('rai', 'rif'), ('orthodoxchant', 'universitychoir'), ('orthodoxchant', 'polishchoir'), ('orthodoxchant', 'ukrainianchoir'), ('orthodoxchant', 'georgianpolyphony'), ('orthodoxchant', 'australianchoir'), ('orthodoxchant', 'orthodoxchant'), ('orthodoxchant', 'swedishchoir'), ('orthodoxchant', 'norwegianchoir'), ('orthodoxchant', 'britishchoir'), ('orthodoxchant', 'polishearlymusic'), ('orthodoxchant', 'byzantine'), ('orthodoxchant', 'italianrenaissance'), ('orthodoxchant', 'danishchoir'), ('orthodoxchant', 'choral'), ('orthodoxchant', 'finnishchoir'), ('orthodoxchant', 'franco-flemishschool'), ('orthodoxchant', 'americanchoir'), ('orthodoxchant', 'monastic'), ('orthodoxchant', 'chamberchoir'), ('tar', 'oud'), ('tar', 'persiantraditional'), ('tar', 'bansuri'), ('tar', 'tar'), ('tar', 'bandoneon'), ('tar', 'persianneo-traditional'), ('tar', 'latinclassical'), ('tar', 'braziliancomposition'), ('tar', 'nuevotango'), ('tar', 'italianjazz'), ('tar', 'classicalclarinet'), ('reggae', 'dancehall'), ('reggae', 'brazilianreggae'), ('reggae', 'skarevival'), ('reggae', 'deepragga'), ('reggae', 'finnishreggae'), ('reggae', 'oldschooldancehall'), ('reggae', 'reggaefusion'), ('reggae', 'vintagereggae'), ('reggae', 'ukdub'), ('reggae', 'loversrock'), ('reggae', 'ukreggae'), ('reggae', 'ska'), ('reggae', 'reggae'), ('reggae', 'dub'), ('reggae', 'earlyreggae'), ('reggae', 'rootsreggae'), ('reggae', 'modernreggae'), ('reggae', 'rocksteady'), ('ukdub', 'ukdub'), ('ukdub', 'rootsreggae'), ('ukdub', 'ukreggae'), ('ukdub', 'dub'), ('ukdub', 'dubreggae'), ('russianpostrock', 'post-rocklatinoamericano'), ('russianpostrock', 'frenchpost-rock'), ('russianpostrock', 'frenchshoegaze'), ('russianpostrock', 'americanpost-rock'), ('russianpostrock', 'atmosphericpost-rock'), ('russianpostrock', 'portuguesepost-rock'), ('russianpostrock', 'britishpost-rock'), ('russianpostrock', 'russianpost-rock'), ('russianpostrock', 'southeastasianpost-rock'), ('russianpostrock', 'spanishpost-rock'), ('russianpostrock', 'belgianpost-rock'), ('russianpostrock', 'polishpost-rock'), ('russianpostrock', 'instrumentalpost-rock'), ('russianpostrock', 'australianpost-rock'), ('russianpostrock', 'mexicanpost-rock'), ('russianpostrock', 'cosmicpost-rock'), ('vietnamesepop', 'peiindie'), ('vietnamesepop', 'brazilianccm'), ('vietnamesepop', 'singaporeanmandopop'), ('vietnamesepop', 'acousticpop'), ('vietnamesepop', 'opm'), ('vietnamesepop', 'southerngospel'), ('vietnamesepop', 'vintagechinesepop'), ('vietnamesepop', 'vietnamesebolero'), ('vietnamesepop', 'c-pop'), ('vietnamesepop', 'vietnamesepop'), ('vietnamesepop', 'lilith'), ('vietnamesepop', 'papuri'), ('vietnamesepop', 'classicmandopop'), ('vietnamesepop', 'irishsinger-songwriter'), ('vietnamesepop', 'v-pop'), ('vietnamesepop', 'taiwansinger-songwriter'), ('vietnamesepop', 'indieanthem-folk'), ('vietnamesepop', 'familygospel'), ('vietnamesepop', 'ldsyouth'), ('vietnamesepop', 'hokkienpop'), ('vietnamesepop', 'classicopm'), ('vietnamesepop', 'ukamericana'), ('bandinhas', 'tecnobrega'), ('bandinhas', 'cumbiaboliviana'), ('bandinhas', 'popreggaeton'), ('bandinhas', 'orquestasdegalicia'), ('bandinhas', 'punjabipop'), ('bandinhas', 'coupedecale'), ('bandinhas', 'musicanativista'), ('bandinhas', 'cumbiapop'), ('bandinhas', 'bandinhas'), ('bandinhas', 'zouglou'), ('popreggaeton', 'musiqueguadeloupe'), ('coupedecale', 'musiqueguadeloupe'), ('zouglou', 'merengue'), ('zouglou', 'musiqueguadeloupe'), ('belarussianmetal', 'slovenianmetal'), ('belarussianmetal', 'lithuanianmetal'), ('belarussianmetal', 'slavicmetal'), ('belarussianmetal', 'orientalmetal'), ('belarussianmetal', 'djent'), ('belarussianmetal', 'symphonicdeathmetal'), ('belarussianmetal', 'swedishmetal'), ('belarussianmetal', 'swissmetal'), ('belarussianmetal', 'nzmetal'), ('belarussianmetal', 'industrialblackmetal'), ('belarussianmetal', 'portuguesedeathmetal'), ('belarussianmetal', 'arabmetal'), ('belarussianmetal', 'ukrainianmetal'), ('belarussianmetal', 'portuguesemetal'), ('belarussianmetal', 'sci-fimetal'), ('belarussianmetal', 'indianmetal'), ('belarussianmetal', 'thall'), ('belarussianmetal', 'indonesianblackmetal'), ('belarussianmetal', 'australianmetal'), ('belarussianmetal', 'vikingmetal'), ('belarussianmetal', 'belarussianmetal'), ('slovenianmetal', 'latvianmetal'), ('orientalmetal', 'latvianmetal'), ('djent', 'latvianmetal'), ('djent', 'metalcore'), ('symphonicdeathmetal', 'symphonicblackmetal'), ('swedishmetal', 'symphonicblackmetal'), ('swissmetal', 'latvianmetal'), ('swissmetal', 'germanmetalcore'), ('industrialblackmetal', 'frenchblackmetal'), ('arabmetal', 'latvianmetal'), ('portuguesemetal', 'latvianmetal'), ('indianmetal', 'latvianmetal'), ('thall', 'latvianmetal'), ('vikingmetal', 'symphonicblackmetal'), ('merengue', 'punta'), ('merengue', 'dominicanpop'), ('merengue', 'merenguetipico'), ('merengue', 'orquestatropical'), ('merengue', 'latin'), ('merengue', 'merengue'), ('merengue', 'tropical'), ('sludgemetal', 'rawblackmetal'), ('sludgemetal', 'post-metal'), ('sludgemetal', 'ukdoommetal'), ('sludgemetal', 'stonermetal'), ('sludgemetal', 'progressivesludge'), ('sludgemetal', 'skramz'), ('sludgemetal', 'atmosphericpost-metal'), ('sludgemetal', 'mathcore'), ('sludgemetal', 'spacerock'), ('sludgemetal', 'latinamericanheavypsych'), ('sludgemetal', 'portlandmetal'), ('sludgemetal', 'emoviolence'), ('sludgemetal', 'blacksludge'), ('sludgemetal', 'uknoiserock'), ('sludgemetal', 'post-rock'), ('sludgemetal', 'retrometal'), ('sludgemetal', 'post-doommetal'), ('sludgemetal', 'avant-gardemetal'), ('sludgemetal', 'sludgecore'), ('sludgemetal', 'alternativemetal'), ('sludgemetal', 'experimentalblackmetal'), ('sludgemetal', 'stonerrock'), ('sludgemetal', 'doommetal'), ('sludgemetal', 'psychedelicdoom'), ('sludgemetal', 'atmosphericsludge'), ('sludgemetal', 'louisianametal'), ('sludgemetal', 'gaiandoom'), ('sludgemetal', 'icelandicmetal'), ('sludgemetal', 'dronemetal'), ('sludgemetal', 'sludgemetal'), ('sludgemetal', 'kentuckymetal'), ('alternativemetal', 'thrashgroovemetal'), ('rif', 'moroccanpop'), ('rif', 'uzbekpop'), ('rif', 'tajikpop'), ('rif', 'albanianpop'), ('rif', 'rif'), ('rif', 'amharicpop'), ('rif', 'axe'), ('rif', 'volkstumlichemusik'), ('rif', 'classicportuguesepop'), ('rif', 'kavkaz'), ('rif', 'kompa'), ('rif', 'russianpop'), ('rif', 'russianchanson'), ('rif', 'deeprai'), ('rif', 'egyptianpop'), ('rif', 'tallava'), ('rif', 'kabyle'), ('rif', 'kosovanpop'), ('rif', 'chechenpop'), ('rif', 'montenegrinpop'), ('israelimediterranean', 'popchileno'), ('israelimediterranean', 'macedonianpop'), ('israelimediterranean', 'mizrahi'), ('israelimediterranean', 'adoracion'), ('israelimediterranean', 'polishpop'), ('israelimediterranean', 'australianpop'), ('israelimediterranean', 'okinawanpop'), ('israelimediterranean', 'indonesianpop'), ('israelimediterranean', 'israelimediterranean'), ('israelimediterranean', 'israelipop'), ('israelimediterranean', 'swedishpop'), ('israelimediterranean', 'latinarenapop'), ('israelimediterranean', 'argentinetelepop'), ('israelimediterranean', 'australiantalentshow'), ('israelimediterranean', 'burmesepop'), ('israelimediterranean', 'spanishpop'), ('israelimediterranean', 'italianarenapop'), ('israelimediterranean', 'talentshow'), ('israelimediterranean', 'contemporarycountry'), ('israelimediterranean', 'neomelodici'), ('israelimediterranean', 'finnishpop'), ('israelimediterranean', 'taiwanpop'), ('neonpoppunk', 'englishindierock'), ('neonpoppunk', 'japanesealternativerock'), ('neonpoppunk', 'pixie'), ('neonpoppunk', 'j-pixie'), ('neonpoppunk', 'christianrock'), ('neonpoppunk', 'animerock'), ('neonpoppunk', 'dreamo'), ('neonpoppunk', 'deeppopemo'), ('neonpoppunk', 'screamo'), ('neonpoppunk', 'j-rock'), ('neonpoppunk', 'pianorock'), ('neonpoppunk', 'germanpunkrock'), ('neonpoppunk', 'neonpoppunk'), ('neonpoppunk', 'poprock'), ('neonpoppunk', 'alternativepoprock'), ('neonpoppunk', 'emo'), ('neonpoppunk', 'melodichardrock'), ('neonpoppunk', 'popemo'), ('neonpoppunk', 'japaneseindierock'), ('neonpoppunk', 'j-poprock'), ('neonpoppunk', 'osharekei'), ('neonpoppunk', 'germanalternativerock'), ('neonpoppunk', 'electropowerpop'), ('neonpoppunk', 'grungepop'), ('neonpoppunk', 'scottishindierock'), ('neonpoppunk', 'poppunk'), ('neonpoppunk', 'canadianrock'), ('neonpoppunk', 'moderndownshift'), ('christianrock', 'metalcore'), ('screamo', 'thrashgroovemetal'), ('screamo', 'metalcore'), ('poppunk', 'easycore'), ('trondheimindie', 'canberraindie'), ('trondheimindie', 'osloindie'), ('trondheimindie', 'belfastindie'), ('trondheimindie', 'janglerock'), ('trondheimindie', 'welshindie'), ('trondheimindie', 'edinburghindie'), ('trondheimindie', 'aberdeenindie'), ('trondheimindie', 'scottishindie'), ('trondheimindie', 'torontoindie'), ('trondheimindie', 'bostonindie'), ('trondheimindie', 'baltimoreindie'), ('trondheimindie', 'trondheimindie'), ('trondheimindie', 'houstonindie'), ('trondheimindie', 'normanokindie'), ('trondheimindie', 'stpetersburgflindie'), ('trondheimindie', 'oxfordindie'), ('trondheimindie', 'crossoverprog'), ('trondheimindie', 'okcindie'), ('trondheimindie', 'tampaindie'), ('trondheimindie', 'southdakotaindie'), ('trondheimindie', 'brazilianindierock'), ('marrabenta', 'sandalwood'), ('marrabenta', 'neworleansfunk'), ('marrabenta', 'griot'), ('marrabenta', 'beninesepop'), ('marrabenta', 'musicapopularparaense'), ('marrabenta', 'marrabenta'), ('marrabenta', 'braziliansoul'), ('marrabenta', 'sinhala'), ('marrabenta', 'twoubadou'), ('marrabenta', 'makossa'), ('marrabenta', 'semba'), ('marrabenta', 'benga'), ('marrabenta', 'mbira'), ('marrabenta', 'mbalax'), ('marrabenta', 'forro'), ('marrabenta', 'zimurbangroove'), ('marrabenta', 'soukous'), ('marrabenta', 'sungura'), ('marrabenta', 'oyunhavasi'), ('marrabenta', 'afropop'), ('marrabenta', 'highlife'), ('jugband', 'countryblues'), ('jugband', 'appalachianfolk'), ('jugband', 'memphisblues'), ('jugband', 'vintagegospel'), ('jugband', 'vintagecountryfolk'), ('jugband', 'traditionalblues'), ('jugband', 'deepdeltablues'), ('jugband', 'acousticblues'), ('jugband', 'gospelblues'), ('jugband', 'vintagetango'), ('jugband', 'jugband'), ('jugband', 'tango'), ('jugband', 'yiddishfolk'), ('jugband', 'vaudeville'), ('jugband', 'piedmontblues'), ('jugband', 'deltablues'), ('jugband', 'vintageold-time'), ('thrashgroovemetal', 'colombianhardcore'), ('thrashgroovemetal', 'croatianmetal'), ('thrashgroovemetal', 'hungarianmetal'), ('thrashgroovemetal', 'deepmetalcore'), ('thrashgroovemetal', 'powerthrash'), ('thrashgroovemetal', 'germanmetal'), ('thrashgroovemetal', 'thaimetal'), ('thrashgroovemetal', 'indonesianmetal'), ('thrashgroovemetal', 'nu-metalcore'), ('thrashgroovemetal', 'numetal'), ('thrashgroovemetal', 'thrash-groovemetal'), ('thrashgroovemetal', 'indonesianpost-hardcore'), ('thrashgroovemetal', 'alternativemetalcore'), ('thrashgroovemetal', 'deepmelodicmetalcore'), ('thrashgroovemetal', 'chinesemetal'), ('thrashgroovemetal', 'indonesianhardcore'), ('thrashgroovemetal', 'czechmetal'), ('thrashgroovemetal', 'bolivianmetal'), ('thrashgroovemetal', 'brazilianpost-hardcore'), ('deepmetalcore', 'latvianmetal'), ('deepmetalcore', 'germanmetalcore'), ('deepmetalcore', 'metalcore'), ('nu-metalcore', 'metalcore'), ('numetal', 'metalcore'), ('deepmelodicmetalcore', 'germanmetalcore'), ('deepmelodicmetalcore', 'metalcore'), ('chinesemetal', 'latvianmetal'), ('chinesemetal', 'germanmetalcore'), ('musiqueguadeloupe', 'malaysiantamilpop'), ('musiqueguadeloupe', 'segamauricien'), ('musiqueguadeloupe', 'rapantillais'), ('musiqueguadeloupe', 'trinidadianreggae'), ('musiqueguadeloupe', 'canadianlatin'), ('musiqueguadeloupe', 'bongoflava'), ('musiqueguadeloupe', 'desihiphop'), ('musiqueguadeloupe', 'reunionpop'), ('musiqueguadeloupe', 'j-reggae'), ('musiqueguadeloupe', 'musiqueguadeloupe'), ('musiqueguadeloupe', 'gabonesepop'), ('musiqueguadeloupe', 'panamanianpop'), ('musiqueguadeloupe', 'zouk'), ('musiqueguadeloupe', 'popcatracho'), ('musiqueguadeloupe', 'finnishhiphop'), ('musiqueguadeloupe', 'italianreggae'), ('musiqueguadeloupe', 'rapcristiano'), ('musiqueguadeloupe', 'rapecuatoriano'), ('musiqueguadeloupe', 'indonesianhiphop'), ('musiqueguadeloupe', 'zoukriddim'), ('latvianmetal', 'slovakmetal'), ('latvianmetal', 'balticblackmetal'), ('latvianmetal', 'austrianmetal'), ('latvianmetal', 'gothenburgmetal'), ('latvianmetal', 'greekmetal'), ('latvianmetal', 'scottishmetal'), ('latvianmetal', 'latvianmetal'), ('latvianmetal', 'folkmetal'), ('latvianmetal', 'italianmetal'), ('latvianmetal', 'metalcatala'), ('latvianmetal', 'deepfolkmetal'), ('latvianmetal', 'southafricanmetal'), ('balticblackmetal', 'symphonicblackmetal'), ('austrianmetal', 'metalcore'), ('scottishmetal', 'germanmetalcore'), ('scottishmetal', 'metalcore'), ('folkmetal', 'symphonicblackmetal'), ('rbbrasileiro', 'turkishhiphop'), ('rbbrasileiro', 'brazilianhiphop'), ('rbbrasileiro', 'trapespanol'), ('rbbrasileiro', 'christiantrap'), ('rbbrasileiro', 'portuguesepop'), ('rbbrasileiro', 'koreanr&b'), ('rbbrasileiro', 'guatemalanpop'), ('rbbrasileiro', 'irishhiphop'), ('rbbrasileiro', 'swedishurban'), ('rbbrasileiro', 'bailepop'), ('rbbrasileiro', 'r&benespanol'), ('rbbrasileiro', 'smoothurbanr&b'), ('rbbrasileiro', 'pinoyr&b'), ('rbbrasileiro', 'trapcatala'), ('rbbrasileiro', 'raptunisien'), ('rbbrasileiro', 'persianhiphop'), ('rbbrasileiro', 'israelitrap'), ('rbbrasileiro', 'r&bbrasileiro'), ('rbbrasileiro', 'canadianhiphop'), ('rbbrasileiro', 'denverrap'), ('rbbrasileiro', 'russiangangsterrap'), ('rbbrasileiro', 'polishtrap'), ('rbbrasileiro', 'greektrap'), ('ambienttechno', 'scottishelectronic'), ('ambienttechno', 'russianexperimentalelectronic'), ('ambienttechno', 'finnishelectronic'), ('ambienttechno', 'germanelectronica'), ('ambienttechno', 'ambienttechno'), ('ambienttechno', 'microhouse'), ('ambienttechno', 'deepidm'), ('ambienttechno', 'italianelectronica'), ('ambienttechno', 'demoscene'), ('ambienttechno', 'polishexperimentalelectronic'), ('ambienttechno', 'turkishelectronic'), ('ambienttechno', 'floathouse'), ('ambienttechno', 'glitchbeats'), ('ambienttechno', 'loungehouse'), ('ambienttechno', 'dutchexperimentalelectronic'), ('ambienttechno', 'swedishelectronic'), ('ambienttechno', 'intelligentdancemusic'), ('ambienttechno', 'dubtechno'), ('ambienttechno', 'outsiderhouse'), ('ambienttechno', 'futureambient'), ('ambienttechno', 'ukrainianexperimental'), ('ambienttechno', 'swedishtechno'), ('ambienttechno', 'minimaltechno'), ('ambienttechno', 'icelandicelectronic'), ('ambienttechno', 'psychill'), ('finnishelectronic', 'glitch'), ('microhouse', 'glitch'), ('polishexperimentalelectronic', 'glitch'), ('intelligentdancemusic', 'glitch'), ('dubtechno', 'glitch'), ('ukrainianexperimental', 'glitch'), ('glitch', 'glitch'), ('glitch', 'ukexperimentalelectronic'), ('glitch', 'japaneseexperimental'), ('glitch', 'lowercase'), ('glitch', 'worldfusion'), ('glitch', 'britishexperimental'), ('glitch', 'fluxwork'), ('glitch', 'didgeridoo'), ('glitch', 'portugueseexperimental'), ('glitch', 'africanexperimental'), ('glitch', 'drone'), ('glitch', 'hardvapour'), ('glitch', 'abstract'), ('glitch', 'mandible'), ('glitch', 'ambientidm'), ('glitch', 'chineseexperimental'), ('glitch', 'abstractidm'), ('glitch', 'experimentalelectronic'), ('glitch', 'koreanexperimental'), ('glitch', 'krautrock'), ('glitch', 'brazilianexperimental'), ('glitch', 'drillandbass'), ('glitch', 'soundart'), ('easycore', 'newwaveofglammetal'), ('easycore', 'mexicanpoppunk'), ('easycore', 'visualkei'), ('easycore', 'japanesepoppunk'), ('easycore', 'deepactiverock'), ('easycore', 'texaspoppunk'), ('easycore', 'post-screamo'), ('easycore', 'latincore'), ('easycore', 'gymcore'), ('easycore', 'nwocr'), ('easycore', 'canadianpoppunk'), ('easycore', 'kawaiimetal'), ('easycore', 'heavyalternative'), ('easycore', 'italianpoppunk'), ('easycore', 'easycore'), ('easycore', 'anthememo'), ('easycore', 'j-metal'), ('easycore', 'hardalternative'), ('easycore', 'alternativeemo'), ('easycore', 'chicagopoppunk'), ('easycore', 'ukpoppunk'), ('post-screamo', 'metalcore'), ('germanmetalcore', 'trancecore'), ('germanmetalcore', 'japanesemetalcore'), ('germanmetalcore', 'neo-tradmetal'), ('germanmetalcore', 'melodicdeathcore'), ('germanmetalcore', 'germanmetalcore'), ('germanmetalcore', 'progressivemetalcore'), ('germanmetalcore', 'germanpost-hardcore'), ('germanmetalcore', 'post-post-hardcore'), ('germanmetalcore', 'canadianmetalcore'), ('germanmetalcore', 'melodicmetalcore'), ('germanmetalcore', 'electronicore'), ('germanmetalcore', 'australianpost-hardcore'), ('germanmetalcore', 'melodicdeathmetal'), ('germanmetalcore', 'australianmetalcore'), ('germanmetalcore', 'deepmelodicdeathmetal'), ('germanmetalcore', 'metalcore'), ('germanmetalcore', 'ukmetalcore'), ('germanmetalcore', 'japanesepowermetal'), ('trancecore', 'metalcore'), ('japanesemetalcore', 'metalcore'), ('neo-tradmetal', 'metalcore'), ('progressivemetalcore', 'metalcore'), ('post-post-hardcore', 'metalcore'), ('canadianmetalcore', 'metalcore'), ('melodicmetalcore', 'metalcore'), ('electronicore', 'metalcore'), ('australianpost-hardcore', 'metalcore'), ('melodicdeathmetal', 'symphonicblackmetal'), ('australianmetalcore', 'metalcore'), ('deepmelodicdeathmetal', 'metalcore'), ('metalcore', 'deathcore'), ('metalcore', 'metalcore'), ('metalcore', 'post-hardcore'), ('metalcore', 'christianmetal'), ('metalcore', 'christianhardcore'), ('metalcore', 'progressivepost-hardcore'), ('metalcore', 'japanesepowermetal'), ('metalcore', 'groovemetal'), ('metalcore', 'nzhardcore'), ('metalcore', 'melodichardcore'), ('metalcore', 'ukmetalcore'), ('metalcore', 'germanthrashmetal'), ('ambientblackmetal', 'paganblackmetal'), ('ambientblackmetal', 'germanblackmetal'), ('ambientblackmetal', 'ambientblackmetal'), ('ambientblackmetal', 'atmosphericblackmetal'), ('ambientblackmetal', 'cosmicblackmetal'), ('ambientblackmetal', 'voidgaze'), ('ambientblackmetal', 'depressiveblackmetal'), ('ambientblackmetal', 'autonomousblackmetal'), ('ambientblackmetal', 'post-blackmetal'), ('ambientblackmetal', 'dungeonsynth'), ('paganblackmetal', 'symphonicblackmetal'), ('paganblackmetal', 'japaneseblackmetal'), ('germanblackmetal', 'frenchblackmetal'), ('germanblackmetal', 'japaneseblackmetal'), ('atmosphericblackmetal', 'frenchblackmetal'), ('atmosphericblackmetal', 'symphonicblackmetal'), ('atmosphericblackmetal', 'japaneseblackmetal'), ('voidgaze', 'frenchblackmetal'), ('voidgaze', 'symphonicblackmetal'), ('depressiveblackmetal', 'frenchblackmetal'), ('autonomousblackmetal', 'symphonicblackmetal'), ('post-blackmetal', 'frenchblackmetal'), ('frenchblackmetal', 'frenchblackmetal'), ('frenchblackmetal', 'chaoticblackmetal'), ('frenchblackmetal', 'mexicanblackmetal'), ('frenchblackmetal', 'technicalblackmetal'), ('frenchblackmetal', 'usbm'), ('frenchblackmetal', 'swedishblackmetal'), ('frenchblackmetal', 'polishblackmetal'), ('frenchblackmetal', 'blackmetal'), ('frenchblackmetal', 'spanishblackmetal'), ('frenchblackmetal', 'frenchmetal'), ('frenchblackmetal', 'chileanblackmetal'), ('frenchblackmetal', 'australianblackmetal'), ('frenchblackmetal', 'belgianblackmetal'), ('frenchblackmetal', 'finnishblackmetal'), ('frenchblackmetal', 'canadianblackmetal'), ('frenchblackmetal', 'avant-gardeblackmetal'), ('frenchblackmetal', 'crypticblackmetal'), ('frenchblackmetal', 'norwegianblackmetal'), ('frenchblackmetal', 'dutchblackmetal'), ('frenchblackmetal', 'darkblackmetal'), ('frenchblackmetal', 'japaneseblackmetal'), ('chaoticblackmetal', 'japaneseblackmetal'), ('technicalblackmetal', 'symphonicblackmetal'), ('swedishblackmetal', 'symphonicblackmetal'), ('swedishblackmetal', 'japaneseblackmetal'), ('blackmetal', 'symphonicblackmetal'), ('blackmetal', 'japaneseblackmetal'), ('chileanblackmetal', 'japaneseblackmetal'), ('belgianblackmetal', 'japaneseblackmetal'), ('finnishblackmetal', 'symphonicblackmetal'), ('canadianblackmetal', 'japaneseblackmetal'), ('avant-gardeblackmetal', 'symphonicblackmetal'), ('avant-gardeblackmetal', 'japaneseblackmetal'), ('norwegianblackmetal', 'symphonicblackmetal'), ('norwegianblackmetal', 'japaneseblackmetal'), ('dutchblackmetal', 'japaneseblackmetal'), ('darkblackmetal', 'symphonicblackmetal'), ('symphonicblackmetal', 'metal'), ('symphonicblackmetal', 'deathmetal'), ('symphonicblackmetal', 'metalnoirquebecois'), ('symphonicblackmetal', 'melodicblackmetal'), ('symphonicblackmetal', 'gothicmetal'), ('symphonicblackmetal', 'blackenedhardcore'), ('symphonicblackmetal', 'norwegiandeathmetal'), ('symphonicblackmetal', 'greekblackmetal'), ('symphonicblackmetal', 'charreddeath'), ('symphonicblackmetal', 'italianblackmetal'), ('symphonicblackmetal', 'deepsymphonicblackmetal'), ('symphonicblackmetal', 'blackmetalargentino'), ('symphonicblackmetal', 'symphonicblackmetal'), ('symphonicblackmetal', 'progressiveblackmetal'), ('symphonicblackmetal', 'lovecraftianmetal'), ('symphonicblackmetal', 'britishblackmetal'), ('symphonicblackmetal', 'norwegianmetal'), ('symphonicblackmetal', 'czskblackmetal'), ('symphonicblackmetal', 'blackthrash'), ('symphonicblackmetal', \"black'n'roll\"), ('blackenedhardcore', 'japaneseblackmetal'), ('deepsymphonicblackmetal', 'japaneseblackmetal'), ('britishblackmetal', 'japaneseblackmetal'), ('japaneseblackmetal', 'russianblackmetal'), ('japaneseblackmetal', 'brazilianblackmetal'), ('japaneseblackmetal', 'ukrainianblackmetal'), ('japaneseblackmetal', 'colombianblackmetal'), ('japaneseblackmetal', 'japanesedeathmetal'), ('japaneseblackmetal', 'japaneseblackmetal')])"
      ]
     },
     "execution_count": 12,
     "metadata": {},
     "output_type": "execute_result"
    }
   ],
   "source": [
    "G.edges()"
   ]
  },
  {
   "cell_type": "code",
   "execution_count": 16,
   "metadata": {},
   "outputs": [
    {
     "data": {
      "text/plain": [
       "NodeView(('backgroundmusic', 'reiki', 'calminginstrumental', 'yoga', 'tone', 'focus', 'atmosphere', 'mindfulness', 'classicmoroccanpop', 'bluesrock', 'andalusianclassical', 'chaabimarocain', 'swamppop', 'desipop', 'qawwali', 'pakistanifolk', 'spanishinvasion', 'zydeco', 'tradquebecois', 'comic', 'rockabilly', 'motown', 'modernblues', 'northernsoul', 'filmi', 'chutney', 'maghreb', 'classicrock', 'world', 'rai', 'modernbollywood', 'deepmotown', 'orthodoxchant', 'universitychoir', 'polishchoir', 'ukrainianchoir', 'georgianpolyphony', 'australianchoir', 'swedishchoir', 'norwegianchoir', 'britishchoir', 'polishearlymusic', 'byzantine', 'italianrenaissance', 'danishchoir', 'choral', 'finnishchoir', 'franco-flemishschool', 'americanchoir', 'monastic', 'chamberchoir', 'tar', 'oud', 'persiantraditional', 'bansuri', 'bandoneon', 'persianneo-traditional', 'latinclassical', 'braziliancomposition', 'nuevotango', 'italianjazz', 'classicalclarinet', 'reggae', 'dancehall', 'brazilianreggae', 'skarevival', 'deepragga', 'finnishreggae', 'oldschooldancehall', 'reggaefusion', 'vintagereggae', 'ukdub', 'loversrock', 'ukreggae', 'ska', 'dub', 'earlyreggae', 'rootsreggae', 'modernreggae', 'rocksteady', 'dubreggae', 'russianpostrock', 'post-rocklatinoamericano', 'frenchpost-rock', 'frenchshoegaze', 'americanpost-rock', 'atmosphericpost-rock', 'portuguesepost-rock', 'britishpost-rock', 'russianpost-rock', 'southeastasianpost-rock', 'spanishpost-rock', 'belgianpost-rock', 'polishpost-rock', 'instrumentalpost-rock', 'australianpost-rock', 'mexicanpost-rock', 'cosmicpost-rock', 'vietnamesepop', 'peiindie', 'brazilianccm', 'singaporeanmandopop', 'acousticpop', 'opm', 'southerngospel', 'vintagechinesepop', 'vietnamesebolero', 'c-pop', 'lilith', 'papuri', 'classicmandopop', 'irishsinger-songwriter', 'v-pop', 'taiwansinger-songwriter', 'indieanthem-folk', 'familygospel', 'ldsyouth', 'hokkienpop', 'classicopm', 'ukamericana', 'bandinhas', 'tecnobrega', 'cumbiaboliviana', 'popreggaeton', 'orquestasdegalicia', 'punjabipop', 'coupedecale', 'musicanativista', 'cumbiapop', 'zouglou', 'belarussianmetal', 'slovenianmetal', 'lithuanianmetal', 'slavicmetal', 'orientalmetal', 'djent', 'symphonicdeathmetal', 'swedishmetal', 'swissmetal', 'nzmetal', 'industrialblackmetal', 'portuguesedeathmetal', 'arabmetal', 'ukrainianmetal', 'portuguesemetal', 'sci-fimetal', 'indianmetal', 'thall', 'indonesianblackmetal', 'australianmetal', 'vikingmetal', 'merengue', 'punta', 'dominicanpop', 'merenguetipico', 'orquestatropical', 'latin', 'tropical', 'sludgemetal', 'rawblackmetal', 'post-metal', 'ukdoommetal', 'stonermetal', 'progressivesludge', 'skramz', 'atmosphericpost-metal', 'mathcore', 'spacerock', 'latinamericanheavypsych', 'portlandmetal', 'emoviolence', 'blacksludge', 'uknoiserock', 'post-rock', 'retrometal', 'post-doommetal', 'avant-gardemetal', 'sludgecore', 'alternativemetal', 'experimentalblackmetal', 'stonerrock', 'doommetal', 'psychedelicdoom', 'atmosphericsludge', 'louisianametal', 'gaiandoom', 'icelandicmetal', 'dronemetal', 'kentuckymetal', 'rif', 'moroccanpop', 'uzbekpop', 'tajikpop', 'albanianpop', 'amharicpop', 'axe', 'volkstumlichemusik', 'classicportuguesepop', 'kavkaz', 'kompa', 'russianpop', 'russianchanson', 'deeprai', 'egyptianpop', 'tallava', 'kabyle', 'kosovanpop', 'chechenpop', 'montenegrinpop', 'israelimediterranean', 'popchileno', 'macedonianpop', 'mizrahi', 'adoracion', 'polishpop', 'australianpop', 'okinawanpop', 'indonesianpop', 'israelipop', 'swedishpop', 'latinarenapop', 'argentinetelepop', 'australiantalentshow', 'burmesepop', 'spanishpop', 'italianarenapop', 'talentshow', 'contemporarycountry', 'neomelodici', 'finnishpop', 'taiwanpop', 'neonpoppunk', 'englishindierock', 'japanesealternativerock', 'pixie', 'j-pixie', 'christianrock', 'animerock', 'dreamo', 'deeppopemo', 'screamo', 'j-rock', 'pianorock', 'germanpunkrock', 'poprock', 'alternativepoprock', 'emo', 'melodichardrock', 'popemo', 'japaneseindierock', 'j-poprock', 'osharekei', 'germanalternativerock', 'electropowerpop', 'grungepop', 'scottishindierock', 'poppunk', 'canadianrock', 'moderndownshift', 'trondheimindie', 'canberraindie', 'osloindie', 'belfastindie', 'janglerock', 'welshindie', 'edinburghindie', 'aberdeenindie', 'scottishindie', 'torontoindie', 'bostonindie', 'baltimoreindie', 'houstonindie', 'normanokindie', 'stpetersburgflindie', 'oxfordindie', 'crossoverprog', 'okcindie', 'tampaindie', 'southdakotaindie', 'brazilianindierock', 'marrabenta', 'sandalwood', 'neworleansfunk', 'griot', 'beninesepop', 'musicapopularparaense', 'braziliansoul', 'sinhala', 'twoubadou', 'makossa', 'semba', 'benga', 'mbira', 'mbalax', 'forro', 'zimurbangroove', 'soukous', 'sungura', 'oyunhavasi', 'afropop', 'highlife', 'jugband', 'countryblues', 'appalachianfolk', 'memphisblues', 'vintagegospel', 'vintagecountryfolk', 'traditionalblues', 'deepdeltablues', 'acousticblues', 'gospelblues', 'vintagetango', 'tango', 'yiddishfolk', 'vaudeville', 'piedmontblues', 'deltablues', 'vintageold-time', 'thrashgroovemetal', 'colombianhardcore', 'croatianmetal', 'hungarianmetal', 'deepmetalcore', 'powerthrash', 'germanmetal', 'thaimetal', 'indonesianmetal', 'nu-metalcore', 'numetal', 'thrash-groovemetal', 'indonesianpost-hardcore', 'alternativemetalcore', 'deepmelodicmetalcore', 'chinesemetal', 'indonesianhardcore', 'czechmetal', 'bolivianmetal', 'brazilianpost-hardcore', 'musiqueguadeloupe', 'malaysiantamilpop', 'segamauricien', 'rapantillais', 'trinidadianreggae', 'canadianlatin', 'bongoflava', 'desihiphop', 'reunionpop', 'j-reggae', 'gabonesepop', 'panamanianpop', 'zouk', 'popcatracho', 'finnishhiphop', 'italianreggae', 'rapcristiano', 'rapecuatoriano', 'indonesianhiphop', 'zoukriddim', 'latvianmetal', 'slovakmetal', 'balticblackmetal', 'austrianmetal', 'gothenburgmetal', 'greekmetal', 'scottishmetal', 'folkmetal', 'italianmetal', 'metalcatala', 'deepfolkmetal', 'southafricanmetal', 'rbbrasileiro', 'turkishhiphop', 'brazilianhiphop', 'trapespanol', 'christiantrap', 'portuguesepop', 'koreanr&b', 'guatemalanpop', 'irishhiphop', 'swedishurban', 'bailepop', 'r&benespanol', 'smoothurbanr&b', 'pinoyr&b', 'trapcatala', 'raptunisien', 'persianhiphop', 'israelitrap', 'r&bbrasileiro', 'canadianhiphop', 'denverrap', 'russiangangsterrap', 'polishtrap', 'greektrap', 'ambienttechno', 'scottishelectronic', 'russianexperimentalelectronic', 'finnishelectronic', 'germanelectronica', 'microhouse', 'deepidm', 'italianelectronica', 'demoscene', 'polishexperimentalelectronic', 'turkishelectronic', 'floathouse', 'glitchbeats', 'loungehouse', 'dutchexperimentalelectronic', 'swedishelectronic', 'intelligentdancemusic', 'dubtechno', 'outsiderhouse', 'futureambient', 'ukrainianexperimental', 'swedishtechno', 'minimaltechno', 'icelandicelectronic', 'psychill', 'glitch', 'ukexperimentalelectronic', 'japaneseexperimental', 'lowercase', 'worldfusion', 'britishexperimental', 'fluxwork', 'didgeridoo', 'portugueseexperimental', 'africanexperimental', 'drone', 'hardvapour', 'abstract', 'mandible', 'ambientidm', 'chineseexperimental', 'abstractidm', 'experimentalelectronic', 'koreanexperimental', 'krautrock', 'brazilianexperimental', 'drillandbass', 'soundart', 'easycore', 'newwaveofglammetal', 'mexicanpoppunk', 'visualkei', 'japanesepoppunk', 'deepactiverock', 'texaspoppunk', 'post-screamo', 'latincore', 'gymcore', 'nwocr', 'canadianpoppunk', 'kawaiimetal', 'heavyalternative', 'italianpoppunk', 'anthememo', 'j-metal', 'hardalternative', 'alternativeemo', 'chicagopoppunk', 'ukpoppunk', 'germanmetalcore', 'trancecore', 'japanesemetalcore', 'neo-tradmetal', 'melodicdeathcore', 'progressivemetalcore', 'germanpost-hardcore', 'post-post-hardcore', 'canadianmetalcore', 'melodicmetalcore', 'electronicore', 'australianpost-hardcore', 'melodicdeathmetal', 'australianmetalcore', 'deepmelodicdeathmetal', 'metalcore', 'ukmetalcore', 'japanesepowermetal', 'ambientblackmetal', 'paganblackmetal', 'germanblackmetal', 'atmosphericblackmetal', 'cosmicblackmetal', 'voidgaze', 'depressiveblackmetal', 'autonomousblackmetal', 'post-blackmetal', 'dungeonsynth', 'frenchblackmetal', 'chaoticblackmetal', 'mexicanblackmetal', 'technicalblackmetal', 'usbm', 'swedishblackmetal', 'polishblackmetal', 'blackmetal', 'spanishblackmetal', 'frenchmetal', 'chileanblackmetal', 'australianblackmetal', 'belgianblackmetal', 'finnishblackmetal', 'canadianblackmetal', 'avant-gardeblackmetal', 'crypticblackmetal', 'norwegianblackmetal', 'dutchblackmetal', 'darkblackmetal', 'deathcore', 'post-hardcore', 'christianmetal', 'christianhardcore', 'progressivepost-hardcore', 'groovemetal', 'nzhardcore', 'melodichardcore', 'germanthrashmetal', 'symphonicblackmetal', 'metal', 'deathmetal', 'metalnoirquebecois', 'melodicblackmetal', 'gothicmetal', 'blackenedhardcore', 'norwegiandeathmetal', 'greekblackmetal', 'charreddeath', 'italianblackmetal', 'deepsymphonicblackmetal', 'blackmetalargentino', 'progressiveblackmetal', 'lovecraftianmetal', 'britishblackmetal', 'norwegianmetal', 'czskblackmetal', 'blackthrash', \"black'n'roll\", 'japaneseblackmetal', 'russianblackmetal', 'brazilianblackmetal', 'ukrainianblackmetal', 'colombianblackmetal', 'japanesedeathmetal'))"
      ]
     },
     "execution_count": 16,
     "metadata": {},
     "output_type": "execute_result"
    }
   ],
   "source": [
    "G.nodes()"
   ]
  },
  {
   "cell_type": "code",
   "execution_count": 15,
   "metadata": {},
   "outputs": [
    {
     "data": {
      "image/png": "[encoded data removed]",
      "text/plain": [
       "<Figure size 432x288 with 1 Axes>"
      ]
     },
     "metadata": {},
     "output_type": "display_data"
    }
   ],
   "source": [
    "import matplotlib.pyplot as plt\n",
    "nx.draw(G)\n",
    "plt.show()"
   ]
  },
  {
   "cell_type": "code",
   "execution_count": 2,
   "metadata": {},
   "outputs": [
    {
     "ename": "SpotifyException",
     "evalue": "http status: 401, code:-1 - https://api.spotify.com/v1/search?q=weezer&limit=20&offset=0&type=track:\n No token provided",
     "output_type": "error",
     "traceback": [
      "\u001b[0;31m---------------------------------------------------------------------------\u001b[0m",
      "\u001b[0;31mHTTPError\u001b[0m                                 Traceback (most recent call last)",
      "\u001b[0;32m/usr/local/Cellar/python/3.7.3/Frameworks/Python.framework/Versions/3.7/lib/python3.7/site-packages/spotipy/client.py\u001b[0m in \u001b[0;36m_internal_call\u001b[0;34m(self, method, url, payload, params)\u001b[0m\n\u001b[1;32m    118\u001b[0m         \u001b[0;32mtry\u001b[0m\u001b[0;34m:\u001b[0m\u001b[0;34m\u001b[0m\u001b[0;34m\u001b[0m\u001b[0m\n\u001b[0;32m--> 119\u001b[0;31m             \u001b[0mr\u001b[0m\u001b[0;34m.\u001b[0m\u001b[0mraise_for_status\u001b[0m\u001b[0;34m(\u001b[0m\u001b[0;34m)\u001b[0m\u001b[0;34m\u001b[0m\u001b[0;34m\u001b[0m\u001b[0m\n\u001b[0m\u001b[1;32m    120\u001b[0m         \u001b[0;32mexcept\u001b[0m\u001b[0;34m:\u001b[0m\u001b[0;34m\u001b[0m\u001b[0;34m\u001b[0m\u001b[0m\n",
      "\u001b[0;32m/usr/local/Cellar/python/3.7.3/Frameworks/Python.framework/Versions/3.7/lib/python3.7/site-packages/requests/models.py\u001b[0m in \u001b[0;36mraise_for_status\u001b[0;34m(self)\u001b[0m\n\u001b[1;32m    939\u001b[0m         \u001b[0;32mif\u001b[0m \u001b[0mhttp_error_msg\u001b[0m\u001b[0;34m:\u001b[0m\u001b[0;34m\u001b[0m\u001b[0;34m\u001b[0m\u001b[0m\n\u001b[0;32m--> 940\u001b[0;31m             \u001b[0;32mraise\u001b[0m \u001b[0mHTTPError\u001b[0m\u001b[0;34m(\u001b[0m\u001b[0mhttp_error_msg\u001b[0m\u001b[0;34m,\u001b[0m \u001b[0mresponse\u001b[0m\u001b[0;34m=\u001b[0m\u001b[0mself\u001b[0m\u001b[0;34m)\u001b[0m\u001b[0;34m\u001b[0m\u001b[0;34m\u001b[0m\u001b[0m\n\u001b[0m\u001b[1;32m    941\u001b[0m \u001b[0;34m\u001b[0m\u001b[0m\n",
      "\u001b[0;31mHTTPError\u001b[0m: 401 Client Error: Unauthorized for url: https://api.spotify.com/v1/search?q=weezer&limit=20&offset=0&type=track",
      "\nDuring handling of the above exception, another exception occurred:\n",
      "\u001b[0;31mSpotifyException\u001b[0m                          Traceback (most recent call last)",
      "\u001b[0;32m<ipython-input-2-f1726711fe71>\u001b[0m in \u001b[0;36m<module>\u001b[0;34m\u001b[0m\n\u001b[1;32m      2\u001b[0m \u001b[0msp\u001b[0m \u001b[0;34m=\u001b[0m \u001b[0mspotipy\u001b[0m\u001b[0;34m.\u001b[0m\u001b[0mSpotify\u001b[0m\u001b[0;34m(\u001b[0m\u001b[0;34m)\u001b[0m\u001b[0;34m\u001b[0m\u001b[0;34m\u001b[0m\u001b[0m\n\u001b[1;32m      3\u001b[0m \u001b[0;34m\u001b[0m\u001b[0m\n\u001b[0;32m----> 4\u001b[0;31m \u001b[0mresults\u001b[0m \u001b[0;34m=\u001b[0m \u001b[0msp\u001b[0m\u001b[0;34m.\u001b[0m\u001b[0msearch\u001b[0m\u001b[0;34m(\u001b[0m\u001b[0mq\u001b[0m\u001b[0;34m=\u001b[0m\u001b[0;34m'weezer'\u001b[0m\u001b[0;34m,\u001b[0m \u001b[0mlimit\u001b[0m\u001b[0;34m=\u001b[0m\u001b[0;36m20\u001b[0m\u001b[0;34m)\u001b[0m\u001b[0;34m\u001b[0m\u001b[0;34m\u001b[0m\u001b[0m\n\u001b[0m\u001b[1;32m      5\u001b[0m \u001b[0;32mfor\u001b[0m \u001b[0mi\u001b[0m\u001b[0;34m,\u001b[0m \u001b[0mt\u001b[0m \u001b[0;32min\u001b[0m \u001b[0menumerate\u001b[0m\u001b[0;34m(\u001b[0m\u001b[0mresults\u001b[0m\u001b[0;34m[\u001b[0m\u001b[0;34m'tracks'\u001b[0m\u001b[0;34m]\u001b[0m\u001b[0;34m[\u001b[0m\u001b[0;34m'items'\u001b[0m\u001b[0;34m]\u001b[0m\u001b[0;34m)\u001b[0m\u001b[0;34m:\u001b[0m\u001b[0;34m\u001b[0m\u001b[0;34m\u001b[0m\u001b[0m\n\u001b[1;32m      6\u001b[0m     \u001b[0mprint\u001b[0m\u001b[0;34m(\u001b[0m\u001b[0;34m' '\u001b[0m\u001b[0;34m,\u001b[0m \u001b[0mi\u001b[0m\u001b[0;34m,\u001b[0m \u001b[0mt\u001b[0m\u001b[0;34m[\u001b[0m\u001b[0;34m'name'\u001b[0m\u001b[0;34m]\u001b[0m\u001b[0;34m)\u001b[0m\u001b[0;34m\u001b[0m\u001b[0;34m\u001b[0m\u001b[0m\n",
      "\u001b[0;32m/usr/local/Cellar/python/3.7.3/Frameworks/Python.framework/Versions/3.7/lib/python3.7/site-packages/spotipy/client.py\u001b[0m in \u001b[0;36msearch\u001b[0;34m(self, q, limit, offset, type, market)\u001b[0m\n\u001b[1;32m    337\u001b[0m                 \u001b[0;34m-\u001b[0m \u001b[0mmarket\u001b[0m \u001b[0;34m-\u001b[0m \u001b[0mAn\u001b[0m \u001b[0mISO\u001b[0m \u001b[0;36m3166\u001b[0m\u001b[0;34m-\u001b[0m\u001b[0;36m1\u001b[0m \u001b[0malpha\u001b[0m\u001b[0;34m-\u001b[0m\u001b[0;36m2\u001b[0m \u001b[0mcountry\u001b[0m \u001b[0mcode\u001b[0m \u001b[0;32mor\u001b[0m \u001b[0mthe\u001b[0m \u001b[0mstring\u001b[0m \u001b[0mfrom_token\u001b[0m\u001b[0;34m.\u001b[0m\u001b[0;34m\u001b[0m\u001b[0;34m\u001b[0m\u001b[0m\n\u001b[1;32m    338\u001b[0m         '''\n\u001b[0;32m--> 339\u001b[0;31m         \u001b[0;32mreturn\u001b[0m \u001b[0mself\u001b[0m\u001b[0;34m.\u001b[0m\u001b[0m_get\u001b[0m\u001b[0;34m(\u001b[0m\u001b[0;34m'search'\u001b[0m\u001b[0;34m,\u001b[0m \u001b[0mq\u001b[0m\u001b[0;34m=\u001b[0m\u001b[0mq\u001b[0m\u001b[0;34m,\u001b[0m \u001b[0mlimit\u001b[0m\u001b[0;34m=\u001b[0m\u001b[0mlimit\u001b[0m\u001b[0;34m,\u001b[0m \u001b[0moffset\u001b[0m\u001b[0;34m=\u001b[0m\u001b[0moffset\u001b[0m\u001b[0;34m,\u001b[0m \u001b[0mtype\u001b[0m\u001b[0;34m=\u001b[0m\u001b[0mtype\u001b[0m\u001b[0;34m,\u001b[0m \u001b[0mmarket\u001b[0m\u001b[0;34m=\u001b[0m\u001b[0mmarket\u001b[0m\u001b[0;34m)\u001b[0m\u001b[0;34m\u001b[0m\u001b[0;34m\u001b[0m\u001b[0m\n\u001b[0m\u001b[1;32m    340\u001b[0m \u001b[0;34m\u001b[0m\u001b[0m\n\u001b[1;32m    341\u001b[0m     \u001b[0;32mdef\u001b[0m \u001b[0muser\u001b[0m\u001b[0;34m(\u001b[0m\u001b[0mself\u001b[0m\u001b[0;34m,\u001b[0m \u001b[0muser\u001b[0m\u001b[0;34m)\u001b[0m\u001b[0;34m:\u001b[0m\u001b[0;34m\u001b[0m\u001b[0;34m\u001b[0m\u001b[0m\n",
      "\u001b[0;32m/usr/local/Cellar/python/3.7.3/Frameworks/Python.framework/Versions/3.7/lib/python3.7/site-packages/spotipy/client.py\u001b[0m in \u001b[0;36m_get\u001b[0;34m(self, url, args, payload, **kwargs)\u001b[0m\n\u001b[1;32m    144\u001b[0m         \u001b[0;32mwhile\u001b[0m \u001b[0mretries\u001b[0m \u001b[0;34m>\u001b[0m \u001b[0;36m0\u001b[0m\u001b[0;34m:\u001b[0m\u001b[0;34m\u001b[0m\u001b[0;34m\u001b[0m\u001b[0m\n\u001b[1;32m    145\u001b[0m             \u001b[0;32mtry\u001b[0m\u001b[0;34m:\u001b[0m\u001b[0;34m\u001b[0m\u001b[0;34m\u001b[0m\u001b[0m\n\u001b[0;32m--> 146\u001b[0;31m                 \u001b[0;32mreturn\u001b[0m \u001b[0mself\u001b[0m\u001b[0;34m.\u001b[0m\u001b[0m_internal_call\u001b[0m\u001b[0;34m(\u001b[0m\u001b[0;34m'GET'\u001b[0m\u001b[0;34m,\u001b[0m \u001b[0murl\u001b[0m\u001b[0;34m,\u001b[0m \u001b[0mpayload\u001b[0m\u001b[0;34m,\u001b[0m \u001b[0mkwargs\u001b[0m\u001b[0;34m)\u001b[0m\u001b[0;34m\u001b[0m\u001b[0;34m\u001b[0m\u001b[0m\n\u001b[0m\u001b[1;32m    147\u001b[0m             \u001b[0;32mexcept\u001b[0m \u001b[0mSpotifyException\u001b[0m \u001b[0;32mas\u001b[0m \u001b[0me\u001b[0m\u001b[0;34m:\u001b[0m\u001b[0;34m\u001b[0m\u001b[0;34m\u001b[0m\u001b[0m\n\u001b[1;32m    148\u001b[0m                 \u001b[0mretries\u001b[0m \u001b[0;34m-=\u001b[0m \u001b[0;36m1\u001b[0m\u001b[0;34m\u001b[0m\u001b[0;34m\u001b[0m\u001b[0m\n",
      "\u001b[0;32m/usr/local/Cellar/python/3.7.3/Frameworks/Python.framework/Versions/3.7/lib/python3.7/site-packages/spotipy/client.py\u001b[0m in \u001b[0;36m_internal_call\u001b[0;34m(self, method, url, payload, params)\u001b[0m\n\u001b[1;32m    122\u001b[0m                 raise SpotifyException(r.status_code,\n\u001b[1;32m    123\u001b[0m                     \u001b[0;34m-\u001b[0m\u001b[0;36m1\u001b[0m\u001b[0;34m,\u001b[0m \u001b[0;34m'%s:\\n %s'\u001b[0m \u001b[0;34m%\u001b[0m \u001b[0;34m(\u001b[0m\u001b[0mr\u001b[0m\u001b[0;34m.\u001b[0m\u001b[0murl\u001b[0m\u001b[0;34m,\u001b[0m \u001b[0mr\u001b[0m\u001b[0;34m.\u001b[0m\u001b[0mjson\u001b[0m\u001b[0;34m(\u001b[0m\u001b[0;34m)\u001b[0m\u001b[0;34m[\u001b[0m\u001b[0;34m'error'\u001b[0m\u001b[0;34m]\u001b[0m\u001b[0;34m[\u001b[0m\u001b[0;34m'message'\u001b[0m\u001b[0;34m]\u001b[0m\u001b[0;34m)\u001b[0m\u001b[0;34m,\u001b[0m\u001b[0;34m\u001b[0m\u001b[0;34m\u001b[0m\u001b[0m\n\u001b[0;32m--> 124\u001b[0;31m                     headers=r.headers)\n\u001b[0m\u001b[1;32m    125\u001b[0m             \u001b[0;32melse\u001b[0m\u001b[0;34m:\u001b[0m\u001b[0;34m\u001b[0m\u001b[0;34m\u001b[0m\u001b[0m\n\u001b[1;32m    126\u001b[0m                 raise SpotifyException(r.status_code,\n",
      "\u001b[0;31mSpotifyException\u001b[0m: http status: 401, code:-1 - https://api.spotify.com/v1/search?q=weezer&limit=20&offset=0&type=track:\n No token provided"
     ]
    }
   ],
   "source": [
    "import spotipy\n",
    "sp = spotipy.Spotify()\n",
    "\n",
    "results = sp.search(q='weezer', limit=20)\n",
    "for i, t in enumerate(results['tracks']['items']):\n",
    "    print(' ', i, t['name'])"
   ]
  },
  {
   "cell_type": "code",
   "execution_count": null,
   "metadata": {},
   "outputs": [],
   "source": []
  }
 ],
 "metadata": {
  "colab": {
   "collapsed_sections": [],
   "name": "Proposal_Lastname_Firstname.ipynb",
   "provenance": [],
   "toc_visible": true
  },
  "kernelspec": {
   "display_name": "Python 3",
   "language": "python",
   "name": "python3"
  },
  "language_info": {
   "codemirror_mode": {
    "name": "ipython",
    "version": 3
   },
   "file_extension": ".py",
   "mimetype": "text/x-python",
   "name": "python",
   "nbconvert_exporter": "python",
   "pygments_lexer": "ipython3",
   "version": "3.7.3"
  }
 },
 "nbformat": 4,
 "nbformat_minor": 1
}
